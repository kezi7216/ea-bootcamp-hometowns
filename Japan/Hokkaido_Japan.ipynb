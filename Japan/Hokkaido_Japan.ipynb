{
 "cells": [
  {
   "cell_type": "markdown",
   "metadata": {},
   "source": [
    "# Hokkaido, Japan\n",
    "\n",
    "### 43.067°N, 141.350°E (City Sapporo)\n",
    "\n",
    "### Population: 5,281,297 (2019) [_Data Source_](https://en.wikipedia.org/wiki/Hokkaido)\n",
    "\n",
    "### Landmark: Daisetsuzan National Park\n",
    "This is a beautiful national park located in the center of Hokkaido, which is the northern island of Japan. In the park there are several mountains including the tallest mountain on the island, Mt. Asahi. The park also contains a high moor, geothermally warmed hot springs, alpine ecology, and a caldera.\n",
    "\n",
    "The images below include a map showing the highlights of Daisetsuzan National Park, a mountain looking over Kogan-numa Pond, *Lagotis yesoensis tatew* in the alpine meadow, and the Ezo Red Fox (*Vulpes vulpes schrencki*).\n",
    "\n",
    "![image](http://www.env.go.jp/en/nature/nps/park/daisetsu/images/05daisetsu.jpg)\n",
    "\n",
    "![image](http://www.env.go.jp/park/daisetsu/guide/img/M07.jpg)\n",
    "\n",
    "![image](http://www.env.go.jp/park/daisetsu/guide/img/M16.jpg)\n",
    "\n",
    "![image](http://www.env.go.jp/park/daisetsu/guide/img/M22.jpg)\n",
    "\n",
    "[_Images Source_](http://www.env.go.jp/en/nature/nps/park/daisetsu/guide/view.html)"
   ]
  }
 ],
 "metadata": {
  "kernelspec": {
   "display_name": "Python 3",
   "language": "python",
   "name": "python3"
  },
  "language_info": {
   "codemirror_mode": {
    "name": "ipython",
    "version": 3
   },
   "file_extension": ".py",
   "mimetype": "text/x-python",
   "name": "python",
   "nbconvert_exporter": "python",
   "pygments_lexer": "ipython3",
   "version": "3.7.8"
  }
 },
 "nbformat": 4,
 "nbformat_minor": 4
}
