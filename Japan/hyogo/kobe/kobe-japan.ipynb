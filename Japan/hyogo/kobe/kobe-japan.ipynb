{
 "cells": [
  {
   "cell_type": "markdown",
   "id": "27994367-a833-4e7f-a88c-58efceb23815",
   "metadata": {},
   "source": [
    "## Location\n",
    "34°41′24″N, 135°11′44″E\n",
    "\n",
    "## Population\n",
    "1,537,272\n",
    "Kōbe, Hyōgo Prefecture, Japan - Population per [University of Tokyo UAE (Urban Employment Area) data](http://www.csis.u-tokyo.ac.jp/UEA/uea_code_e.htm)\n",
    "\n",
    "## Landmark\n",
    "![RIKEN Center for Computational Science](https://upload.wikimedia.org/wikipedia/commons/f/fd/RIKEN_AICS_20120810-001.jpg)\n",
    "On Port Island, south of the central Sannomiya Station, is the [RIKEN Center for Computational Science (R-CCS)](https://www.r-ccs.riken.jp/en/) which is home to the Fugaku supercomputer. Fugaku, and its predecessor K Computer, were both featured on the [top500.org](https://top500.org/) list of fastest computers in the world at various points in time.\n",
    "\n",
    "Also notable in Kobe is the [Nada-ku ward](https://en.wikipedia.org/wiki/Nada-ku,_Kobe) of the city, which is a major sake producer for the country. You can find the Sawanotsuru Sake Museum in this ward, which was re-built to be earthquake proof in 1999 following the [Great Hanshin Earthquake](https://en.wikipedia.org/wiki/Great_Hanshin_earthquake) or Kobe Earthquake of 1995."
   ]
  }
 ],
 "metadata": {
  "kernelspec": {
   "display_name": "EA-Course",
   "language": "python",
   "name": "earth-analytics-python"
  },
  "language_info": {
   "codemirror_mode": {
    "name": "ipython",
    "version": 3
   },
   "file_extension": ".py",
   "mimetype": "text/x-python",
   "name": "python",
   "nbconvert_exporter": "python",
   "pygments_lexer": "ipython3",
   "version": "3.8.13"
  }
 },
 "nbformat": 4,
 "nbformat_minor": 5
}
