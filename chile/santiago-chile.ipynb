{
 "cells": [
  {
   "cell_type": "markdown",
   "id": "cd060770",
   "metadata": {},
   "source": [
    "## Location\n",
    "33.4489° S, 70.6693° W\n",
    "\n",
    "## Population\n",
    "6,811,595\n",
    "[source](https://worldpopulationreview.com/world-cities/santiago-population)\n",
    "\n",
    "## Landmark\n",
    "\n",
    "![Santiago, Chile](https://i2.wp.com/handluggageonly.co.uk/wp-content/uploads/2016/12/HandLuggageOnly-20-1.jpg?fit=1600%2C2172&ssl=1)\n",
    "\n",
    "Santiago, Chile is the Capital of Chile. Often used as a gateway to the Pacific Ocean to the west, or the Andean Cordillera to the east, the city is also home to nearly half the population of Chile, with vibrant nightlife, bustling markets, and delicious food destinations."
   ]
  },
  {
   "cell_type": "code",
   "execution_count": null,
   "id": "7fa36162",
   "metadata": {},
   "outputs": [],
   "source": []
  }
 ],
 "metadata": {
  "kernelspec": {
   "display_name": "Python 3 (ipykernel)",
   "language": "python",
   "name": "python3"
  },
  "language_info": {
   "codemirror_mode": {
    "name": "ipython",
    "version": 3
   },
   "file_extension": ".py",
   "mimetype": "text/x-python",
   "name": "python",
   "nbconvert_exporter": "python",
   "pygments_lexer": "ipython3",
   "version": "3.8.10"
  }
 },
 "nbformat": 4,
 "nbformat_minor": 5
}
