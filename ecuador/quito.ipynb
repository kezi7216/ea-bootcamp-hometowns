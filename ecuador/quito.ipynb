{
 "cells": [
  {
   "cell_type": "markdown",
   "metadata": {},
   "source": [
    "# Quito, Ecuador\n",
    "\n",
    "### 0.1807° S, 78.4678° W\n",
    "\n",
    "### Population: 1,874,000 (2020) \n",
    "\n",
    "\n",
    "### Landmark: Mitad Del Mundo \n",
    "\n",
    "![image](https://media-cdn.tripadvisor.com/media/photo-s/11/84/6e/72/mitad-del-mundo.jpg)\n",
    "\n",
    "The Ciudad Mitad del Mundo or Middle of the World City is a tract of land owned by the prefecture of the province of Pichincha, Ecuador. It is located at San Antonio parish of the canton of Quito, 26 km (16 mi) north of the center of Quito. The grounds contain the Monument to the Equator, which highlights the exact location of the Equator (from which the country takes its name) and commemorates the eighteenth century Franco-Spanish Geodesic Mission which fixed its approximate location.\n",
    "\n",
    "[_Pop_Data Source_](https://populationstat.com/ecuador/quito)\n",
    "\n",
    "[_Image Source_](https://media-cdn.tripadvisor.com/media/photo-s/11/84/6e/72/mitad-del-mundo.jpg)\n",
    "\n",
    "[_Text Source_](https://en.wikipedia.org/wiki/Ciudad_Mitad_del_Mundo)"
   ]
  },
  {
   "cell_type": "code",
   "execution_count": null,
   "metadata": {},
   "outputs": [],
   "source": []
  }
 ],
 "metadata": {
  "kernelspec": {
   "display_name": "Python 3",
   "language": "python",
   "name": "python3"
  },
  "language_info": {
   "codemirror_mode": {
    "name": "ipython",
    "version": 3
   },
   "file_extension": ".py",
   "mimetype": "text/x-python",
   "name": "python",
   "nbconvert_exporter": "python",
   "pygments_lexer": "ipython3",
   "version": "3.8.5"
  }
 },
 "nbformat": 4,
 "nbformat_minor": 4
}
