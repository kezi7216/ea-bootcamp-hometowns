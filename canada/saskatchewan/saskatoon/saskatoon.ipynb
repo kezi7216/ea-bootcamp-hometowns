{
 "cells": [
  {
   "cell_type": "markdown",
   "id": "e319c6d2",
   "metadata": {},
   "source": [
    "## Location\n",
    "52.1579° N, 106.6702° W\n",
    "## Population\n",
    "246,376 [Source](https://en.wikipedia.org/wiki/Saskatoon)\n",
    "## Landmark\n",
    "Remai Modern is an art gallery in Saskatoon, SK\n",
    "![remai](https://i.cbc.ca/1.4369702.1515893997!/fileImage/httpImage/image.jpg_gen/derivatives/16x9_780/remai-modern-exterior-fall-2017.jpg)"
   ]
  },
  {
   "cell_type": "code",
   "execution_count": null,
   "id": "23c9110b",
   "metadata": {},
   "outputs": [],
   "source": []
  }
 ],
 "metadata": {
  "kernelspec": {
   "display_name": "Python 3 (ipykernel)",
   "language": "python",
   "name": "python3"
  },
  "language_info": {
   "codemirror_mode": {
    "name": "ipython",
    "version": 3
   },
   "file_extension": ".py",
   "mimetype": "text/x-python",
   "name": "python",
   "nbconvert_exporter": "python",
   "pygments_lexer": "ipython3",
   "version": "3.8.10"
  }
 },
 "nbformat": 4,
 "nbformat_minor": 5
}
