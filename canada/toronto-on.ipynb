{
 "cells": [
  {
   "cell_type": "markdown",
   "metadata": {},
   "source": [
    "## Toronto City  \n",
    "\n",
    "---\n",
    "\n",
    "### Latitude and Longitude  \n",
    "43.6532° N, 79.3832° W\n",
    "\n",
    "\n",
    "### Population  \n",
    "2,731,571\n",
    "\n",
    "Source: [Statistics Canada](https://www12.statcan.gc.ca/census-recensement/index-eng.cfm?MM=1)\n",
    "\n",
    "\n",
    "### Landmark  \n",
    "Humber River \n",
    "\n",
    "<a href=\"https://en.wikipedia.org/wiki/Humber_River_%28Ontario%29#/media/File:The_Short_Portage_-_The_Carrying_Place,_La_Salle_on_the_way_over_the_Humber.jpg\" target=\"_blank\">The Short Portage - The Carrying Place, La Salle on the way over the Humber</a>\n",
    "\n",
    "\n",
    "The Humber River, designated a Canadian Heritage River in 1999, is the largest river system in the Toronto region covering 903 square kilometres. The watershed was home to First Nations People 12,000 years ago and an stablished major trade route along the river corridor to the Canadian interior, later called the Toronto Carrying-Place trail by European settlers. Today, the Humber provides recreational and educational opportunities for thousands of people of many different cultures. \n",
    "\n",
    "\n"
   ]
  }
 ],
 "metadata": {
  "kernelspec": {
   "display_name": "Python 3",
   "language": "python",
   "name": "python3"
  },
  "language_info": {
   "codemirror_mode": {
    "name": "ipython",
    "version": 3
   },
   "file_extension": ".py",
   "mimetype": "text/x-python",
   "name": "python",
   "nbconvert_exporter": "python",
   "pygments_lexer": "ipython3",
   "version": "3.8.5"
  }
 },
 "nbformat": 4,
 "nbformat_minor": 4
}
