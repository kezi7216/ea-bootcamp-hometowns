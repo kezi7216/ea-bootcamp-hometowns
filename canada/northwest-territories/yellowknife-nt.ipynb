{
 "cells": [
  {
   "cell_type": "markdown",
   "metadata": {},
   "source": [
    "## Yellowknife,  Northwest Territories, Canada   [(62°26′32″N 114°23′41″W)](https://www.google.com/maps/place/62%C2%B026'32.0%22N+114%C2%B023'41.0%22W/@62.442222,-114.394722,13z/data=!4m5!3m4!1s0x0:0x0!8m2!3d62.442222!4d-114.394722?hl=en)\n",
    "\n",
    "### Population:  [19,569](https://en.wikipedia.org/wiki/Yellowknife) \n",
    "\n",
    "#### Yellowknife is an amazing place. It is the biggest place in all of Canada's Arctic yet it is only just under 20,000 people. It has a very diverse population with tempuratures ranging in summer from 75 degrees to -40 degrees degrees (and that is before windchill). Cold but a truly unique and amazing place, especially when the Northern Lights are out. \n",
    "\n",
    "![Yellowknife Image](https://upload.wikimedia.org/wikipedia/commons/thumb/e/e5/Downtown_Yellowknife_2.jpg/800px-Downtown_Yellowknife_2.jpg)\n",
    "\n",
    "\n",
    "![Northern Lights](https://yellowknifetours.com/wp-content/uploads/2018/07/yellowknife-home-d1.jpg)\n"
   ]
  },
  {
   "cell_type": "code",
   "execution_count": null,
   "metadata": {},
   "outputs": [],
   "source": []
  }
 ],
 "metadata": {
  "kernelspec": {
   "display_name": "Python 3",
   "language": "python",
   "name": "python3"
  },
  "language_info": {
   "codemirror_mode": {
    "name": "ipython",
    "version": 3
   },
   "file_extension": ".py",
   "mimetype": "text/x-python",
   "name": "python",
   "nbconvert_exporter": "python",
   "pygments_lexer": "ipython3",
   "version": "3.8.5"
  }
 },
 "nbformat": 4,
 "nbformat_minor": 4
}
