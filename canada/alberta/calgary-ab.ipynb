{
 "cells": [
  {
   "cell_type": "markdown",
   "metadata": {},
   "source": [
    "## Calgary,  Alberta, Canada   [(51°03′N 114°04′W)](https://www.google.com/maps?ll=51.05,-114.066667&q=51.05,-114.066667&hl=en&t=m&z=12)\n",
    "\n",
    "### Population:  Urban: [1,237,656](https://en.wikipedia.org/wiki/Calgary) and Metro: [1,392,609](https://en.wikipedia.org/wiki/Calgary)\n",
    "\n",
    "#### One of Calgary's most popular landmarks is the <a href=\"https://www.great-towers.com/tower/calgary-tower\" target=\"_blank\">Calgary Tower</a> which was built in 1968 and stands at a impressive 626 ft.\n",
    "\n",
    "![Calgary Tower Image](https://www.great-towers.com/sites/default/files/2019-05/tower_1.jpg)\n"
   ]
  },
  {
   "cell_type": "code",
   "execution_count": null,
   "metadata": {},
   "outputs": [],
   "source": []
  }
 ],
 "metadata": {
  "kernelspec": {
   "display_name": "Python 3",
   "language": "python",
   "name": "python3"
  },
  "language_info": {
   "codemirror_mode": {
    "name": "ipython",
    "version": 3
   },
   "file_extension": ".py",
   "mimetype": "text/x-python",
   "name": "python",
   "nbconvert_exporter": "python",
   "pygments_lexer": "ipython3",
   "version": "3.8.5"
  }
 },
 "nbformat": 4,
 "nbformat_minor": 4
}
