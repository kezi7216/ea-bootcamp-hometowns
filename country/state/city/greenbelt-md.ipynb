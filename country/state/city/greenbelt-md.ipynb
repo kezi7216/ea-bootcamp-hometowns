{
 "cells": [
  {
   "cell_type": "markdown",
   "id": "53e5586e",
   "metadata": {},
   "source": [
    "# Location\n",
    "## Greenbelt, MD, USA\n",
    "- Latitude = 39.0046° N\n",
    "- Longitude = 76.8755° W"
   ]
  },
  {
   "cell_type": "markdown",
   "id": "3ec059ff",
   "metadata": {},
   "source": [
    "# Population\n",
    "- 23,224 (2019 US Census)\n",
    "- Source: https://www.census.gov/quickfacts/fact/table/greenbeltcitymaryland/POP060210"
   ]
  },
  {
   "attachments": {},
   "cell_type": "markdown",
   "id": "10121dd9",
   "metadata": {},
   "source": [
    "# Landmark\n",
    "\n",
    "In Greenbelt's historic Roosevelt Center mall stands Lenore Thomas Straus \"Mother and Child\" statue. This sculpture was commissioned in 1939 by the Works Progress Administration (a New Deal public works agency)and shows a mother giving her child a drink of water.\n",
    "\n",
    "Source: https://en.wikipedia.org/wiki/Greenbelt_Historic_District#/media/File:Mother_and_Child_Jan_09.JPG\n",
    "<img src=\"800px-Mother_and_Child_Jan_09.jpeg\" alt=\"Mother and Child\" width=\"400\">"
   ]
  },
  {
   "cell_type": "code",
   "execution_count": null,
   "id": "a04be2f3",
   "metadata": {},
   "outputs": [],
   "source": []
  }
 ],
 "metadata": {
  "kernelspec": {
   "display_name": "Python 3 (ipykernel)",
   "language": "python",
   "name": "python3"
  },
  "language_info": {
   "codemirror_mode": {
    "name": "ipython",
    "version": 3
   },
   "file_extension": ".py",
   "mimetype": "text/x-python",
   "name": "python",
   "nbconvert_exporter": "python",
   "pygments_lexer": "ipython3",
   "version": "3.8.10"
  }
 },
 "nbformat": 4,
 "nbformat_minor": 5
}
