{
 "cells": [
  {
   "cell_type": "markdown",
   "id": "953c655e",
   "metadata": {},
   "source": [
    "# Location\n",
    "## Boulder, Colorado, USA\n",
    "- Latitude = 40.0150° N\n",
    "-  Longitude = 105.2705° W"
   ]
  },
  {
   "cell_type": "markdown",
   "id": "04ae4d54",
   "metadata": {},
   "source": [
    "# Population\n",
    "-  330,758 (2020 US Census)\n",
    "-  Source: https://data.census.gov/cedsci/table?q=boulder,%20co&tid=DECENNIALPL2020.P1"
   ]
  },
  {
   "cell_type": "markdown",
   "id": "52e1b178",
   "metadata": {},
   "source": [
    "# Landmark\n",
    "\n",
    "\n",
    "The Mesa Laboratory of NCAR (National Center for Atmospheric Research) is nestled in the foothills of the Flatirons and is a highly visible landmark. The main building was designed by architect I. M. Pei in 1961. It has been noted for its Anasazi-inspired architecture and use of bush-hammered concrete to blend into the surrounding area. (Source: https://upload.wikimedia.org/wikipedia/commons/3/31/National_Center_for_Atmospheric_Research_-_Boulder%2C_Colorado.jpg)\n",
    "\n",
    "![Pearl Street Mall](National_Center_for_Atmospheric_Research_-_Boulder,_Colorado.jpg \"Pearl Strret Mall\")\n"
   ]
  },
  {
   "cell_type": "code",
   "execution_count": null,
   "id": "97b612c7",
   "metadata": {},
   "outputs": [],
   "source": []
  }
 ],
 "metadata": {
  "kernelspec": {
   "display_name": "Python 3 (ipykernel)",
   "language": "python",
   "name": "python3"
  },
  "language_info": {
   "codemirror_mode": {
    "name": "ipython",
    "version": 3
   },
   "file_extension": ".py",
   "mimetype": "text/x-python",
   "name": "python",
   "nbconvert_exporter": "python",
   "pygments_lexer": "ipython3",
   "version": "3.8.10"
  }
 },
 "nbformat": 4,
 "nbformat_minor": 5
}
