{
 "cells": [
  {
   "cell_type": "markdown",
   "id": "c5a3badd",
   "metadata": {},
   "source": [
    "# Location\n",
    "16.8152° N, 88.0818° W\n",
    "\n",
    "# Population\n",
    "This is an island located in a marine reserve, it's not technically a city so they don't record the low population value. The reserve lies within the city of Dangriga, which had a population of 9,583 in 2010 according to the [Statistical Institute of Belize](https://cf.bstatic.com/xdata/images/hotel/max1024x768/315565376.jpg?k=c2eb28e04d5773135ad1eccec74d16ac0bea825cebcc5f354129908fd462d536&o=&hp=1)\n",
    "\n",
    "# Landmark\n",
    "This is the Pelican Beach Resort, a major source of income for the marine reserve. ![Pelican Beach Resort](https://cf.bstatic.com/xdata/images/hotel/max1024x768/315565376.jpg?k=c2eb28e04d5773135ad1eccec74d16ac0bea825cebcc5f354129908fd462d536&o=&hp=1)"
   ]
  },
  {
   "cell_type": "code",
   "execution_count": null,
   "id": "868f623b",
   "metadata": {},
   "outputs": [],
   "source": []
  }
 ],
 "metadata": {
  "kernelspec": {
   "display_name": "Python 3 (ipykernel)",
   "language": "python",
   "name": "python3"
  },
  "language_info": {
   "codemirror_mode": {
    "name": "ipython",
    "version": 3
   },
   "file_extension": ".py",
   "mimetype": "text/x-python",
   "name": "python",
   "nbconvert_exporter": "python",
   "pygments_lexer": "ipython3",
   "version": "3.8.13"
  }
 },
 "nbformat": 4,
 "nbformat_minor": 5
}
