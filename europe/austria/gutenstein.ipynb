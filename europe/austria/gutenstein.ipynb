{
 "cells": [
  {
   "cell_type": "markdown",
   "metadata": {},
   "source": [
    "# Lat/Long\n",
    "\n",
    "47.8765° N, 15.8906° E"
   ]
  },
  {
   "cell_type": "markdown",
   "metadata": {},
   "source": [
    "# Population\n",
    "\n",
    "[1,261](https://en.wikipedia.org/wiki/Gutenstein,_Austria)"
   ]
  },
  {
   "cell_type": "markdown",
   "metadata": {},
   "source": [
    "# Local Landmark: \n",
    "\n",
    "![Kirche](https://upload.wikimedia.org/wikipedia/commons/thumb/b/b3/Mariahilfberg_%28Gutenstein%29_-_Kirche.JPG/982px-Mariahilfberg_%28Gutenstein%29_-_Kirche.JPG)\n",
    "\n",
    "Atop one of Gutenstein's alpine foothills, Mariahilfberg, sits a Catholic church. Built in the late 1600s, it remains today as a monastary, church, and popular pilgramage site. A steep trail known as the Wurzelweg, or 'root path,' leads from the bottom of Mariahilfberg to the holy sites at the top. The church is surrounded by multiple wooded trails that lead pilgrims through religious stations, giving them a chance to pay homage to different Catholic saints. Near the monestary are a variety of guesthouses that offer traditional Austrian food, drink, and lodging. "
   ]
  }
 ],
 "metadata": {
  "kernelspec": {
   "display_name": "Python 3",
   "language": "python",
   "name": "python3"
  },
  "language_info": {
   "codemirror_mode": {
    "name": "ipython",
    "version": 3
   },
   "file_extension": ".py",
   "mimetype": "text/x-python",
   "name": "python",
   "nbconvert_exporter": "python",
   "pygments_lexer": "ipython3",
   "version": "3.7.8"
  }
 },
 "nbformat": 4,
 "nbformat_minor": 4
}
