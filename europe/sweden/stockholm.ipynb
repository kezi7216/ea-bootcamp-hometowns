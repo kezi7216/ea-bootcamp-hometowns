{
 "cells": [
  {
   "cell_type": "markdown",
   "metadata": {},
   "source": [
    "## Stockholm, Sweden 59.329444 N, 18.068611 E\n",
    "\n",
    "## Population: 978,770 (2021)\n",
    "This population estimate is from the the Stockholm wikipedia entry <a href=\"https://en.wikipedia.org/wiki/Stockholm\" target=\"_blank\">click this to go there now</a>.\n",
    "\n",
    "## Landmark: City Hall \n",
    "![\"City Hall\"](https://blog.radissonblu.com/wp-content/uploads/2015/06/Stockholm-City-Hall.jpg)"
   ]
  },
  {
   "cell_type": "code",
   "execution_count": null,
   "metadata": {},
   "outputs": [],
   "source": []
  }
 ],
 "metadata": {
  "kernelspec": {
   "display_name": "Python 3.10.6 64-bit",
   "language": "python",
   "name": "python3"
  },
  "language_info": {
   "codemirror_mode": {
    "name": "ipython",
    "version": 3
   },
   "file_extension": ".py",
   "mimetype": "text/x-python",
   "name": "python",
   "nbconvert_exporter": "python",
   "pygments_lexer": "ipython3",
   "version": "3.10.6"
  },
  "orig_nbformat": 4,
  "vscode": {
   "interpreter": {
    "hash": "b0fa6594d8f4cbf19f97940f81e996739fb7646882a419484c72d19e05852a7e"
   }
  }
 },
 "nbformat": 4,
 "nbformat_minor": 2
}
