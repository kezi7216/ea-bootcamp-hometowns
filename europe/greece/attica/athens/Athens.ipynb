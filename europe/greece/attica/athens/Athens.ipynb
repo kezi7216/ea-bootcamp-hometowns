{
 "cells": [
  {
   "cell_type": "markdown",
   "id": "daba0856",
   "metadata": {},
   "source": [
    "# Athens, Greece\n",
    "\n",
    "## Location\n",
    "### 37.9838° N, 23.7275° E\n",
    "\n",
    "## Population\n",
    "### 3,153,781 [World Population Review](https://worldpopulationreview.com/world-cities/athens-population)\n",
    "\n",
    "## Landmark\n",
    "### Acropolis of Athens ![Acropolis of Athens](https://images.prismic.io/mystique/c38807f3-6ca3-4717-a254-a135b8edb2f5_acropolis+9.webp?auto=compress%2Cformat&h=573&q=75&fit=crop&ar=14%3A9&fm=webp)\n",
    "\n",
    "The Acropolis of Athens is an ancient citadel located on a rocky outcrop above the city of Athens and contains the remains of several ancient buildings of architectural and historical significance, the most famous being the Parthenon. While there is evidence that the hill was inhabited as far back as the fourth millennium BC, it was Pericles (c. 495–429 BC) in the fifth century BC who coordinated the construction of the buildings whose present remains are the site's most important ones, including the Parthenon, the Propylaea, the Erechtheion and the Temple of Athena Nike. [Wikipedia, Acropolis of Athens](https://en.wikipedia.org/wiki/Acropolis_of_Athens)"
   ]
  },
  {
   "cell_type": "code",
   "execution_count": null,
   "id": "0d47b4a8",
   "metadata": {},
   "outputs": [],
   "source": []
  }
 ],
 "metadata": {
  "kernelspec": {
   "display_name": "Python 3",
   "language": "python",
   "name": "python3"
  },
  "language_info": {
   "codemirror_mode": {
    "name": "ipython",
    "version": 3
   },
   "file_extension": ".py",
   "mimetype": "text/x-python",
   "name": "python",
   "nbconvert_exporter": "python",
   "pygments_lexer": "ipython3",
   "version": "3.9.13"
  }
 },
 "nbformat": 4,
 "nbformat_minor": 5
}
