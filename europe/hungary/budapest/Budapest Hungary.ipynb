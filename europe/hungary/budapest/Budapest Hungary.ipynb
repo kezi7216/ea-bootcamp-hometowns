{
 "cells": [
  {
   "cell_type": "markdown",
   "id": "51e38db7",
   "metadata": {},
   "source": [
    "# Location\n",
    "47.498142° N, 19.040552° E\n",
    "\n",
    "# Population \n",
    "1,775,207 in 2022, according to the [World Population Review](https://worldpopulationreview.com/world-cities/budapest-population)\n",
    "\n",
    "# Landmark\n",
    "Budapest has the most gorgeous views along the Danube!\n",
    "![Lanchid es a vasar!](https://picssmine.com/wp-content/uploads/2020/04/78986024_2308822622743006_2957745872445017675_n.jpg)"
   ]
  },
  {
   "cell_type": "code",
   "execution_count": null,
   "id": "f9cba5ff",
   "metadata": {},
   "outputs": [],
   "source": []
  }
 ],
 "metadata": {
  "kernelspec": {
   "display_name": "Python 3 (ipykernel)",
   "language": "python",
   "name": "python3"
  },
  "language_info": {
   "codemirror_mode": {
    "name": "ipython",
    "version": 3
   },
   "file_extension": ".py",
   "mimetype": "text/x-python",
   "name": "python",
   "nbconvert_exporter": "python",
   "pygments_lexer": "ipython3",
   "version": "3.8.13"
  },
  "varInspector": {
   "cols": {
    "lenName": 16,
    "lenType": 16,
    "lenVar": 40
   },
   "kernels_config": {
    "python": {
     "delete_cmd_postfix": "",
     "delete_cmd_prefix": "del ",
     "library": "var_list.py",
     "varRefreshCmd": "print(var_dic_list())"
    },
    "r": {
     "delete_cmd_postfix": ") ",
     "delete_cmd_prefix": "rm(",
     "library": "var_list.r",
     "varRefreshCmd": "cat(var_dic_list()) "
    }
   },
   "types_to_exclude": [
    "module",
    "function",
    "builtin_function_or_method",
    "instance",
    "_Feature"
   ],
   "window_display": true
  }
 },
 "nbformat": 4,
 "nbformat_minor": 5
}
