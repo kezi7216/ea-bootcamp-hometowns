{
 "cells": [
  {
   "cell_type": "markdown",
   "metadata": {},
   "source": [
    "# Tehran, Iran\n",
    "\n",
    "### 35.6892° N, 51.3890° E\n",
    "\n",
    "### Population: 9,134,708 (2020) \n",
    "\n",
    "\n",
    "### Landmark: Grand Bazaar \n",
    "![image](https://upload.wikimedia.org/wikipedia/commons/8/8b/Tehran_Bazaar_old.jpg)\n",
    "\n",
    "The Grand Bazaar is an old historical bazaar in Tehran, Iran. It is split into several corridors over 10 kilometres (6.2 mi) in length, each specializing in different types of goods, and has several entrances, with Sabze-Meydan being the main entrance.\n",
    "\n",
    "[_Pop_Data Source_](https://worldpopulationreview.com/world-cities/tehran-population)\n",
    "\n",
    "[_Image Source_](https://upload.wikimedia.org/wikipedia/commons/8/8b/Tehran_Bazaar_old.jpg)\n",
    "\n",
    "[_Text Source_](https://en.wikipedia.org/wiki/Grand_Bazaar,_Tehran)"
   ]
  },
  {
   "cell_type": "code",
   "execution_count": null,
   "metadata": {},
   "outputs": [],
   "source": []
  }
 ],
 "metadata": {
  "kernelspec": {
   "display_name": "Python 3",
   "language": "python",
   "name": "python3"
  },
  "language_info": {
   "codemirror_mode": {
    "name": "ipython",
    "version": 3
   },
   "file_extension": ".py",
   "mimetype": "text/x-python",
   "name": "python",
   "nbconvert_exporter": "python",
   "pygments_lexer": "ipython3",
   "version": "3.8.5"
  }
 },
 "nbformat": 4,
 "nbformat_minor": 4
}
