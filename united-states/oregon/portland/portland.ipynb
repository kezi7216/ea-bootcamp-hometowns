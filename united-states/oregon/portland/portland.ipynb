{
 "cells": [
  {
   "cell_type": "markdown",
   "id": "ee105224",
   "metadata": {},
   "source": [
    "# Location\n",
    "45.5152° N, 122.6784° W"
   ]
  },
  {
   "cell_type": "markdown",
   "id": "68fe0470",
   "metadata": {},
   "source": [
    "# Population\n",
    "666,249 in 2022 according to [World Population Review](https://worldpopulationreview.com/us-cities/portland-or-population)"
   ]
  },
  {
   "cell_type": "markdown",
   "id": "09782001",
   "metadata": {},
   "source": [
    "# Landmark\n",
    "Forest Park in Portland is a 5200 acre area of trails, nature conservatories, parks, and gardens. It is the largest park within a city and is one of my favorite places to run. \n",
    "![Forest Park](https://www.portland.gov/sites/default/files/styles/facebook/public/2020-04/forest-park-trail.jpg?itok=MAHuf4Xx)"
   ]
  }
 ],
 "metadata": {
  "kernelspec": {
   "display_name": "Python 3 (ipykernel)",
   "language": "python",
   "name": "python3"
  },
  "language_info": {
   "codemirror_mode": {
    "name": "ipython",
    "version": 3
   },
   "file_extension": ".py",
   "mimetype": "text/x-python",
   "name": "python",
   "nbconvert_exporter": "python",
   "pygments_lexer": "ipython3",
   "version": "3.8.13"
  },
  "varInspector": {
   "cols": {
    "lenName": 16,
    "lenType": 16,
    "lenVar": 40
   },
   "kernels_config": {
    "python": {
     "delete_cmd_postfix": "",
     "delete_cmd_prefix": "del ",
     "library": "var_list.py",
     "varRefreshCmd": "print(var_dic_list())"
    },
    "r": {
     "delete_cmd_postfix": ") ",
     "delete_cmd_prefix": "rm(",
     "library": "var_list.r",
     "varRefreshCmd": "cat(var_dic_list()) "
    }
   },
   "types_to_exclude": [
    "module",
    "function",
    "builtin_function_or_method",
    "instance",
    "_Feature"
   ],
   "window_display": false
  }
 },
 "nbformat": 4,
 "nbformat_minor": 5
}
