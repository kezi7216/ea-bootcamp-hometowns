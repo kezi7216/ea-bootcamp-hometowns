{
 "cells": [
  {
   "cell_type": "markdown",
   "id": "a7629cbf",
   "metadata": {},
   "source": [
    "# Location\n",
    "35.2271° N, 80.8431° W\n",
    "\n",
    "# Population\n",
    "879,709 according to [the US Census](https://www.census.gov/quickfacts/charlottecitynorthcarolina) \n",
    "\n",
    "# Landmark\n",
    "The Hearst Tower is one of the tallest skyscrapers in Charlotte.\n",
    "\n",
    "![Hearst Tower](https://www.skylinescenes.com/image?filename=charlotte_034_9920_up.jpg&width=0&height=0)"
   ]
  },
  {
   "cell_type": "code",
   "execution_count": null,
   "id": "a1f3c959",
   "metadata": {},
   "outputs": [],
   "source": []
  }
 ],
 "metadata": {
  "kernelspec": {
   "display_name": "Python 3 (ipykernel)",
   "language": "python",
   "name": "python3"
  },
  "language_info": {
   "codemirror_mode": {
    "name": "ipython",
    "version": 3
   },
   "file_extension": ".py",
   "mimetype": "text/x-python",
   "name": "python",
   "nbconvert_exporter": "python",
   "pygments_lexer": "ipython3",
   "version": "3.8.13"
  }
 },
 "nbformat": 4,
 "nbformat_minor": 5
}
