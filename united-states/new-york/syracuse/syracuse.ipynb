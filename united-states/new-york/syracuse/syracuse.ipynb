{
 "cells": [
  {
   "cell_type": "markdown",
   "id": "2caded69",
   "metadata": {},
   "source": [
    "# Syracuse, NY\n",
    "\n",
    "## Location\n",
    "### 43.0481° N, 76.1474° W\n",
    "\n",
    "## Population\n",
    "### 146, 103 [US Census Bureau, 2021 estimate](https://www.census.gov/quickfacts/syracusecitynewyork)\n",
    "\n",
    "## Landmark\n",
    "### Clinton Square ![Clinton Square](https://assets.simpleviewinc.com/simpleview/image/upload/c_fill,f_webp,h_650,q_65,w_1360/v1/clients/syracuse/chrissinclair78_Instagram_2444_ig_1921369176958815491_5675054304_42e5754e-9ac8-4474-aecf-441bcf7140a0.jpg)\n",
    "\n",
    "Historic Clinton Square in Downtown Syracuse, NY boasts a beautiful panoramic of architecture from the 19th & early 20th centuries. Once the city's original town center, Clinton Square is home to a stunning fountain park where the Erie Canal once ran through.[Visit Syracuse](https://www.visitsyracuse.com/things-to-do/neighborhoods-towns/clinton-square/)"
   ]
  },
  {
   "cell_type": "code",
   "execution_count": null,
   "id": "1e197e40",
   "metadata": {},
   "outputs": [],
   "source": []
  }
 ],
 "metadata": {
  "kernelspec": {
   "display_name": "Python 3 (ipykernel)",
   "language": "python",
   "name": "python3"
  },
  "language_info": {
   "codemirror_mode": {
    "name": "ipython",
    "version": 3
   },
   "file_extension": ".py",
   "mimetype": "text/x-python",
   "name": "python",
   "nbconvert_exporter": "python",
   "pygments_lexer": "ipython3",
   "version": "3.8.13"
  }
 },
 "nbformat": 4,
 "nbformat_minor": 5
}
