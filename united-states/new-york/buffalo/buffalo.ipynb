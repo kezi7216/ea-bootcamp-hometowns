{
 "cells": [
  {
   "cell_type": "markdown",
   "id": "87576d3e",
   "metadata": {},
   "source": [
    "# Location\n",
    "42.8864° N, 78.8784° W\n",
    "\n",
    "# Population\n",
    "276,807 according to [the US Census](https://www.census.gov/quickfacts/buffalocitynewyork)\n",
    "\n",
    "# Landmark\n",
    "Niagara Falls is located nearby on the river.\n",
    "\n",
    "![Niagara Falls State Park](http://t0.gstatic.com/licensed-image?q=tbn:ANd9GcRC8ZoY0cKXzv5LxBcsjQETf42F6ruOZ16aU2KpDEeAom6BZgHl9wnjYRT1M1kkif2L)"
   ]
  },
  {
   "cell_type": "code",
   "execution_count": null,
   "id": "b32feb86",
   "metadata": {},
   "outputs": [],
   "source": []
  }
 ],
 "metadata": {
  "kernelspec": {
   "display_name": "Python 3 (ipykernel)",
   "language": "python",
   "name": "python3"
  },
  "language_info": {
   "codemirror_mode": {
    "name": "ipython",
    "version": 3
   },
   "file_extension": ".py",
   "mimetype": "text/x-python",
   "name": "python",
   "nbconvert_exporter": "python",
   "pygments_lexer": "ipython3",
   "version": "3.8.13"
  }
 },
 "nbformat": 4,
 "nbformat_minor": 5
}
