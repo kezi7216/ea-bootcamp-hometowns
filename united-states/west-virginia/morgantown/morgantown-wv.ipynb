{
 "cells": [
  {
   "cell_type": "markdown",
   "id": "565384b6",
   "metadata": {},
   "source": [
    "## Location\n",
    "39.6295° N, 79.9559° W\n",
    "\n",
    "## Population\n",
    "30,549\n",
    "\n",
    "Information for the most recent population figure can be found <a href=\"https://www.census.gov/quickfacts/fact/table/morgantowncitywestvirginia/PST045219\" target=\"_blank\">here</a>.\n",
    "\n",
    "## Landmark\n",
    "![West Virginia University Coliseum](https://d2bw7v1ep7mzfe.cloudfront.net/images/2020/2/4/Coliseum_Court_71.jpg?width=1024&height=576&mode=crop)\n",
    "Located in Morgantown, WV, the coliseum at West Virginia University has an occupancy of 14,000 people and regularly hosts new student orientations, graduations, and basketball games. "
   ]
  }
 ],
 "metadata": {
  "kernelspec": {
   "display_name": "Python 3 (ipykernel)",
   "language": "python",
   "name": "python3"
  },
  "language_info": {
   "codemirror_mode": {
    "name": "ipython",
    "version": 3
   },
   "file_extension": ".py",
   "mimetype": "text/x-python",
   "name": "python",
   "nbconvert_exporter": "python",
   "pygments_lexer": "ipython3",
   "version": "3.8.10"
  }
 },
 "nbformat": 4,
 "nbformat_minor": 5
}
