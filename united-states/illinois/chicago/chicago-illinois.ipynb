{
 "cells": [
  {
   "cell_type": "markdown",
   "id": "114ae6c7",
   "metadata": {},
   "source": [
    "## Location\n",
    "41.8781° N, 87.6298° W"
   ]
  },
  {
   "cell_type": "markdown",
   "id": "92ca211c",
   "metadata": {},
   "source": [
    "## Population\n",
    "* Chicago, IL population as of July 2019: 2,693,976 people\n",
    "* Source: https://www.census.gov/quickfacts/fact/table/chicagocityillinois,US/PST045219"
   ]
  },
  {
   "cell_type": "markdown",
   "id": "c37274c0",
   "metadata": {},
   "source": [
    "## Landmark\n",
    "Millenium Park is one of Chicago's most popular landmarks. The campus has a variety of artwork, galleries, architecture, concert events, and activities to offer. Cloud Gate, or \"The Bean,\" (pictured below) is a large reflective sculpture that shows the city's skyline. \n",
    "![photo of Millenium Park here.](https://cdn.choosechicago.com/uploads/2019/05/bean_dawn_5d5624c9-38bc-42c6-a0bc-3b84be7dca9b.jpg)\n",
    "\n"
   ]
  },
  {
   "cell_type": "code",
   "execution_count": null,
   "id": "21778bae",
   "metadata": {},
   "outputs": [],
   "source": []
  }
 ],
 "metadata": {
  "kernelspec": {
   "display_name": "Python 3 (ipykernel)",
   "language": "python",
   "name": "python3"
  },
  "language_info": {
   "codemirror_mode": {
    "name": "ipython",
    "version": 3
   },
   "file_extension": ".py",
   "mimetype": "text/x-python",
   "name": "python",
   "nbconvert_exporter": "python",
   "pygments_lexer": "ipython3",
   "version": "3.8.10"
  }
 },
 "nbformat": 4,
 "nbformat_minor": 5
}
