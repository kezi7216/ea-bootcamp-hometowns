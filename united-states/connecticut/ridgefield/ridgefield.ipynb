{
 "cells": [
  {
   "cell_type": "markdown",
   "id": "293e71a7",
   "metadata": {},
   "source": [
    "## Location - 41°18′19″N 73°30′05″W\n",
    "\n",
    "## Population - 24,638\n",
    "\n",
    "## Landmark - Keeler Tavern\n",
    "![Keeler Tavern](https://upload.wikimedia.org/wikipedia/commons/2/2c/Keeler_tavern_ridgefield_2006.jpg)\n",
    "* Keeler Tavern is a historic building on Main Street"
   ]
  },
  {
   "cell_type": "code",
   "execution_count": null,
   "id": "fa10223f",
   "metadata": {},
   "outputs": [],
   "source": []
  }
 ],
 "metadata": {
  "kernelspec": {
   "display_name": "Python 3 (ipykernel)",
   "language": "python",
   "name": "python3"
  },
  "language_info": {
   "codemirror_mode": {
    "name": "ipython",
    "version": 3
   },
   "file_extension": ".py",
   "mimetype": "text/x-python",
   "name": "python",
   "nbconvert_exporter": "python",
   "pygments_lexer": "ipython3",
   "version": "3.8.10"
  }
 },
 "nbformat": 4,
 "nbformat_minor": 5
}
