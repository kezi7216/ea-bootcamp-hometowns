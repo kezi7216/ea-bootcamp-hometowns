{
 "cells": [
  {
   "cell_type": "markdown",
   "metadata": {},
   "source": [
    "# Location\n",
    "33.4942° N, 111.9261° W"
   ]
  },
  {
   "cell_type": "markdown",
   "metadata": {},
   "source": [
    "# Population\n",
    "247,419 <a href=\"https://www.populationu.com/cities/scottsdale-az-population#:~:text=Scottsdale%20is%20a%20city%20in,fifth%20populous%20city%20of%20Arizona.\" target=\"_blank\">Population Source</a>"
   ]
  },
  {
   "cell_type": "markdown",
   "metadata": {},
   "source": [
    "# Landmark\n",
    "\n",
    "![Camelback Mountain sits at 1,704 ft above the Sonoran Desert, and is one of the most popular destinations in the area for hiking and rock climbing. The north side of the mountain contains a cave that was once believed to be sacred site of the Hohokam culture.](https://media.tacdn.com/media/attractions-splice-spp-674x446/0b/ae/b4/a4.jpg)\n",
    "\n",
    "Camelback Mountain sits at 1,704 ft above the Sonoran Desert, and is one of the most popular destinations in the area for hiking and rock climbing. The north side of the mountain contains a cave that was once believed to be sacred site of the Hohokam culture."
   ]
  },
  {
   "cell_type": "markdown",
   "metadata": {},
   "source": []
  }
 ],
 "metadata": {
  "language_info": {
   "name": "python"
  },
  "orig_nbformat": 4
 },
 "nbformat": 4,
 "nbformat_minor": 2
}
