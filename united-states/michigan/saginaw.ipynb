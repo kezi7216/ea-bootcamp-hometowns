{
 "cells": [
  {
   "cell_type": "markdown",
   "id": "3d0d4136",
   "metadata": {},
   "source": [
    "# Location\n",
    "Saginaw, Michigan\n",
    "43.4195° N, 83.9508° W"
   ]
  },
  {
   "cell_type": "markdown",
   "id": "88e09f2e",
   "metadata": {},
   "source": [
    "# Population\n",
    "\n",
    "Saginaw's population as of the 2020 Census was 43,854. \n",
    "\n",
    "Source: [US Census](https://www.census.gov/quickfacts/fact/table/saginawcitymichigan,saginawcountymichigan,MI/PST045221)\n"
   ]
  },
  {
   "cell_type": "markdown",
   "id": "188513d5",
   "metadata": {},
   "source": [
    "# Landmark\n",
    "Old Town Saginaw  \n",
    "\n",
    "\n",
    "![Old_Town_Saginaw](https://www.mlive.com/resizer/bPJKJPc9S5rGTtGot-uRr2OyoiM=/1280x0/smart/arc-anglerfish-arc2-prod-advancelocal.s3.amazonaws.com/public/EABCZY6V4NDWXFODMJJMQE7KBY.jpg)"
   ]
  },
  {
   "cell_type": "code",
   "execution_count": null,
   "id": "400b8506",
   "metadata": {},
   "outputs": [],
   "source": []
  }
 ],
 "metadata": {
  "kernelspec": {
   "display_name": "Python 3 (ipykernel)",
   "language": "python",
   "name": "python3"
  },
  "language_info": {
   "codemirror_mode": {
    "name": "ipython",
    "version": 3
   },
   "file_extension": ".py",
   "mimetype": "text/x-python",
   "name": "python",
   "nbconvert_exporter": "python",
   "pygments_lexer": "ipython3",
   "version": "3.10.6"
  }
 },
 "nbformat": 4,
 "nbformat_minor": 5
}
