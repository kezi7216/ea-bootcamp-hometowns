{
 "cells": [
  {
   "cell_type": "markdown",
   "id": "e04e17ba",
   "metadata": {},
   "source": [
    "## Location\n",
    "40.3573° N, 74.6672° W\n",
    "\n",
    "## Population\n",
    "31,187\n",
    "\n",
    "Information for the most recent population figure can be found <a href=\"https://www.census.gov/quickfacts/princetonnewjersey\" target=\"_blank\">here</a>.\n",
    "\n",
    "## Landmark\n",
    "![Princeton University](https://www.princeton.edu/sites/default/files/styles/half_2x/public/images/2020/06/20170816_CL_DJA_152%281%29.jpg?itok=gk_-O3D3)\n",
    "Located in Princeton, NJ, Princeton University was founded in 1746 and is the fourth oldest university in the United States."
   ]
  }
 ],
 "metadata": {
  "kernelspec": {
   "display_name": "Python 3 (ipykernel)",
   "language": "python",
   "name": "python3"
  },
  "language_info": {
   "codemirror_mode": {
    "name": "ipython",
    "version": 3
   },
   "file_extension": ".py",
   "mimetype": "text/x-python",
   "name": "python",
   "nbconvert_exporter": "python",
   "pygments_lexer": "ipython3",
   "version": "3.8.10"
  }
 },
 "nbformat": 4,
 "nbformat_minor": 5
}
