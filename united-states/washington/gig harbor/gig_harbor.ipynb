{
 "cells": [
  {
   "cell_type": "markdown",
   "id": "8441051d",
   "metadata": {},
   "source": [
    "# Location\n",
    "47.3293° N, 122.5801° W"
   ]
  },
  {
   "cell_type": "markdown",
   "id": "4c8bd70c",
   "metadata": {},
   "source": [
    "# Population\n",
    "13,009 in 2022 according to [World Population Review](https://worldpopulationreview.com/us-cities/gig-harbor-wa-population)"
   ]
  },
  {
   "cell_type": "markdown",
   "id": "b8358335",
   "metadata": {},
   "source": [
    "# Landmark\n",
    "The Tacoma Narrows Bridge spans between Tacoma and Gig Harbor, WA. It is formerly known as Galloping Gertie and has beautiful views of the Puget Sound and nearby Mt. Rainier.\n",
    "![The Tacoma Narrows Bridge](https://www.gannett-cdn.com/-mm-/c7186099728bc17a471fe11a34273d8edd407904/c=0-118-2000-1248/local/-/media/2017/07/13/Kitsap/Kitsap/636355487203216030-Narrows-bridge-3.jpg)"
   ]
  }
 ],
 "metadata": {
  "kernelspec": {
   "display_name": "Python 3 (ipykernel)",
   "language": "python",
   "name": "python3"
  },
  "language_info": {
   "codemirror_mode": {
    "name": "ipython",
    "version": 3
   },
   "file_extension": ".py",
   "mimetype": "text/x-python",
   "name": "python",
   "nbconvert_exporter": "python",
   "pygments_lexer": "ipython3",
   "version": "3.8.13"
  },
  "varInspector": {
   "cols": {
    "lenName": 16,
    "lenType": 16,
    "lenVar": 40
   },
   "kernels_config": {
    "python": {
     "delete_cmd_postfix": "",
     "delete_cmd_prefix": "del ",
     "library": "var_list.py",
     "varRefreshCmd": "print(var_dic_list())"
    },
    "r": {
     "delete_cmd_postfix": ") ",
     "delete_cmd_prefix": "rm(",
     "library": "var_list.r",
     "varRefreshCmd": "cat(var_dic_list()) "
    }
   },
   "types_to_exclude": [
    "module",
    "function",
    "builtin_function_or_method",
    "instance",
    "_Feature"
   ],
   "window_display": false
  }
 },
 "nbformat": 4,
 "nbformat_minor": 5
}
