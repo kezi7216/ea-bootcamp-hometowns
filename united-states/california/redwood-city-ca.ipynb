{
  "nbformat": 4,
  "nbformat_minor": 0,
  "metadata": {
    "colab": {
      "name": "Redwood-City-California.ipynb",
      "provenance": []
    },
    "kernelspec": {
      "name": "python3",
      "display_name": "Python 3"
    },
    "language_info": {
      "name": "python"
    }
  },
  "cells": [
    {
      "cell_type": "markdown",
      "metadata": {
        "id": "oJV8J4aUSxYY"
      },
      "source": [
        "**Redwood City, California**\n",
        "* 37.4848° N\n",
        "* 122.2281° W"
      ]
    },
    {
      "cell_type": "markdown",
      "metadata": {
        "id": "ys__KQcOTixz"
      },
      "source": [
        "**Population; 85,784 (2019)**"
      ]
    },
    {
      "cell_type": "markdown",
      "metadata": {
        "id": "WfCXaPvPURYy"
      },
      "source": [
        "Redwood City is a city on the San Francisco Peninsula in Northern California's Bay Area, approximately 27 miles south of San Francisco, and 24 miles northwest of San Jose. Redwood City's history spans its earliest inhabitation by the Ohlone people to being a port for lumber and other goods\n",
        "\n",
        "[Wikipedia](https://en.wikipedia.org/wiki/Redwood_City,_California)\n",
        "\n",
        "![](https://www.gannett-cdn.com/presto/2020/02/12/USAT/9182686f-85a7-4d20-81fe-5f8ce170ff14-263A2339.jpg?width=825&height=550&format=pjpg&auto=webp)"
      ]
    }
  ]
}