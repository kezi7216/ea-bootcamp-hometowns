{
 "cells": [
  {
   "cell_type": "markdown",
   "id": "8dfc5a20",
   "metadata": {},
   "source": [
    "## Location\n",
    "35.3733° N, 119.0187° W\n",
    "## Population\n",
    "389,000\n",
    "<https://worldpopulationreview.com/us-cities/bakersfield-ca-population>\n",
    "## Landmark\n",
    "### Buck Owen's Crystal Palace \n",
    "![Buck Owen's Crystal Palace](https://roadierecon.com/wp-content/uploads/2015/03/Buck-Owens-Crystal-Palace.png)\n",
    "\n",
    "Buck Owen's Crystal Palace is a popular venue for country singers."
   ]
  },
  {
   "cell_type": "code",
   "execution_count": null,
   "id": "4fb9a67a",
   "metadata": {},
   "outputs": [],
   "source": []
  }
 ],
 "metadata": {
  "kernelspec": {
   "display_name": "Python 3 (ipykernel)",
   "language": "python",
   "name": "python3"
  },
  "language_info": {
   "codemirror_mode": {
    "name": "ipython",
    "version": 3
   },
   "file_extension": ".py",
   "mimetype": "text/x-python",
   "name": "python",
   "nbconvert_exporter": "python",
   "pygments_lexer": "ipython3",
   "version": "3.8.10"
  }
 },
 "nbformat": 4,
 "nbformat_minor": 5
}
