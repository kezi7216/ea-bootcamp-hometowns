{
 "cells": [
  {
   "cell_type": "markdown",
   "id": "e5819f24",
   "metadata": {},
   "source": [
    "# Location\n",
    "38° 56′ 24″ N, 119° 58′ 37″ W\n",
    "\n",
    "# Population\n",
    "21,330\n",
    "\n",
    "https://en.wikipedia.org/wiki/South_Lake_Tahoe,_California\n",
    "\n",
    "# Landmark\n",
    "![img](https://upload.wikimedia.org/wikipedia/commons/thumb/a/a7/Fallen_Leaf_Lake.JPG/264px-Fallen_Leaf_Lake.JPG)\n"
   ]
  }
 ],
 "metadata": {
  "kernelspec": {
   "display_name": "Python [conda env:earth-analytics-python]",
   "language": "python",
   "name": "conda-env-earth-analytics-python-py"
  },
  "language_info": {
   "codemirror_mode": {
    "name": "ipython",
    "version": 3
   },
   "file_extension": ".py",
   "mimetype": "text/x-python",
   "name": "python",
   "nbconvert_exporter": "python",
   "pygments_lexer": "ipython3",
   "version": "3.8.13"
  }
 },
 "nbformat": 4,
 "nbformat_minor": 5
}
