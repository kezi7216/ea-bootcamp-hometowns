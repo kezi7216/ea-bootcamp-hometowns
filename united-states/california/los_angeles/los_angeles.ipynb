{
 "cells": [
  {
   "cell_type": "markdown",
   "id": "8466fd60",
   "metadata": {},
   "source": [
    "# Location\n",
    "34.0522° N, 118.2437° W\n",
    "\n",
    "# Population\n",
    "3,919,973 according to [World Population Review](https://worldpopulationreview.com/us-cities/los-angeles-ca-population)\n",
    "\n",
    "# Landmark\n",
    "The La Brea Tar Pits are a naturally occuring asphault deposit that for thousands of years has trapped unsuspecting animals including dire wolves, saber-tooth lions, and ground sloths. Their preseved bones have been excavated from the pits since the early 1900s.\n",
    "![Bubbling up at the La Brea Tar Pits](https://upload.wikimedia.org/wikipedia/commons/thumb/0/0c/USA_tar_bubble_la_brea_CA.jpg/1200px-USA_tar_bubble_la_brea_CA.jpg)\n"
   ]
  }
 ],
 "metadata": {
  "kernelspec": {
   "display_name": "Python 3 (ipykernel)",
   "language": "python",
   "name": "python3"
  },
  "language_info": {
   "codemirror_mode": {
    "name": "ipython",
    "version": 3
   },
   "file_extension": ".py",
   "mimetype": "text/x-python",
   "name": "python",
   "nbconvert_exporter": "python",
   "pygments_lexer": "ipython3",
   "version": "3.8.13"
  }
 },
 "nbformat": 4,
 "nbformat_minor": 5
}
