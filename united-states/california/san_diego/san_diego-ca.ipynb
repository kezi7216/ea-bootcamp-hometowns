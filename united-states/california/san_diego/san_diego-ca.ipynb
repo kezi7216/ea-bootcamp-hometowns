{
 "cells": [
  {
   "cell_type": "markdown",
   "id": "bfcfe1ee",
   "metadata": {},
   "source": [
    "# San Diego \n",
    "32.7157° N, 117.1611° W\n",
    "\n",
    "# Population \n",
    "1,381,611 according to [the US Census](https://www.census.gov/quickfacts/fact/table/sandiegocitycalifornia/PST045221)\n",
    "\n",
    "# Downtown San Diego \n",
    "The skyline of Downtown San Diego taken from Coronado Island. \n",
    "\n",
    "![Downtown San Diego](https://upload.wikimedia.org/wikipedia/commons/thumb/a/ad/Skyline_of_San_Diego_%28cropped%29.jpg/2880px-Skyline_of_San_Diego_%28cropped%29.jpg)\n"
   ]
  },
  {
   "cell_type": "code",
   "execution_count": null,
   "id": "16b8f98c",
   "metadata": {},
   "outputs": [],
   "source": []
  }
 ],
 "metadata": {
  "kernelspec": {
   "display_name": "Python 3 (ipykernel)",
   "language": "python",
   "name": "python3"
  },
  "language_info": {
   "codemirror_mode": {
    "name": "ipython",
    "version": 3
   },
   "file_extension": ".py",
   "mimetype": "text/x-python",
   "name": "python",
   "nbconvert_exporter": "python",
   "pygments_lexer": "ipython3",
   "version": "3.8.13"
  },
  "varInspector": {
   "cols": {
    "lenName": 16,
    "lenType": 16,
    "lenVar": 40
   },
   "kernels_config": {
    "python": {
     "delete_cmd_postfix": "",
     "delete_cmd_prefix": "del ",
     "library": "var_list.py",
     "varRefreshCmd": "print(var_dic_list())"
    },
    "r": {
     "delete_cmd_postfix": ") ",
     "delete_cmd_prefix": "rm(",
     "library": "var_list.r",
     "varRefreshCmd": "cat(var_dic_list()) "
    }
   },
   "types_to_exclude": [
    "module",
    "function",
    "builtin_function_or_method",
    "instance",
    "_Feature"
   ],
   "window_display": false
  }
 },
 "nbformat": 4,
 "nbformat_minor": 5
}
