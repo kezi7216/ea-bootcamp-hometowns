{
 "cells": [
  {
   "cell_type": "markdown",
   "id": "b55be533",
   "metadata": {},
   "source": [
    "# Location\n",
    "38.9072° N, 77.0369° W\n",
    "\n",
    "# Population\n",
    "670,050 according to the [U.S. Census Bureau](https://www.census.gov/quickfacts/DC)\n",
    "\n",
    "# Landmark\n",
    "Owney the dog was a stray mutt that found his way onto trains of the Railway Mail Service in the late 1800s. Over time he became their mascot and accrued many a souvenir of his travels. He is now on deplay at the Smithsonian National Postal Museum.\n",
    "![Owney at the Smithsonian National Postal Museum](https://postalmuseum.si.edu/sites/default/files/blog-2011-07-21-2.jpg)"
   ]
  }
 ],
 "metadata": {
  "kernelspec": {
   "display_name": "Python 3 (ipykernel)",
   "language": "python",
   "name": "python3"
  },
  "language_info": {
   "codemirror_mode": {
    "name": "ipython",
    "version": 3
   },
   "file_extension": ".py",
   "mimetype": "text/x-python",
   "name": "python",
   "nbconvert_exporter": "python",
   "pygments_lexer": "ipython3",
   "version": "3.8.13"
  }
 },
 "nbformat": 4,
 "nbformat_minor": 5
}
