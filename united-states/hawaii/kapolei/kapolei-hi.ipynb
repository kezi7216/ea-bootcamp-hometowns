{
 "cells": [
  {
   "cell_type": "markdown",
   "id": "02c351d4",
   "metadata": {},
   "source": [
    "# Interesting Facts about Kapolei, Hi"
   ]
  },
  {
   "cell_type": "markdown",
   "id": "4c1665ce",
   "metadata": {},
   "source": [
    "## Location\n",
    "\n",
    "- Latitude: 21.3353909\n",
    "- Longitude: -158.0568965"
   ]
  },
  {
   "cell_type": "markdown",
   "id": "0d6dadfb",
   "metadata": {},
   "source": [
    "## Population\n",
    "- 21,411 (US Census data for 2020)\n",
    "- Source: https://www.census.gov/quickfacts/kapoleicdphawaii"
   ]
  },
  {
   "cell_type": "markdown",
   "id": "e4a85c26",
   "metadata": {},
   "source": [
    "## Landmark\n",
    "\n",
    "- Barber's Point Lighthouse: ![https://www.us-lighthouses.com/barbers-point-lighthouse] Originally built in 1888 and reconstructed in 1933, standing 71 feet tall. Was used as a physical landmark for calibrating radar when Kapolei was a Naval Air Station in the 80's and early 90's before the station was closed and became the planned community of Kapolei, Hi.\n",
    "[![Barber's Point Lighthouse](https://www.us-lighthouses.com/images/archive/b/barbers001.jpg 'target=_blank')"
   ]
  },
  {
   "cell_type": "code",
   "execution_count": null,
   "id": "4c1c4feb",
   "metadata": {},
   "outputs": [],
   "source": []
  }
 ],
 "metadata": {
  "kernelspec": {
   "display_name": "Python 3 (ipykernel)",
   "language": "python",
   "name": "python3"
  },
  "language_info": {
   "codemirror_mode": {
    "name": "ipython",
    "version": 3
   },
   "file_extension": ".py",
   "mimetype": "text/x-python",
   "name": "python",
   "nbconvert_exporter": "python",
   "pygments_lexer": "ipython3",
   "version": "3.8.13"
  },
  "varInspector": {
   "cols": {
    "lenName": 16,
    "lenType": 16,
    "lenVar": 40
   },
   "kernels_config": {
    "python": {
     "delete_cmd_postfix": "",
     "delete_cmd_prefix": "del ",
     "library": "var_list.py",
     "varRefreshCmd": "print(var_dic_list())"
    },
    "r": {
     "delete_cmd_postfix": ") ",
     "delete_cmd_prefix": "rm(",
     "library": "var_list.r",
     "varRefreshCmd": "cat(var_dic_list()) "
    }
   },
   "types_to_exclude": [
    "module",
    "function",
    "builtin_function_or_method",
    "instance",
    "_Feature"
   ],
   "window_display": false
  }
 },
 "nbformat": 4,
 "nbformat_minor": 5
}
