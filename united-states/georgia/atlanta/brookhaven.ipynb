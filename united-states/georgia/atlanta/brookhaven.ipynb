{
 "cells": [
  {
   "cell_type": "markdown",
   "id": "8b658a54",
   "metadata": {},
   "source": [
    "# Location\n",
    "\n",
    "Brookhaven, Georgia   \n",
    "33.8650° N, 84.3371° W"
   ]
  },
  {
   "cell_type": "markdown",
   "id": "0064f646",
   "metadata": {},
   "source": [
    "# Population\n",
    "\n",
    "Brookhaven's population as of the 2020 Census was 55,366. \n",
    "We moved here in June 2022, so +2. :-) \n",
    "\n",
    "Source: [US Census](https://www.census.gov/quickfacts/brookhavencitygeorgia)\n"
   ]
  },
  {
   "cell_type": "markdown",
   "id": "4868dd59",
   "metadata": {},
   "source": [
    "# Landmark\n",
    "\n",
    "Murphy Candler Park\n",
    "\n",
    "![Murphy Candler Park](https://i.redd.it/po99dw7mpkz11.jpg)"
   ]
  },
  {
   "cell_type": "code",
   "execution_count": null,
   "id": "f61f2e18",
   "metadata": {},
   "outputs": [],
   "source": []
  }
 ],
 "metadata": {
  "kernelspec": {
   "display_name": "Python 3 (ipykernel)",
   "language": "python",
   "name": "python3"
  },
  "language_info": {
   "codemirror_mode": {
    "name": "ipython",
    "version": 3
   },
   "file_extension": ".py",
   "mimetype": "text/x-python",
   "name": "python",
   "nbconvert_exporter": "python",
   "pygments_lexer": "ipython3",
   "version": "3.10.6"
  }
 },
 "nbformat": 4,
 "nbformat_minor": 5
}
