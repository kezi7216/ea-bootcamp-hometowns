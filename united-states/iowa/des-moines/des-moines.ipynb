{
 "cells": [
  {
   "cell_type": "markdown",
   "id": "6486be22",
   "metadata": {},
   "source": [
    "# Location\n",
    "41° 35′ 27″ N, 93° 37′ 15″ W\n",
    "\n",
    "# Population\n",
    "214,133\n",
    "\n",
    "https://en.wikipedia.org/wiki/Des_Moines,_Iowa\n",
    "\n",
    "# Landmark\n",
    "![img](https://upload.wikimedia.org/wikipedia/commons/7/76/The_Capitol.jpg)"
   ]
  }
 ],
 "metadata": {
  "kernelspec": {
   "display_name": "Python [conda env:earth-analytics-python]",
   "language": "python",
   "name": "conda-env-earth-analytics-python-py"
  },
  "language_info": {
   "codemirror_mode": {
    "name": "ipython",
    "version": 3
   },
   "file_extension": ".py",
   "mimetype": "text/x-python",
   "name": "python",
   "nbconvert_exporter": "python",
   "pygments_lexer": "ipython3",
   "version": "3.8.13"
  }
 },
 "nbformat": 4,
 "nbformat_minor": 5
}
