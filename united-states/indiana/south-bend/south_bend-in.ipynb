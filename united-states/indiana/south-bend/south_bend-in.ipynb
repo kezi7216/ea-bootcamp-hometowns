{
 "cells": [
  {
   "cell_type": "markdown",
   "id": "8f8677fe-eda7-497d-a21f-d378344f2beb",
   "metadata": {},
   "source": [
    "## Location\n",
    "41°40′35″N, 86°15′01″W\n",
    "\n",
    "## Population\n",
    "103,453\n",
    "[South Bend, IN Population - Census 2020](https://www.census.gov/quickfacts/southbendcityindiana)\n",
    "\n",
    "## Landmark\n",
    "![Studebaker National Museum](https://upload.wikimedia.org/wikipedia/commons/5/50/South-bend-studebaker-museum-new.jpg)\n",
    "\n",
    "South of the University of Notre Dame in downtown South Bend is the Studebaker National Museum. From the [museum's website](https://www.studebakermuseum.org/about/museum-history/), \"the Studebaker National Museum is devoted to sharing the story of the automotive and industrial history of South Bend and the greater region through the display and interpretation of Studebaker vehicles along with related industrial artifacts.\"\n",
    "\n",
    "The Studebaker company was an American wagon and automobile manufacturer founded in 1852. Studebaker was [one of the first companies to produce electric vehicles](https://en.wikipedia.org/wiki/History_of_the_electric_vehicle#Notable_production_vehicles) in 1902 but went out of business in 1967 after long term competition with Ford's Model T and later vehicles."
   ]
  },
  {
   "cell_type": "code",
   "execution_count": null,
   "id": "a056e803-462a-4b9b-804e-b2a237fea31b",
   "metadata": {},
   "outputs": [],
   "source": []
  }
 ],
 "metadata": {
  "kernelspec": {
   "display_name": "EA-Course",
   "language": "python",
   "name": "earth-analytics-python"
  },
  "language_info": {
   "codemirror_mode": {
    "name": "ipython",
    "version": 3
   },
   "file_extension": ".py",
   "mimetype": "text/x-python",
   "name": "python",
   "nbconvert_exporter": "python",
   "pygments_lexer": "ipython3",
   "version": "3.8.13"
  }
 },
 "nbformat": 4,
 "nbformat_minor": 5
}
