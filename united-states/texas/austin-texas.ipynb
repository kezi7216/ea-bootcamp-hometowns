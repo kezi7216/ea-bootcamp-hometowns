{
 "cells": [
  {
   "cell_type": "markdown",
   "id": "f02800b5",
   "metadata": {},
   "source": [
    "## Austin, Texas Location:\n",
    "30.2672° N, 97.7431° W\n",
    "## Population:\n",
    "1,011,790 people\n",
    "\n",
    "Austin Texas population data can be found at <a href=\"https://worldpopulationreview.com/us-cities/austin-tx-population\" target=\"_blank\">this link</a>.\n",
    "## Popular Land Mark: Texas Capitol\n",
    "The Texas state Capitol can be found in downtown Austin. The structure houses the offices and chambers of the Texas Legislature and of the Governor of Texas.\n",
    "![The Texas state Capitol](https://cdn.texashighways.com/2021/01/texas-state-capitol-grounds.jpg)"
   ]
  },
  {
   "cell_type": "code",
   "execution_count": null,
   "id": "98f5e13a",
   "metadata": {},
   "outputs": [],
   "source": []
  }
 ],
 "metadata": {
  "kernelspec": {
   "display_name": "Python 3",
   "language": "python",
   "name": "python3"
  },
  "language_info": {
   "codemirror_mode": {
    "name": "ipython",
    "version": 3
   },
   "file_extension": ".py",
   "mimetype": "text/x-python",
   "name": "python",
   "nbconvert_exporter": "python",
   "pygments_lexer": "ipython3",
   "version": "3.9.5"
  }
 },
 "nbformat": 4,
 "nbformat_minor": 5
}
