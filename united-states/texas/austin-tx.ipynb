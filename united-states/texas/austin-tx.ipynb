{
 "cells": [
  {
   "cell_type": "markdown",
   "metadata": {},
   "source": [
    "## Latitute /Longitude of Austin, Texas, United States:\n",
    "\n",
    "30.2672° N, 97.7431° W"
   ]
  },
  {
   "cell_type": "markdown",
   "metadata": {},
   "source": [
    "## Population\n",
    "\n",
    "<a href=\"https://www.austinchamber.com/economic-development/austin-profile/population/overview\" target=\"_blank\"> 2,227,083\n",
    "</a>"
   ]
  },
  {
   "cell_type": "markdown",
   "metadata": {},
   "source": [
    "## Texas State Capitol\n",
    "![Texas State Capitol](https://assets.simpleviewinc.com/simpleview/image/fetch/c_fill,h_594,q_75,w_800/https://assets.simpleviewcms.com/simpleview/image/upload/v1/clients/austin/Texas_State_Capitol_South_Facade_2015_Courtesy_of_the_Texas_State_Preservation_Board_FOR_ACVB_USE_ONLY_2_5475363b-0fb9-4455-9d69-037c8f7f2aa1.jpg)\n",
    "\n",
    "The Texas Capitol is one of the most distinguished state capitols in the United States. It was added to the National Register of Historic Places in 1970 and designated a National Historic Landmark in 1986."
   ]
  }
 ],
 "metadata": {
  "kernelspec": {
   "display_name": "Python 3",
   "language": "python",
   "name": "python3"
  },
  "language_info": {
   "codemirror_mode": {
    "name": "ipython",
    "version": 3
   },
   "file_extension": ".py",
   "mimetype": "text/x-python",
   "name": "python",
   "nbconvert_exporter": "python",
   "pygments_lexer": "ipython3",
   "version": "3.8.5"
  }
 },
 "nbformat": 4,
 "nbformat_minor": 4
}
