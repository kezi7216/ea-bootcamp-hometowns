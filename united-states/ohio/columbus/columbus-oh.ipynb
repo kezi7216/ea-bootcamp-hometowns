{
 "cells": [
  {
   "cell_type": "markdown",
   "id": "11feeb78",
   "metadata": {},
   "source": [
    "# Interesting Facts about Columbus, Ohio"
   ]
  },
  {
   "cell_type": "markdown",
   "id": "73e069f4",
   "metadata": {},
   "source": [
    "## Location\n",
    "\n",
    "- Latitude: 39.983334\n",
    "- Longitude: -82.983330"
   ]
  },
  {
   "cell_type": "markdown",
   "id": "3e8920c5",
   "metadata": {},
   "source": [
    "## Population\n",
    "- 905,748 (US Census data for 2020)\n",
    "- Source: https://www.census.gov/quickfacts/fact/table/columbuscityohio/PST045221#PST045221"
   ]
  },
  {
   "cell_type": "markdown",
   "id": "9a0c1533",
   "metadata": {},
   "source": [
    "## Landmark\n",
    "\n",
    "- The Ohio Theatre: ![http://www.ohiotheatre.net/] Is a beautifully restored theatre that showed silent movies with live organ player, regularly has music programs and backstage tours for school kids and hosts traveling broadway shows.\n",
    "[![Ohio Theatre](https://www.capa.com/assets/img/Palace_4351-Thumb-f736144d39.jpg \"Ohio Theatre\")](http://www.ohiotheatre.net/ 'target=_blank')"
   ]
  },
  {
   "cell_type": "code",
   "execution_count": null,
   "id": "212e41ce",
   "metadata": {},
   "outputs": [],
   "source": []
  }
 ],
 "metadata": {
  "kernelspec": {
   "display_name": "Python 3 (ipykernel)",
   "language": "python",
   "name": "python3"
  },
  "language_info": {
   "codemirror_mode": {
    "name": "ipython",
    "version": 3
   },
   "file_extension": ".py",
   "mimetype": "text/x-python",
   "name": "python",
   "nbconvert_exporter": "python",
   "pygments_lexer": "ipython3",
   "version": "3.8.13"
  },
  "varInspector": {
   "cols": {
    "lenName": 16,
    "lenType": 16,
    "lenVar": 40
   },
   "kernels_config": {
    "python": {
     "delete_cmd_postfix": "",
     "delete_cmd_prefix": "del ",
     "library": "var_list.py",
     "varRefreshCmd": "print(var_dic_list())"
    },
    "r": {
     "delete_cmd_postfix": ") ",
     "delete_cmd_prefix": "rm(",
     "library": "var_list.r",
     "varRefreshCmd": "cat(var_dic_list()) "
    }
   },
   "types_to_exclude": [
    "module",
    "function",
    "builtin_function_or_method",
    "instance",
    "_Feature"
   ],
   "window_display": false
  }
 },
 "nbformat": 4,
 "nbformat_minor": 5
}
