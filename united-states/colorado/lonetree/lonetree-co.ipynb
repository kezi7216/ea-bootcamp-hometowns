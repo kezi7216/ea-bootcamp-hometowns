{
 "cells": [
  {
   "cell_type": "markdown",
   "metadata": {},
   "source": [
    "# Location\n",
    "39.5365° N, 104.8971° W"
   ]
  },
  {
   "cell_type": "markdown",
   "metadata": {},
   "source": [
    "# Population\n",
    "15,061 <a href=\"https://worldpopulationreview.com/us-cities/lone-tree-co-population\" target=\"_blank\">Population Source</a>"
   ]
  },
  {
   "cell_type": "markdown",
   "metadata": {},
   "source": [
    "# Landmark\n",
    "\n",
    "![Schweiger Ranch is one of the only historic properties still situated in Lone Tree. The ranch was established by three brothers in 1874, and provides recreational and educational opportunities to enable an understanding of the area's cultural and natural heritage for the greater community.](\thttps://talltalesranch.org/wp-content/uploads/2018/04/fullsizeoutput_984-1024x567.jpeg)\n",
    "\n",
    "Schweiger Ranch is one of the only historic properties still situated in Lone Tree. The ranch was established by three brothers in 1874, and provides recreational and educational opportunities to enable an understanding of the area's cultural and natural heritage for the greater community."
   ]
  },
  {
   "cell_type": "code",
   "execution_count": null,
   "metadata": {},
   "outputs": [],
   "source": []
  }
 ],
 "metadata": {
  "language_info": {
   "name": "python"
  },
  "orig_nbformat": 4
 },
 "nbformat": 4,
 "nbformat_minor": 2
}
