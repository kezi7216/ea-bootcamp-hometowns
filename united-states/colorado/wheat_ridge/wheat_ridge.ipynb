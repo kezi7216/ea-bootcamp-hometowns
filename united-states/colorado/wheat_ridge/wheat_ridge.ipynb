{
 "cells": [
  {
   "cell_type": "markdown",
   "id": "664b147d",
   "metadata": {},
   "source": [
    "## Wheat Ridge, Colorado 39.7661 N  105.0772 W\n",
    "\n",
    "## Population Estimate: 31,324 (2019) \n",
    "This information came from the U.S. Census: <a href=\"http://www.census.gov/quickfacts/wheatridgecitycolorado\" target=\"_blank\">here is a link to click</a>.\n",
    "\n",
    "## Landmark: Brewery Rickoli \n",
    "![Local brewery at 4335 Wadsworth Blvd.](https://breweryrickoli.com/uploads/pages/8/attachments/6/large_taproom1.jpg)\n"
   ]
  },
  {
   "cell_type": "code",
   "execution_count": null,
   "id": "b9dfe9be",
   "metadata": {},
   "outputs": [],
   "source": []
  }
 ],
 "metadata": {
  "kernelspec": {
   "display_name": "Python 3 (ipykernel)",
   "language": "python",
   "name": "python3"
  },
  "language_info": {
   "codemirror_mode": {
    "name": "ipython",
    "version": 3
   },
   "file_extension": ".py",
   "mimetype": "text/x-python",
   "name": "python",
   "nbconvert_exporter": "python",
   "pygments_lexer": "ipython3",
   "version": "3.8.10"
  }
 },
 "nbformat": 4,
 "nbformat_minor": 5
}
