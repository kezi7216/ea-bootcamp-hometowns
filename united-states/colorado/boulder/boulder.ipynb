{
 "cells": [
  {
   "cell_type": "markdown",
   "metadata": {},
   "source": [
    "## Boulder, Colorado 40.015 N, -105.270556 W\n",
    "\n",
    "## Population: 108,250 (2020)\n",
    "This population estimate is from the the Boulder wikipedia entry <a href=\"https://en.wikipedia.org/wiki/Boulder,_Colorado\" target=\"_blank\">click this to go there now</a>.\n",
    "\n",
    "## Landmark: Flatirons \n",
    "![\"Flatirons\"](https://travelboulder.com/wp-content/uploads/2020/01/Flatirons-by-Flickr-user-Zach-Dischner.jpg)"
   ]
  },
  {
   "cell_type": "code",
   "execution_count": null,
   "metadata": {},
   "outputs": [],
   "source": []
  }
 ],
 "metadata": {
  "kernelspec": {
   "display_name": "Python 3.10.6 64-bit",
   "language": "python",
   "name": "python3"
  },
  "language_info": {
   "codemirror_mode": {
    "name": "ipython",
    "version": 3
   },
   "file_extension": ".py",
   "mimetype": "text/x-python",
   "name": "python",
   "nbconvert_exporter": "python",
   "pygments_lexer": "ipython3",
   "version": "3.10.6"
  },
  "orig_nbformat": 4,
  "vscode": {
   "interpreter": {
    "hash": "b0fa6594d8f4cbf19f97940f81e996739fb7646882a419484c72d19e05852a7e"
   }
  }
 },
 "nbformat": 4,
 "nbformat_minor": 2
}
