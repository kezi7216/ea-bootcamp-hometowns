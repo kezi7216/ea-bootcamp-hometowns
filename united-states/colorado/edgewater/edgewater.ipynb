{
 "cells": [
  {
   "cell_type": "markdown",
   "id": "46aa552d",
   "metadata": {},
   "source": [
    "# Location\n",
    "39.7530° N, 105.0642° W\n",
    "\n",
    "# Population\n",
    "4,951 according to [Colorado Demographics](https://www.colorado-demographics.com/edgewater-demographics)\n",
    "\n",
    "# Landmark\n",
    "This sign has been here as long as anyone can remember and marks the entrance to the historic shopping area.\n",
    "![Edgewater Sign](https://scontent.fapa1-1.fna.fbcdn.net/v/t39.30808-6/277781145_659367645317330_8779029844225180064_n.jpg?stp=dst-jpg_p180x540&_nc_cat=101&ccb=1-7&_nc_sid=e3f864&_nc_ohc=JPRe8rau03MAX85vGX3&_nc_ht=scontent.fapa1-1.fna&oh=00_AfBnIF5shCQ_wiVy73VJrrck5XclUyjk1eD8HiL1k3AdpA&oe=63649F2D)"
   ]
  },
  {
   "cell_type": "code",
   "execution_count": null,
   "id": "7df7324b",
   "metadata": {},
   "outputs": [],
   "source": []
  }
 ],
 "metadata": {
  "kernelspec": {
   "display_name": "Python 3 (ipykernel)",
   "language": "python",
   "name": "python3"
  },
  "language_info": {
   "codemirror_mode": {
    "name": "ipython",
    "version": 3
   },
   "file_extension": ".py",
   "mimetype": "text/x-python",
   "name": "python",
   "nbconvert_exporter": "python",
   "pygments_lexer": "ipython3",
   "version": "3.8.13"
  }
 },
 "nbformat": 4,
 "nbformat_minor": 5
}
