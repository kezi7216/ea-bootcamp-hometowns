{
 "cells": [
  {
   "cell_type": "markdown",
   "id": "50e78f9b",
   "metadata": {},
   "source": [
    "## Dillon, Colorado 39.62620 N, 106.04711 W\n",
    "\n",
    "## Population: 945 (2019)\n",
    "This population estimate is from the Summit County government website <a href=\"https://www.summitcountyco.gov/517/Permanent-Resident-Population\" target=\"_blank\">click this to go there now</a>.\n",
    "\n",
    "## Landmark: Dillon Amphitheater \n",
    "![\"Outdoor music venue next to Lake Dillon. Elevation 9,111 feet.\"](https://dillonamphitheater.com/wp-content/uploads/2019/07/2019-JeniseJensen-TootsMaytals-09369-705x441.jpg)"
   ]
  },
  {
   "cell_type": "code",
   "execution_count": null,
   "id": "4bd44edd",
   "metadata": {},
   "outputs": [],
   "source": []
  }
 ],
 "metadata": {
  "kernelspec": {
   "display_name": "Python 3 (ipykernel)",
   "language": "python",
   "name": "python3"
  },
  "language_info": {
   "codemirror_mode": {
    "name": "ipython",
    "version": 3
   },
   "file_extension": ".py",
   "mimetype": "text/x-python",
   "name": "python",
   "nbconvert_exporter": "python",
   "pygments_lexer": "ipython3",
   "version": "3.8.10"
  }
 },
 "nbformat": 4,
 "nbformat_minor": 5
}
