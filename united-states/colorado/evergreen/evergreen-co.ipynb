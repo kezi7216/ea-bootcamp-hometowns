{
 "cells": [
  {
   "cell_type": "markdown",
   "id": "7d6d0b3f",
   "metadata": {},
   "source": [
    "## Location\n",
    "39.6333° N, 105.3172° W"
   ]
  },
  {
   "cell_type": "markdown",
   "id": "43396f9f",
   "metadata": {},
   "source": [
    "## Population\n",
    "* April 1, 2020 population: 9,307\n",
    "* Source: https://www.census.gov/quickfacts/evergreencdpcolorado"
   ]
  },
  {
   "cell_type": "markdown",
   "id": "0c2381ff",
   "metadata": {},
   "source": [
    "## Landmark\n",
    "Evergreen Lake is a 55-acre lake owned by the City and County of Denver, and operated by Evergreen Parks & Rec. In the summer visitors can paddleboard and kayak on the lake, and during the winter the frozen lake serves as an ice skating attraction. \n",
    "\n",
    "![photo of Evergreen Lake here.](https://mk0uncovercolor8845v.kinstacdn.com/wp-content/uploads/2018/05/evergreen-lake-marshlands-jefferson-county-1440x720.jpg)"
   ]
  }
 ],
 "metadata": {
  "kernelspec": {
   "display_name": "Python 3 (ipykernel)",
   "language": "python",
   "name": "python3"
  },
  "language_info": {
   "codemirror_mode": {
    "name": "ipython",
    "version": 3
   },
   "file_extension": ".py",
   "mimetype": "text/x-python",
   "name": "python",
   "nbconvert_exporter": "python",
   "pygments_lexer": "ipython3",
   "version": "3.8.10"
  }
 },
 "nbformat": 4,
 "nbformat_minor": 5
}
