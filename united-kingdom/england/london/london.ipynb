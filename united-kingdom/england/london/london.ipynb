{
 "cells": [
  {
   "cell_type": "markdown",
   "metadata": {},
   "source": [
    "##  Lat/Long\n",
    "\n",
    "51.5074° N, 0.1278° W"
   ]
  },
  {
   "cell_type": "markdown",
   "metadata": {},
   "source": [
    "## Population\n",
    "\n",
    "<a href=\"https://en.wikipedia.org/wiki/London\" target=\"_blank\">8,961,989</a>"
   ]
  },
  {
   "cell_type": "markdown",
   "metadata": {},
   "source": [
    "## The Broad Street pump\n",
    "\n",
    "![Broad Street Pump](https://d2kdkfqxnvpuu9.cloudfront.net/images/big/78701.jpg?1550837515)\n",
    "\n",
    "Dr. John Snow is credited with taking bold action when he sensed that contaminated water from the public pump on Broad Street was the cause of deadly cholera during the 1854 outbreak in London. This has been credited as one of the first examples of where maps were used to find the source of a disease outbreak."
   ]
  },
  {
   "cell_type": "code",
   "execution_count": null,
   "metadata": {},
   "outputs": [],
   "source": []
  }
 ],
 "metadata": {
  "kernelspec": {
   "display_name": "Python 3",
   "language": "python",
   "name": "python3"
  },
  "language_info": {
   "codemirror_mode": {
    "name": "ipython",
    "version": 3
   },
   "file_extension": ".py",
   "mimetype": "text/x-python",
   "name": "python",
   "nbconvert_exporter": "python",
   "pygments_lexer": "ipython3",
   "version": "3.7.6"
  }
 },
 "nbformat": 4,
 "nbformat_minor": 2
}
