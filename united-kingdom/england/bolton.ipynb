{
 "cells": [
  {
   "attachments": {},
   "cell_type": "markdown",
   "id": "6c7cfb15",
   "metadata": {},
   "source": [
    "# Location\n",
    "\n",
    "53.58333, -2.43333\n",
    "\n",
    "# Population\n",
    "\n",
    "285,372\n",
    "\n",
    "According to the <a href=\"https://www.ons.gov.uk/peoplepopulationandcommunity/populationandmigration/populationprojections/bulletins/subnationalpopulationprojectionsforengland/2018based\">UK Office of National Statistics</a>\n",
    "\n",
    "# Landmark\n",
    "\n",
    "Ye Olde Man and Scythe is a pub in Bolton, established in 1251, making it one of the oldest pubs in England.\n",
    "![Ye Olde Man & Scythe, Bolton](https://upload.wikimedia.org/wikipedia/commons/a/aa/Ye_Olde_Man_%26_Scythe%2C_Bolton_-_geograph.org.uk_-_498745.jpg)"
   ]
  },
  {
   "cell_type": "code",
   "execution_count": null,
   "id": "b9abfc05",
   "metadata": {},
   "outputs": [],
   "source": []
  }
 ],
 "metadata": {
  "kernelspec": {
   "display_name": "Python 3 (ipykernel)",
   "language": "python",
   "name": "python3"
  },
  "language_info": {
   "codemirror_mode": {
    "name": "ipython",
    "version": 3
   },
   "file_extension": ".py",
   "mimetype": "text/x-python",
   "name": "python",
   "nbconvert_exporter": "python",
   "pygments_lexer": "ipython3",
   "version": "3.8.10"
  }
 },
 "nbformat": 4,
 "nbformat_minor": 5
}
