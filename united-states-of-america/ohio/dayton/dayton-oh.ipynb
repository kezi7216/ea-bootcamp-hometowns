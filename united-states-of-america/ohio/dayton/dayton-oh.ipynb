{
 "cells": [
  {
   "cell_type": "markdown",
   "id": "92313e4a",
   "metadata": {},
   "source": [
    " # Dayton, Ohio\n",
    " \n",
    " * Latitude: 39°45′34″N\n",
    " * Longitude:  84°11′30″W"
   ]
  },
  {
   "cell_type": "markdown",
   "id": "60600fd4",
   "metadata": {},
   "source": [
    "### [Population: 140,343 (2021)](https://worldpopulationreview.com/us-cities/dayton-oh-population)"
   ]
  },
  {
   "cell_type": "markdown",
   "id": "d3f84137",
   "metadata": {},
   "source": [
    "### Landmark: National Museum of the United States Air Force\n",
    "\n",
    "\n",
    "The National Museum of the United States Air Force is the official museum of the United States Air Force located at Wright-Patterson Air Force Base, 6 miles northeast of Dayton, Ohio. The NMUSAF is the oldest and largest military aviation museum in the world, with more than 360 aircraft and missiles on display. The museum draws about a million visitors each year, making it one of the most frequently visited tourist attractions in Ohio. [National Museum of the United States Air Force](https://www.nationalmuseum.af.mil/)\n",
    "\n",
    "![](https://upload.wikimedia.org/wikipedia/commons/2/2d/Aerial_view_of_the_National_Museum_of_the_U.S._Air_Force_4.jpg \"National Museum of the United States Air Force\")"
   ]
  },
  {
   "cell_type": "code",
   "execution_count": null,
   "id": "7edc7def",
   "metadata": {},
   "outputs": [],
   "source": []
  }
 ],
 "metadata": {
  "kernelspec": {
   "display_name": "Python 3 (ipykernel)",
   "language": "python",
   "name": "python3"
  },
  "language_info": {
   "codemirror_mode": {
    "name": "ipython",
    "version": 3
   },
   "file_extension": ".py",
   "mimetype": "text/x-python",
   "name": "python",
   "nbconvert_exporter": "python",
   "pygments_lexer": "ipython3",
   "version": "3.8.10"
  },
  "toc": {
   "base_numbering": 1,
   "nav_menu": {},
   "number_sections": true,
   "sideBar": true,
   "skip_h1_title": false,
   "title_cell": "Table of Contents",
   "title_sidebar": "Contents",
   "toc_cell": false,
   "toc_position": {},
   "toc_section_display": true,
   "toc_window_display": false
  }
 },
 "nbformat": 4,
 "nbformat_minor": 5
}
