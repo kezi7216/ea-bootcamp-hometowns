{
 "cells": [
  {
   "cell_type": "markdown",
   "metadata": {},
   "source": [
    "# Cincinnati, OH\n",
    "\n",
    "* 39.1031° N\n",
    "* 84.5120° W"
   ]
  },
  {
   "cell_type": "markdown",
   "metadata": {},
   "source": [
    "# [Population: 309,317 (2020)](https://en.wikipedia.org/wiki/Cincinnati)"
   ]
  },
  {
   "cell_type": "markdown",
   "metadata": {},
   "source": [
    "# Landmark:  Cincinnati Union Terminal\n",
    "\n",
    "Union Terminal's distinctive architecture, interior design, and history have earned it several landmark designations, including as a National Historic Landmark. Its Art Deco design incorporates several contemporaneous works of art, including two of the Winold Reiss industrial murals, a set of sixteen mosaic murals depicting Cincinnati industry commissioned for the terminal in 1931. The main space in the facility, the Rotunda, has two enormous mosaic murals designed by Reiss. Taxi and bus driveways leading to and from the Rotunda are now used as museum space. The train concourse was another significant portion of the terminal, though no longer extant. It held all sixteen of Reiss's industrial murals, along with other significant art and design features.\n",
    "\n",
    "The Cincinnati Union Terminal Company was created in 1927 to build a union station to replace five local stations used by seven railroads. Construction, which lasted from 1928 to 1933, included the creation of viaducts, mail and express buildings, and utility structures: a power plant, water treatment facility, and roundhouse. Six of the railroads terminated at the station, which they jointly owned, while the Baltimore and Ohio operated through services.\n",
    "\n",
    "[Cincinnati Union Terminal](https://en.wikipedia.org/wiki/Cincinnati_Union_Terminal)\n",
    "\n",
    "![](https://evergreene.com/wp-content/uploads/2019/05/South-rotunda-mosaic-mural-after-treatment.jpeg \"Winold Reiss Mosaic Mural Cincinnati Union Terminal\")"
   ]
  }
 ],
 "metadata": {
  "kernelspec": {
   "display_name": "Python 3.9.12 64-bit ('mambaforge-pypy3')",
   "language": "python",
   "name": "python3"
  },
  "language_info": {
   "name": "python",
   "version": "3.9.12"
  },
  "orig_nbformat": 4,
  "vscode": {
   "interpreter": {
    "hash": "8787fb1f8071ae1f54ad3041879df4e25ac7bbae7bc1903ff2b8a6e188f811f0"
   }
  }
 },
 "nbformat": 4,
 "nbformat_minor": 2
}
