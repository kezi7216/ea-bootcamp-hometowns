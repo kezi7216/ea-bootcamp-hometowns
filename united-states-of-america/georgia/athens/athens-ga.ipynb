{
 "cells": [
  {
   "cell_type": "markdown",
   "metadata": {},
   "source": [
    "# Athens, GA\n",
    "\n",
    "* 33.9519° N\n",
    "* 83.3576° W"
   ]
  },
  {
   "cell_type": "markdown",
   "metadata": {},
   "source": [
    "# [Population: 127,315 (2020)](https://en.wikipedia.org/wiki/Athens,_Georgia)"
   ]
  },
  {
   "cell_type": "markdown",
   "metadata": {},
   "source": [
    "# Landmark:  The Tree That Owns Itself\n",
    "\n",
    "The famous “Tree that Owns Itself” is a white oak located in Athens, Georgia. Its owner loved it so dearly that upon his death he granted it its autonomy.\n",
    "\n",
    "The original tree was granted a plot of land 8 feet in radius by its owner. The official deed reads:\n",
    "\n",
    "“For and in consideration of the great love I bear this tree and the great desire I have for its protection for all time, I convey entire possession of itself and all land within eight feet of the tree on all sides—William H. Jackson”\n",
    "\n",
    "Sadly, the tree was felled by a windstorm in 1942, after it had grown too old and feeble to survive. In an effort to preserve Jackson’s wishes, residents of Athens planted a seedling of the original tree in the same spot. The offspring tree is thriving at the corner of Dearing and Finley Streets, in its parent’s original plot of land. It is commonly known as the “Son of the Tree that Owns Itself.”\n",
    "\n",
    "[The Tree That Owns Itself](https://www.atlasobscura.com/places/tree-owns-itself)\n",
    "\n",
    "![](https://assets.simpleviewinc.com/simpleview/image/fetch/c_fill,h_428,q_75,w_400/https://assets.simpleviewinc.com/simpleview/image/upload/v1/clients/athens/513137b2_26d0_4ce9_9ce3_3c9b6710b560_808caeff-026e-4f75-a437-2ead7b80a4b1.jpg \"Son of The Tree That Owns Itself\")"
   ]
  }
 ],
 "metadata": {
  "kernelspec": {
   "display_name": "Python 3.8.13 ('earth-analytics-python')",
   "language": "python",
   "name": "python3"
  },
  "language_info": {
   "name": "python",
   "version": "3.8.13"
  },
  "orig_nbformat": 4,
  "vscode": {
   "interpreter": {
    "hash": "d097b575a99a5b8f6c8f0529a469b2baf540672bb44c69e07fcc7b4cc200fbe3"
   }
  }
 },
 "nbformat": 4,
 "nbformat_minor": 2
}
