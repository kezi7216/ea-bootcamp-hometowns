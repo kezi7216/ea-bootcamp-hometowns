{
 "cells": [
  {
   "cell_type": "markdown",
   "id": "92313e4a",
   "metadata": {},
   "source": [
    " # Gatlinburg, Tennessee\n",
    " \n",
    " * Latitude: 35°42′51″N \n",
    " * Longitude:  83°30′37″W"
   ]
  },
  {
   "cell_type": "markdown",
   "id": "60600fd4",
   "metadata": {},
   "source": [
    "### [Population: 3,754 (2021)](https://worldpopulationreview.com/us-cities/gatlinburg-tn-population)"
   ]
  },
  {
   "cell_type": "markdown",
   "id": "d3f84137",
   "metadata": {},
   "source": [
    "### Landmark: Great Smoky Mountains\n",
    "\n",
    "\n",
    "Cascading waterfalls, roaming wildlife and a view that stretches out over 500,000 acres – this is the country’s most-visited national park. Vacationers often start in Gatlinburg and make their way to one of the park’s famous paths where they can find everything they’ve been looking for. A hike through the Great Smoky Mountains – whether it be on the Appalachian Trail itself, a wildflower walk, or a trip to one of the many waterfalls – will leave you with a smile and a lasting impression. [Gatlinburg.com](https://www.gatlinburg.com/great-smoky-mountains/)\n",
    "\n",
    "![](https://upload.wikimedia.org/wikipedia/commons/3/3a/Clifftops4-7-07.jpg \"Great Smoky Mountains\")"
   ]
  },
  {
   "cell_type": "code",
   "execution_count": null,
   "id": "7edc7def",
   "metadata": {},
   "outputs": [],
   "source": []
  }
 ],
 "metadata": {
  "kernelspec": {
   "display_name": "Python 3 (ipykernel)",
   "language": "python",
   "name": "python3"
  },
  "language_info": {
   "codemirror_mode": {
    "name": "ipython",
    "version": 3
   },
   "file_extension": ".py",
   "mimetype": "text/x-python",
   "name": "python",
   "nbconvert_exporter": "python",
   "pygments_lexer": "ipython3",
   "version": "3.8.10"
  },
  "toc": {
   "base_numbering": 1,
   "nav_menu": {},
   "number_sections": true,
   "sideBar": true,
   "skip_h1_title": false,
   "title_cell": "Table of Contents",
   "title_sidebar": "Contents",
   "toc_cell": false,
   "toc_position": {},
   "toc_section_display": true,
   "toc_window_display": false
  }
 },
 "nbformat": 4,
 "nbformat_minor": 5
}
