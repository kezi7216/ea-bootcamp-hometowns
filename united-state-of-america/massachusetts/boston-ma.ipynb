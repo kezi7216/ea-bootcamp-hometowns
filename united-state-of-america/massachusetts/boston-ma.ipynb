{
 "cells": [
  {
   "cell_type": "markdown",
   "id": "specific-effectiveness",
   "metadata": {},
   "source": [
    "# Boston\n",
    "42.36, 71.05\n",
    "\n",
    "# Population\n",
    "654,776 (2021) (https://en.wikipedia.org/wiki/Boston)\n",
    "\n",
    "# Landmark\n",
    "Great Blue Hill\n",
    "\n",
    "Great Blue Hill is also known as Massachusett.  Great Blue Hill is located 10 miles south east of Boston and rises to 194 m.  The indgenous peoples who lived in this area called themselves Massachusett which essentially means Hill in their language.  \n",
    "\n",
    "![Great Blue Hill!](https://friendsofthebluehills.org/wp/wp-content/uploads/2018/04/Brian-MacLean-Skyline-from-hQ-to-Eliot.jpg \"Great Blue Hill\")"
   ]
  }
 ],
 "metadata": {
  "kernelspec": {
   "display_name": "Python 3",
   "language": "python",
   "name": "python3"
  },
  "language_info": {
   "codemirror_mode": {
    "name": "ipython",
    "version": 3
   },
   "file_extension": ".py",
   "mimetype": "text/x-python",
   "name": "python",
   "nbconvert_exporter": "python",
   "pygments_lexer": "ipython3",
   "version": "3.8.13"
  },
  "varInspector": {
   "cols": {
    "lenName": 16,
    "lenType": 16,
    "lenVar": 40
   },
   "kernels_config": {
    "python": {
     "delete_cmd_postfix": "",
     "delete_cmd_prefix": "del ",
     "library": "var_list.py",
     "varRefreshCmd": "print(var_dic_list())"
    },
    "r": {
     "delete_cmd_postfix": ") ",
     "delete_cmd_prefix": "rm(",
     "library": "var_list.r",
     "varRefreshCmd": "cat(var_dic_list()) "
    }
   },
   "types_to_exclude": [
    "module",
    "function",
    "builtin_function_or_method",
    "instance",
    "_Feature"
   ],
   "window_display": false
  }
 },
 "nbformat": 4,
 "nbformat_minor": 5
}
