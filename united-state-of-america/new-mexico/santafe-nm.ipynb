{
 "cells": [
  {
   "cell_type": "markdown",
   "source": [
    "## Lat/Long of Santa Fe, NM\n",
    "29.37801° N, 105.9378° W"
   ],
   "metadata": {}
  },
  {
   "cell_type": "markdown",
   "source": [
    "## Population\n",
    "<a href=\"https://worldpopulationreview.com/us-cities/santa-fe-nm-population\" target=\"_blank\">85,627</a>"
   ],
   "metadata": {}
  },
  {
   "cell_type": "markdown",
   "source": [
    "## Mew Wolf\n",
    "![Meow Wolf](https://assets-global.website-files.com/5dad7a19f43e6f31a9e92718/5f80a2cc5d23e71099517470_MeowWolfTreehouse.jpg)\n",
    "<br>\n",
    "Meow Wolf is an American arts and entertainment company that creates large-scale immersive art installations as well as produces streaming content, music videos, and arts and music festivals. Founded in 2008, its flagship attraction, House of Eternal Return in Santa Fe, New Mexico, is a 20,000-square-foot (1,900 m2) facility, which includes an immersive art installation, learning center, and concert venue."
   ],
   "metadata": {}
  },
  {
   "cell_type": "code",
   "execution_count": null,
   "source": [],
   "outputs": [],
   "metadata": {}
  }
 ],
 "metadata": {
  "kernelspec": {
   "name": "python3",
   "display_name": "Python 3.9.5 64-bit (conda)"
  },
  "language_info": {
   "codemirror_mode": {
    "name": "ipython",
    "version": 3
   },
   "file_extension": ".py",
   "mimetype": "text/x-python",
   "name": "python",
   "nbconvert_exporter": "python",
   "pygments_lexer": "ipython3",
   "version": "3.9.5"
  },
  "interpreter": {
   "hash": "d8e8e23bd446fcb9b22da052d1aabb4a130fdea2574adb27dd709cf31325b849"
  }
 },
 "nbformat": 4,
 "nbformat_minor": 2
}