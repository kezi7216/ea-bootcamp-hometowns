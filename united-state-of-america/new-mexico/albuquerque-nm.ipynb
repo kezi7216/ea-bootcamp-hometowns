{
 "cells": [
  {
   "cell_type": "markdown",
   "source": [
    "## Latitude and Longitude of Albuquerque, New Mexico ##\n",
    "\n",
    "### 35.0844, 106.6504 ##"
   ],
   "metadata": {}
  },
  {
   "cell_type": "markdown",
   "source": [
    "##  Population Census ##\n",
    "\n",
    "[562,281 people in Albuquerque, New Mexico](https://worldpopulationreview.com/us-cities/albuquerque-nm-population)\n"
   ],
   "metadata": {}
  },
  {
   "cell_type": "markdown",
   "source": [
    "## Anderson-Abruzzo Albuquerque International Balloon Museum ##\n",
    "<img src=\"https://upload.wikimedia.org/wikipedia/commons/7/76/Albuquerque_balloon_museum.jpg\" alt=\"International Balloon Museum\" title=\"International Balloon Museum\" />\n",
    "\n",
    "**The Anderson-Abruzzo Albuquerque International Balloon Museum is a museum dedicated to the worldwide history, science, and art of all types of ballooning and lighter-than-air flight. It is located in Albuquerque, New Mexico, USA, and is situated just outside the grounds used for the Albuquerque International Balloon Fiesta, the world's largest yearly balloon fiesta, and is named for Ben Abruzzo and Maxie Anderson, two Albuquerque natives who established several ballooning firsts, such as crossing oceans and continents.**"
   ],
   "metadata": {}
  },
  {
   "cell_type": "code",
   "execution_count": null,
   "source": [],
   "outputs": [],
   "metadata": {}
  }
 ],
 "metadata": {
  "kernelspec": {
   "display_name": "Python 3",
   "language": "python",
   "name": "python3"
  },
  "language_info": {
   "codemirror_mode": {
    "name": "ipython",
    "version": 3
   },
   "file_extension": ".py",
   "mimetype": "text/x-python",
   "name": "python",
   "nbconvert_exporter": "python",
   "pygments_lexer": "ipython3",
   "version": "3.7.3"
  }
 },
 "nbformat": 4,
 "nbformat_minor": 2
}