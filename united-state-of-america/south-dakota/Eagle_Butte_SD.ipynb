{
  "nbformat": 4,
  "nbformat_minor": 0,
  "metadata": {
    "colab": {
      "name": "Eagle-Butte-SD.ipynb",
      "provenance": []
    },
    "kernelspec": {
      "name": "python3",
      "display_name": "Python 3"
    },
    "language_info": {
      "name": "python"
    }
  },
  "cells": [
    {
      "cell_type": "markdown",
      "metadata": {
        "id": "oJV8J4aUSxYY"
      },
      "source": [
        "**Eagle Butte, South Dakota**\n",
        "* 44.9887° N \n",
        "* 101.2225° W"
      ]
    },
    {
      "cell_type": "markdown",
      "metadata": {
        "id": "ys__KQcOTixz"
      },
      "source": [
        "**Population; 1,062(2019)**"
      ]
    },
    {
      "cell_type": "markdown",
      "metadata": {
        "id": "WfCXaPvPURYy"
      },
      "source": [
        "Eagle Butte is the tribal headquarters of the Cheyenne River Sioux Tribe on the Cheyenne River Indian Reservation.\n",
        "\n",
        "The city takes its name from Eagle Butte.\n",
        "[Wikipedia](https://en.wikipedia.org/wiki/Eagle_Butte,_South_Dakota)\n",
        "\n",
        "![](https://scontent.ffsd2-1.fna.fbcdn.net/v/t1.18169-9/10502133_482592521885319_8456427066318653206_n.jpg?_nc_cat=110&ccb=1-5&_nc_sid=09cbfe&_nc_ohc=EhVw_XB5m-QAX_36Ti7&_nc_ht=scontent.ffsd2-1.fna&oh=19a33227ee108e41bf962cc5b8f3d198&oe=6192902E)"
      ]
    }
  ]
}