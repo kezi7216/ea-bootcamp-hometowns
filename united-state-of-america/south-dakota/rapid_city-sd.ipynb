{
 "cells": [
  {
   "cell_type": "markdown",
   "metadata": {},
   "source": [
    "# Location: Rapid City, SD\n",
    "**Lat/Lon:** 44.076, -103.228\n",
    "\n",
    "**Source:** https://geohack.toolforge.org/geohack.php?pagename=Rapid_City,_South_Dakota&params=44.076_N_103.228_W_region:US-SD_type:city(67956)"
   ]
  },
  {
   "cell_type": "markdown",
   "metadata": {},
   "source": [
    "# Population: 67,956\n",
    "\n",
    "[Population Source Reference](https://en.wikipedia.org/wiki/Rapid_City,_South_Dakota)"
   ]
  },
  {
   "cell_type": "markdown",
   "metadata": {},
   "source": [
    "# Landmark: Mount Rushmore\n",
    "![Mount Rushmore](https://www.travelsouthdakota.com/sites/default/files/styles/16_to_9_large/public/mtrushmore00274.jpg?itok=g0hzwKmF \"Mount Rushmore\")\n",
    "\n",
    "**Description:** \"America's Shrine of Democracy, Mount Rushmore National Memorial features the 60-foot faces of four great American presidents who represent the birth, growth, development and preservation of this country.\"\n",
    "\n",
    "**Image & Information Source:** https://www.travelsouthdakota.com/explore-with-us/great-8/mount-rushmore"
   ]
  }
 ],
 "metadata": {
  "kernelspec": {
   "display_name": "Python 3",
   "language": "python",
   "name": "python3"
  },
  "language_info": {
   "codemirror_mode": {
    "name": "ipython",
    "version": 3
   },
   "file_extension": ".py",
   "mimetype": "text/x-python",
   "name": "python",
   "nbconvert_exporter": "python",
   "pygments_lexer": "ipython3",
   "version": "3.7.6"
  }
 },
 "nbformat": 4,
 "nbformat_minor": 4
}
