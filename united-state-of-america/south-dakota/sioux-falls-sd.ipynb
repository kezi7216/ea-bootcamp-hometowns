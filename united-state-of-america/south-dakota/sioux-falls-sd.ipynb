{
 "cells": [
  {
   "cell_type": "markdown",
   "metadata": {},
   "source": [
    "# Sioux Falls, SD\n",
    "\n",
    "* Lattitdue 43.5460° N\n",
    "* Longitude 96.7313° W"
   ]
  },
  {
   "cell_type": "markdown",
   "metadata": {},
   "source": [
    "# Population\n",
    "<a href=\"https://data.census.gov/cedsci/table?q=sioux%20falls%20population&tid=ACSDP1Y2019.DP05&hidePreview=false\"> 183,799 </a>"
   ]
  },
  {
   "cell_type": "markdown",
   "metadata": {},
   "source": [
    "# Falls Park\n",
    "![Falls Park](https://upload.wikimedia.org/wikipedia/en/thumb/e/eb/SiouxFalls.jpg/2560px-SiouxFalls.jpg)\n",
    "\n",
    "The water falls that make up Falls Park cut through pink Sioux Quartzite that is over a billion years old. The Sioux Quartzite is the local bedrock formation. Wisconsin Glacial activity moved previously deposited sediments exposing the quartzite at the surface. As the glacier melted it formed the Big Sioux River valley that now flows over the exposure creating the falls.  "
   ]
  },
  {
   "cell_type": "code",
   "execution_count": null,
   "metadata": {},
   "outputs": [],
   "source": []
  }
 ],
 "metadata": {
  "kernelspec": {
   "display_name": "Python 3",
   "language": "python",
   "name": "python3"
  },
  "language_info": {
   "codemirror_mode": {
    "name": "ipython",
    "version": 3
   },
   "file_extension": ".py",
   "mimetype": "text/x-python",
   "name": "python",
   "nbconvert_exporter": "python",
   "pygments_lexer": "ipython3",
   "version": "3.7.8"
  }
 },
 "nbformat": 4,
 "nbformat_minor": 4
}
