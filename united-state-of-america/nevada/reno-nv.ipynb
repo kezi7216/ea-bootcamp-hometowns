{
 "cells": [
  {
   "cell_type": "markdown",
   "metadata": {},
   "source": [
    "## Location:\n",
    "* Downtown Reno, NV is located at (39.528017, -119.813647)\n",
    "\n",
    "## Population:\n",
    "* 255,601\n",
    "* This data was found at the <a href=\"https://www.census.gov/quickfacts/fact/table/renocitynevada/PST045219\" target=\"_blank\">United States Census Bureau</a>\n",
    "\n",
    "## Landmark: Idlewild Park\n",
    "* Idlewild Park is located just outside of downtown Reno, situated along the Truckee River. This park is amazing for a lazy afternoon spent watching butterflies and every Friday it comes alive with Food Truck Friday.\n",
    "\n",
    "![Idlewild Park](https://renotahoecarson.com/sites/default/files/styles/ob_very_large/public/business/event/32855858_1670288693018368_7250166518070116352_n.jpg?itok=TVNTB7T7)"
   ]
  },
  {
   "cell_type": "code",
   "execution_count": null,
   "metadata": {},
   "outputs": [],
   "source": []
  }
 ],
 "metadata": {
  "kernelspec": {
   "display_name": "Python 3",
   "language": "python",
   "name": "python3"
  },
  "language_info": {
   "codemirror_mode": {
    "name": "ipython",
    "version": 3
   },
   "file_extension": ".py",
   "mimetype": "text/x-python",
   "name": "python",
   "nbconvert_exporter": "python",
   "pygments_lexer": "ipython3",
   "version": "3.7.8"
  }
 },
 "nbformat": 4,
 "nbformat_minor": 4
}
