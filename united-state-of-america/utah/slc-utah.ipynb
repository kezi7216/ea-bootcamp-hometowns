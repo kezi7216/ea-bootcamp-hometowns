{
 "cells": [
  {
   "cell_type": "markdown",
   "id": "sudden-affairs",
   "metadata": {},
   "source": [
    "# Salt Lake City\n",
    "40.76, 111.89\n",
    "\n",
    "# Population\n",
    "200,478 (2021) (https://en.wikipedia.org/wiki/Salt_Lake_City)\n",
    "\n",
    "# Landmark\n",
    "Great Salt Lake\n",
    "\n",
    "The Great Salt Lake is a remnant of Lake Bonneville that was formed after the last glacial maximum around 18,000 years ago.  It is the largest saltwater lake in the Western Hemisphere and one of the largest terminal lakes in the world.  The lake and surrounding wetlands are of critical importance to migratory birds.\n",
    "\n",
    "![The Great Salt Lake!](https://assets.simpleviewinc.com/simpleview/image/upload/c_fill,h_501,q_75,w_741/v1/clients/utahddm/3e53314777_019d7d20-a0e6-4c55-8102-f89caf777ee0.jpg \"Great Salt Lake\")"
   ]
  },
  {
   "cell_type": "code",
   "execution_count": null,
   "id": "medical-village",
   "metadata": {},
   "outputs": [],
   "source": []
  }
 ],
 "metadata": {
  "kernelspec": {
   "display_name": "Python 3",
   "language": "python",
   "name": "python3"
  },
  "language_info": {
   "codemirror_mode": {
    "name": "ipython",
    "version": 3
   },
   "file_extension": ".py",
   "mimetype": "text/x-python",
   "name": "python",
   "nbconvert_exporter": "python",
   "pygments_lexer": "ipython3",
   "version": "3.8.13"
  },
  "varInspector": {
   "cols": {
    "lenName": 16,
    "lenType": 16,
    "lenVar": 40
   },
   "kernels_config": {
    "python": {
     "delete_cmd_postfix": "",
     "delete_cmd_prefix": "del ",
     "library": "var_list.py",
     "varRefreshCmd": "print(var_dic_list())"
    },
    "r": {
     "delete_cmd_postfix": ") ",
     "delete_cmd_prefix": "rm(",
     "library": "var_list.r",
     "varRefreshCmd": "cat(var_dic_list()) "
    }
   },
   "types_to_exclude": [
    "module",
    "function",
    "builtin_function_or_method",
    "instance",
    "_Feature"
   ],
   "window_display": false
  }
 },
 "nbformat": 4,
 "nbformat_minor": 5
}
