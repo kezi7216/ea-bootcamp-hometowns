{
 "cells": [
  {
   "cell_type": "markdown",
   "metadata": {},
   "source": [
    "## Location:\n",
    "* The Town Center is at (40.795927, -74.315310)\n",
    "\n",
    "## Population:\n",
    "* 30,054\n",
    "* This data was found at the <a href=\"https://www.census.gov/quickfacts/livingstontownshipessexcountynewjersey\" target=\"_blank\">United States Census Bureau</a>\n",
    "\n",
    "## Landmark: Livingston Gazebo\n",
    "* The Livingston Gazebo on the Oval is home to concerts, fundraising events, some awesome pokemon in Pokemon Go, and the Camuso Holiday Display each holiday season.\n",
    "\n",
    "![Livingston Gazebo](https://www.livingstonnj.org/ImageRepository/Document?documentID=6369)"
   ]
  },
  {
   "cell_type": "code",
   "execution_count": null,
   "metadata": {},
   "outputs": [],
   "source": []
  }
 ],
 "metadata": {
  "kernelspec": {
   "display_name": "Python 3",
   "language": "python",
   "name": "python3"
  },
  "language_info": {
   "codemirror_mode": {
    "name": "ipython",
    "version": 3
   },
   "file_extension": ".py",
   "mimetype": "text/x-python",
   "name": "python",
   "nbconvert_exporter": "python",
   "pygments_lexer": "ipython3",
   "version": "3.7.8"
  }
 },
 "nbformat": 4,
 "nbformat_minor": 4
}
