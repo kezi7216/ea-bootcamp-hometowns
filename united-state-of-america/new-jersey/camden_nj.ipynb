{
 "cells": [
  {
   "cell_type": "markdown",
   "metadata": {},
   "source": [
    "### Camden Latitude and Longitude\n",
    "* 39.9259° N, 75.1196° W"
   ]
  },
  {
   "cell_type": "markdown",
   "metadata": {},
   "source": [
    "### Estimated Camden population in 2020 \n",
    "74,608 [Camden current population](https://datausa.io/profile/geo/camden-nj/)"
   ]
  },
  {
   "cell_type": "markdown",
   "metadata": {},
   "source": [
    "## Landmark: An abandoned neighborhood\n",
    "* While Camden boasts some more attractive sites, Camden is one of \n",
    " (if not the primary) poorest towns in the United States\n",
    "![abandoned](https://i.redd.it/guzdouup3w121.jpg)"
   ]
  },
  {
   "cell_type": "code",
   "execution_count": null,
   "metadata": {},
   "outputs": [],
   "source": []
  }
 ],
 "metadata": {
  "kernelspec": {
   "display_name": "Python 3",
   "language": "python",
   "name": "python3"
  },
  "language_info": {
   "codemirror_mode": {
    "name": "ipython",
    "version": 3
   },
   "file_extension": ".py",
   "mimetype": "text/x-python",
   "name": "python",
   "nbconvert_exporter": "python",
   "pygments_lexer": "ipython3",
   "version": "3.7.8"
  }
 },
 "nbformat": 4,
 "nbformat_minor": 4
}
