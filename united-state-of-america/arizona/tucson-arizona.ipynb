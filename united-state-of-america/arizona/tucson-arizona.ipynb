{
 "cells": [
  {
   "cell_type": "markdown",
   "metadata": {},
   "source": [
    "## Latitude and Longitude of Tucson, AZ\n",
    "32.2226° N, 110.9747° W"
   ]
  },
  {
   "cell_type": "markdown",
   "metadata": {},
   "source": [
    "## Population\n",
    "\n",
    "As of July 2019 <a href=\"https://www.census.gov/quickfacts/tucsoncityarizona\" target=\"_blank\">548,073</a>"
   ]
  },
  {
   "cell_type": "markdown",
   "metadata": {},
   "source": [
    "## Saguaro National Park\n",
    "![Saguaro National Park](https://bloximages.chicago2.vip.townnews.com/tucson.com/content/tncms/assets/v3/editorial/6/76/676a14f5-6d4e-55df-a500-7e6a08ced81b/5ac7e3b52abe3.image.jpg?resize=1200%2C786)\n",
    "Located in the Rincon Mountain District, Saguaro National Park, is a preserve in the Sonoron Desert. It is named after the saguaro cactus, which does not grow naturally anywhere else. These plants are only found in a small portion of the United States and are often seen as a symbol of the American west.   "
   ]
  }
 ],
 "metadata": {
  "kernelspec": {
   "display_name": "Python 3",
   "language": "python",
   "name": "python3"
  },
  "language_info": {
   "codemirror_mode": {
    "name": "ipython",
    "version": 3
   },
   "file_extension": ".py",
   "mimetype": "text/x-python",
   "name": "python",
   "nbconvert_exporter": "python",
   "pygments_lexer": "ipython3",
   "version": "3.8.5"
  }
 },
 "nbformat": 4,
 "nbformat_minor": 4
}
