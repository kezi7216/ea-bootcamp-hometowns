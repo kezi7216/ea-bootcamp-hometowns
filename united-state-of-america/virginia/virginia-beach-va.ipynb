{
 "cells": [
  {
   "cell_type": "markdown",
   "metadata": {},
   "source": [
    "# Location\n",
    "36.8529° N, 75.9780° W"
   ]
  },
  {
   "cell_type": "markdown",
   "metadata": {},
   "source": [
    "# Population\n",
    "449,974\n",
    "<a href=\"https://www.census.gov/quickfacts/virginiabeachcityvirginiacounty\" target=\"_blank\">Population Statistic Source</a>"
   ]
  },
  {
   "cell_type": "markdown",
   "metadata": {},
   "source": [
    "# Landmark\n",
    "![Mt. Trashmore is the highest point in Virginia Beach, at a whopping 145 feet!](https://greatruns.com/wp-content/uploads/2017/04/Mt.-Trashmore-Park-700x400.jpeg)\n",
    "\n",
    "Mt. Trashmore is the highest point in Virginia Beach, at a whopping 145 feet!"
   ]
  },
  {
   "cell_type": "code",
   "execution_count": null,
   "metadata": {},
   "outputs": [],
   "source": []
  }
 ],
 "metadata": {
  "kernelspec": {
   "display_name": "Python 3",
   "language": "python",
   "name": "python3"
  },
  "language_info": {
   "codemirror_mode": {
    "name": "ipython",
    "version": 3
   },
   "file_extension": ".py",
   "mimetype": "text/x-python",
   "name": "python",
   "nbconvert_exporter": "python",
   "pygments_lexer": "ipython3",
   "version": "3.8.5"
  }
 },
 "nbformat": 4,
 "nbformat_minor": 4
}
