{
 "cells": [
  {
   "cell_type": "markdown",
   "id": "d47002aa",
   "metadata": {},
   "source": [
    "## Latitude and Longitude of Charlottesville, Virginia\n",
    "38.03&deg; N, 78.478889&deg; W"
   ]
  },
  {
   "cell_type": "markdown",
   "id": "8dbc686f",
   "metadata": {},
   "source": [
    "## Population in 2020\n",
    "<a href=\"https://www.census.gov/quickfacts/fact/table/charlottesvillecityvirginia,albemarlecountyvirginia,VA,US/PST045219\" target=\"_blank\">46,553</a>"
   ]
  },
  {
   "cell_type": "markdown",
   "id": "46c2eb65",
   "metadata": {},
   "source": [
    "## Monticello\n",
    "![Picture of Monticello](https://assets.simpleviewinc.com/simpleview/image/fetch/c_fill,h_500,q_75,w_718/https://assets.simpleviewinc.com/simpleview/image/upload/crm/charlottesville/Monticello-JLooney-26aug2013-0056-cdba05055056a36_cdba0663-5056-a36a-060480586703b12e.jpg)\n",
    "Monticello, the home of Thomas Jefferson, the third president of the United States, is located just outside of Charlottesville. Designated as a historic landmark and maintained by the Thomas Jefferson Foundation, Monticello is open to the public."
   ]
  }
 ],
 "metadata": {
  "kernelspec": {
   "display_name": "Python 3 (ipykernel)",
   "language": "python",
   "name": "python3"
  },
  "language_info": {
   "codemirror_mode": {
    "name": "ipython",
    "version": 3
   },
   "file_extension": ".py",
   "mimetype": "text/x-python",
   "name": "python",
   "nbconvert_exporter": "python",
   "pygments_lexer": "ipython3",
   "version": "3.8.10"
  }
 },
 "nbformat": 4,
 "nbformat_minor": 5
}
