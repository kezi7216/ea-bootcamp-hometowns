{
 "cells": [
  {
   "cell_type": "markdown",
   "metadata": {},
   "source": [
    "### Fort Collins lat long: \n",
    "   * 40.5853° N, 105.0844° W"
   ]
  },
  {
   "cell_type": "markdown",
   "metadata": {},
   "source": [
    "### Estimated Fort Collins population in 2020 \n",
    "337,000 [Fort Collins 2020 population](https://www.macrotrends.net/cities/22991/fort-collins/population)"
   ]
  },
  {
   "cell_type": "markdown",
   "metadata": {},
   "source": [
    "## Landmark: Horsetooth Rock\n",
    "* Horsetooth Rock is a landmark visible on the west side of Fort Collins and is contained within a park that contains fun mountain biking trails.\n",
    "![horsetooth_rock](https://live.staticflickr.com/6224/6333993027_150e3355ef_b.jpg)"
   ]
  },
  {
   "cell_type": "code",
   "execution_count": null,
   "metadata": {},
   "outputs": [],
   "source": []
  }
 ],
 "metadata": {
  "kernelspec": {
   "display_name": "Python 3",
   "language": "python",
   "name": "python3"
  },
  "language_info": {
   "codemirror_mode": {
    "name": "ipython",
    "version": 3
   },
   "file_extension": ".py",
   "mimetype": "text/x-python",
   "name": "python",
   "nbconvert_exporter": "python",
   "pygments_lexer": "ipython3",
   "version": "3.7.8"
  }
 },
 "nbformat": 4,
 "nbformat_minor": 4
}
