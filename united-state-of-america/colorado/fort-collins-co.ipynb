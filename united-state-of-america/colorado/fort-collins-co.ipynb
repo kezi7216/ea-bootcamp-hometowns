{
 "cells": [
  {
   "cell_type": "markdown",
   "metadata": {},
   "source": [
    "## Location\n",
    "Fort Collins, CO is located at 40.5853° N, 105.0844° W.\n",
    "## Population\n",
    "The estimated population of Fort Collins is 170,243 people as of July 1, 2019. This information is provided by the <a href=\"https://www.census.gov/quickfacts/fact/table/fortcollinscitycolorado/PST045219\" target=\"_blank\">US Census Bureau</a> and is based on the official 2010 Census.\n",
    "## Landmark\n",
    "Old Town Square in downtown Fort Collins is full of local shops and restaurants and is especially beautiful when lit up for the winter holidays!\n",
    "![Old Town FoCo in winter](https://www.gannett-cdn.com/presto/2019/11/02/PFTC/c63bb570-5aaa-43b5-9107-2bb7de532d0a-110119_HolidayLights_06_bb.jpg?width=640)"
   ]
  },
  {
   "cell_type": "code",
   "execution_count": null,
   "metadata": {},
   "outputs": [],
   "source": []
  }
 ],
 "metadata": {
  "kernelspec": {
   "display_name": "Python 3",
   "language": "python",
   "name": "python3"
  },
  "language_info": {
   "codemirror_mode": {
    "name": "ipython",
    "version": 3
   },
   "file_extension": ".py",
   "mimetype": "text/x-python",
   "name": "python",
   "nbconvert_exporter": "python",
   "pygments_lexer": "ipython3",
   "version": "3.7.6"
  }
 },
 "nbformat": 4,
 "nbformat_minor": 4
}
