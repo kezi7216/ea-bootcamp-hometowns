{
 "cells": [
  {
   "cell_type": "markdown",
   "id": "f8deef42",
   "metadata": {},
   "source": [
    "# Durango, CO\n",
    "37.2753° N, 107.8801° W\n",
    "\n",
    "\n",
    "# Population \n",
    "18,973 people [live in Durango ](https://www.census.gov/quickfacts/fact/table/durangocitycolorado/PST045219)\n",
    "\n",
    "# Perins Peak and Hogsback Mountain frame the town\n",
    "\n",
    "![Hogsback and Perins Peak](https://peakbaggerblobs.blob.core.windows.net/pbphoto/p6260L.jpg)"
   ]
  },
  {
   "cell_type": "code",
   "execution_count": null,
   "id": "326f46e1",
   "metadata": {},
   "outputs": [],
   "source": []
  }
 ],
 "metadata": {
  "kernelspec": {
   "display_name": "Python 3 (ipykernel)",
   "language": "python",
   "name": "python3"
  },
  "language_info": {
   "codemirror_mode": {
    "name": "ipython",
    "version": 3
   },
   "file_extension": ".py",
   "mimetype": "text/x-python",
   "name": "python",
   "nbconvert_exporter": "python",
   "pygments_lexer": "ipython3",
   "version": "3.8.12"
  }
 },
 "nbformat": 4,
 "nbformat_minor": 5
}
