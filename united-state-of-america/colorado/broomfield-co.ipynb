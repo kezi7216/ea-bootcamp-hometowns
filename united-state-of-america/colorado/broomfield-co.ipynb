{
 "cells": [
  {
   "cell_type": "markdown",
   "metadata": {},
   "source": [
    "# Broomfield, CO\n",
    "\n",
    "### Location (Lat/Lon):\n",
    "39.9205° N, 105.0867° W\n",
    "\n",
    "### Population:\n",
    "72,783\n",
    "\n",
    "https://worldpopulationreview.com/us-cities/broomfield-co-population"
   ]
  },
  {
   "cell_type": "markdown",
   "metadata": {},
   "source": [
    "### Landmark: Broomfield County Commons Park\n",
    "Broomfield County Commons Park is 86 acres with 778 Regular and 16 Handicap parking spaces and was first established in 2003. Amenities include dog parks, football fields, picnic tables, playgrounds, shelters, and soccer fields.\n",
    "\n",
    "![](https://www.broomfield.org/ImageRepository/Path?filePath=%2Fdocuments%5C00000000-0000-0000-0000-000000000000%5C505%2Fcounty+commons.jpg)"
   ]
  },
  {
   "cell_type": "code",
   "execution_count": null,
   "metadata": {},
   "outputs": [],
   "source": []
  }
 ],
 "metadata": {
  "kernelspec": {
   "display_name": "Python 3",
   "language": "python",
   "name": "python3"
  },
  "language_info": {
   "codemirror_mode": {
    "name": "ipython",
    "version": 3
   },
   "file_extension": ".py",
   "mimetype": "text/x-python",
   "name": "python",
   "nbconvert_exporter": "python",
   "pygments_lexer": "ipython3",
   "version": "3.8.5"
  }
 },
 "nbformat": 4,
 "nbformat_minor": 4
}
