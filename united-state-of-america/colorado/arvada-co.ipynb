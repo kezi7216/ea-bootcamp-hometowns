{
 "cells": [
  {
   "cell_type": "markdown",
   "metadata": {},
   "source": [
    " # Arvada, Colorado\n",
    " \n",
    " * Latitude: 39.8028° N\n",
    " * Longitude: 105.0875° W"
   ]
  },
  {
   "cell_type": "markdown",
   "metadata": {},
   "source": [
    "### Population: 118,746 (2019)"
   ]
  },
  {
   "cell_type": "markdown",
   "metadata": {},
   "source": [
    "### Landmark: \n",
    "\n",
    "Olde Town Arvada, the 15.1 acres (6.1 ha) historic district in Arvada, Colorado bounded by Ralston Road, Teller Road, Grandview Avenue and Yukon Street. It was listed on the National Register of Historic Places in 1998. The listing included 42 contributing buildings.[Wikipedia](https://en.wikipedia.org/wiki/Olde_Town_Arvada)\n",
    "\n",
    "![](https://oldetownarvada.org/wp-content/uploads/bb-plugin/cache/Bonus-031-1-scaled-square.jpg \"Olde Town\")"
   ]
  },
  {
   "cell_type": "code",
   "execution_count": null,
   "metadata": {},
   "outputs": [],
   "source": []
  }
 ],
 "metadata": {
  "kernelspec": {
   "display_name": "Python 3",
   "language": "python",
   "name": "python3"
  },
  "language_info": {
   "codemirror_mode": {
    "name": "ipython",
    "version": 3
   },
   "file_extension": ".py",
   "mimetype": "text/x-python",
   "name": "python",
   "nbconvert_exporter": "python",
   "pygments_lexer": "ipython3",
   "version": "3.7.6"
  }
 },
 "nbformat": 4,
 "nbformat_minor": 2
}
