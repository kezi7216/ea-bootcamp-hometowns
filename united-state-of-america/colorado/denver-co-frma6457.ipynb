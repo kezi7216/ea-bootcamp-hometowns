{
 "cells": [
  {
   "cell_type": "markdown",
   "metadata": {},
   "source": [
    "## Denver City\n",
    "\n",
    "---\n",
    "\n",
    "### Latitude and Longitude\n",
    "\n",
    "39.7392° N, 104.9903° W \n",
    "\n",
    "### Population\n",
    "\n",
    "717,796\n",
    "\n",
    "Source: [MetroDenverEDC](http://www.metrodenver.org/do-business/demographics/population/)\n",
    "\n",
    "\n",
    "### Landmark\n",
    "\n",
    "Black American West Museum & Heritage Center\n",
    "\n",
    "<a href=\"https://denverarchitecture.org/site/black-american-west-museum-heritage-center/\" target=\"_blank\">Black American West Museum & Heritage Center</a>\n",
    "\n",
    "The Black American West Museum, founded by Paul Stewart, is housed in the former home of Dr. Justina Ford, Colorado’s first African-American female doctor. The museum tells the story of “Black Cowboys” and other early Blacks who came west and performed as miners, soldiers, ranchers, lawmen and other professions needed to build up the West. The museum's mission is to promote \"the role that African Americans played in the settlement and growth of the western United States.\" \n",
    "\n",
    " \n",
    "\n",
    "\n"
   ]
  }
 ],
 "metadata": {
  "kernelspec": {
   "display_name": "Python 3",
   "language": "python",
   "name": "python3"
  },
  "language_info": {
   "codemirror_mode": {
    "name": "ipython",
    "version": 3
   },
   "file_extension": ".py",
   "mimetype": "text/x-python",
   "name": "python",
   "nbconvert_exporter": "python",
   "pygments_lexer": "ipython3",
   "version": "3.8.5"
  }
 },
 "nbformat": 4,
 "nbformat_minor": 4
}
