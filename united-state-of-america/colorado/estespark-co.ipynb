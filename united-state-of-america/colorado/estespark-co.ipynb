{
 "cells": [
  {
   "cell_type": "markdown",
   "metadata": {},
   "source": [
    "# Estes Park, CO¶\n",
    "### Location (Lat/Lon):\n",
    "40.3772° N, 105.5217° W\n",
    "### Population:\n",
    "6,310\n",
    "\n",
    "https://worldpopulationreview.com/us-cities/estes-park-co-population"
   ]
  },
  {
   "cell_type": "markdown",
   "metadata": {},
   "source": [
    "### Landmark: Rocky Mountain National Park\n",
    "Estes Park, just 90 minutes from Denver, is located at the eastern entrance to Rocky Mountain National Park. A majestic mountain destination known for outdoor adventure, watchable wildlife and scenic beauty, Estes Park is the most visited mountain village in Colorado. (Source: https://www.visitestespark.com/about-us/)\n",
    "\n",
    "![](https://assets.simpleviewinc.com/simpleview/image/upload/c_fill,h_761,q_75,w_1903/v1/clients/estespark/5e41e3c7_3174_472a_b85c_ffe35dc7250f_bccff069-05e4-4991-81a5-764ca41e10ad.jpg)"
   ]
  },
  {
   "cell_type": "code",
   "execution_count": null,
   "metadata": {},
   "outputs": [],
   "source": []
  }
 ],
 "metadata": {
  "kernelspec": {
   "display_name": "Python 3",
   "language": "python",
   "name": "python3"
  },
  "language_info": {
   "codemirror_mode": {
    "name": "ipython",
    "version": 3
   },
   "file_extension": ".py",
   "mimetype": "text/x-python",
   "name": "python",
   "nbconvert_exporter": "python",
   "pygments_lexer": "ipython3",
   "version": "3.8.5"
  }
 },
 "nbformat": 4,
 "nbformat_minor": 4
}
