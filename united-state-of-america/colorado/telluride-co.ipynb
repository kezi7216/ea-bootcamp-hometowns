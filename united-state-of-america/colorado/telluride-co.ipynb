{
 "cells": [
  {
   "cell_type": "markdown",
   "metadata": {},
   "source": [
    "## Lat/Long \n",
    "\n",
    "37.937492°N, -107.812286°W\n",
    "\n"
   ]
  },
  {
   "cell_type": "markdown",
   "metadata": {},
   "source": [
    "## Population \n",
    "\n",
    " \n",
    "\n",
    "<a href=\"http://www.city-data.com/city/Telluride-Colorado.html\" target=\"_blank\">Population=2,426</a>"
   ]
  },
  {
   "cell_type": "markdown",
   "metadata": {},
   "source": [
    "## The gondola\n",
    "\n",
    "![Free Gondola](https://townofmountainvillage.com/media/GondolaStationTellurideBlog.jpg)\n",
    "\n",
    "\n",
    "The gondola is a free transportation development linking Telluride to the ski resort and the neighboring town of Mountain Village\n",
    "\n"
   ]
  },
  {
   "cell_type": "code",
   "execution_count": null,
   "metadata": {},
   "outputs": [],
   "source": []
  }
 ],
 "metadata": {
  "kernelspec": {
   "display_name": "Python 3 (ipykernel)",
   "language": "python",
   "name": "python3"
  },
  "language_info": {
   "codemirror_mode": {
    "name": "ipython",
    "version": 3
   },
   "file_extension": ".py",
   "mimetype": "text/x-python",
   "name": "python",
   "nbconvert_exporter": "python",
   "pygments_lexer": "ipython3",
   "version": "3.8.12"
  }
 },
 "nbformat": 4,
 "nbformat_minor": 2
}
