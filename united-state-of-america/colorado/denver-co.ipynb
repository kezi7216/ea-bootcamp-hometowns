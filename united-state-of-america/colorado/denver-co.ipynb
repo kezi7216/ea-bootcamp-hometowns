{
 "cells": [
  {
   "cell_type": "markdown",
   "metadata": {},
   "source": [
    "# Location\n",
    "39.7392° N, 104.9903° W"
   ]
  },
  {
   "cell_type": "markdown",
   "metadata": {},
   "source": [
    "# Population\n",
    "717,796 <a href=\"http://www.metrodenver.org/do-business/demographics/population/\" target=\"_blank\">Population Statistic Source</a>"
   ]
  },
  {
   "cell_type": "markdown",
   "metadata": {},
   "source": [
    "# Landmark\n",
    "\n",
    "![The 13th step of the Colorado Capitol Building, in Denver, CO, sits at exactly one mile above sea level.](https://www.colorado.com/sites/default/files/capitol_vd_bobash.jpg)\n",
    "\n",
    "The 13th step of the Colorado Capitol Building, in Denver, CO, sits at exactly one mile above sea level"
   ]
  },
  {
   "cell_type": "code",
   "execution_count": null,
   "metadata": {},
   "outputs": [],
   "source": []
  }
 ],
 "metadata": {
  "kernelspec": {
   "display_name": "Python 3",
   "language": "python",
   "name": "python3"
  },
  "language_info": {
   "codemirror_mode": {
    "name": "ipython",
    "version": 3
   },
   "file_extension": ".py",
   "mimetype": "text/x-python",
   "name": "python",
   "nbconvert_exporter": "python",
   "pygments_lexer": "ipython3",
   "version": "3.8.5"
  }
 },
 "nbformat": 4,
 "nbformat_minor": 4
}
