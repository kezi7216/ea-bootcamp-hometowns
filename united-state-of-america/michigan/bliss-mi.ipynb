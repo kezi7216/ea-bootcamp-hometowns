{
 "cells": [
  {
   "cell_type": "markdown",
   "metadata": {},
   "source": [
    "## Bliss, Michigan, USA\n",
    "### 45.703091°N, 84.964719°W\n",
    "### Population: 570 (2018) <a href =\"https://censusreporter.org/profiles/06000US2604708980-bliss-township-emmet-county-mi/\" target= \"_blank\">*Source: CensusReporter.org*</a>\n",
    "\n",
    "#### Landmark: The Bliss Store\n",
    "![Bliss Store on a sunny, August day. Credit: Ed Nephler](http://blog.dog-berry.com/media/bliss-081411.01.1920.jpg)\n",
    "Bliss Store on a sunny, August day. Credit: Ed Nephler"
   ]
  }
 ],
 "metadata": {
  "kernelspec": {
   "display_name": "Python 3",
   "language": "python",
   "name": "python3"
  },
  "language_info": {
   "codemirror_mode": {
    "name": "ipython",
    "version": 3
   },
   "file_extension": ".py",
   "mimetype": "text/x-python",
   "name": "python",
   "nbconvert_exporter": "python",
   "pygments_lexer": "ipython3",
   "version": "3.8.5"
  }
 },
 "nbformat": 4,
 "nbformat_minor": 4
}
