{
 "cells": [
  {
   "cell_type": "markdown",
   "metadata": {},
   "source": [
    "## Location\n",
    "Latitude 42.7370 N, Longitude 84.4839 W\n",
    "\n",
    "## Population\n",
    "48,144 people\n",
    "\n",
    "<a href=\"https://worldpopulationreview.com/us-cities/east-lansing-mi-population\" target=\"_blank\">source</a>\n",
    "\n",
    "## Landmark\n",
    "The Sparty statue is a located on the banks of the Red Cedar River on the campus of Michigan State University in East Lansing. It is the mascot of the university and a past target of University of Michigan rivalry vandalism. \n",
    "![`Sparty`](https://www.mlive.com/resizer/HK3zbD2Bvaep45WFN_bB-spGd_4=/1280x0/smart/image.mlive.com/home/mlive-media/width600/img/sports_impact/photo/18731590-mmmainjpg-7d5d697fcd9aab70.jpg)\n"
   ]
  },
  {
   "cell_type": "code",
   "execution_count": null,
   "metadata": {},
   "outputs": [],
   "source": []
  }
 ],
 "metadata": {
  "kernelspec": {
   "display_name": "Python 3",
   "language": "python",
   "name": "python3"
  },
  "language_info": {
   "codemirror_mode": {
    "name": "ipython",
    "version": 3
   },
   "file_extension": ".py",
   "mimetype": "text/x-python",
   "name": "python",
   "nbconvert_exporter": "python",
   "pygments_lexer": "ipython3",
   "version": "3.8.5"
  }
 },
 "nbformat": 4,
 "nbformat_minor": 4
}
