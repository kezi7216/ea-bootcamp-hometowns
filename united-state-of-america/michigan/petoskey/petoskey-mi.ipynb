{
 "cells": [
  {
   "cell_type": "markdown",
   "metadata": {},
   "source": [
    "# Petoskey, Michigan\n",
    "45 22 24 N, 84 57 19 W\n",
    "\n",
    "# Population (2010)\n",
    "5,670 Inhabitants, the source of this estimate can be found at <a href=\"https://www.petoskey.us/residents/about_petoskey/index.php\" target=\"_blank\">this link</a>\n",
    "\n",
    "# Mineral Well Park\n",
    "![Formal Historic Park, with a working replica of a Mineral Well from the early 1900's.](https://www.cardcow.com/images/set723/card00612_fr.jpg)"
   ]
  }
 ],
 "metadata": {
  "kernelspec": {
   "display_name": "Python 3",
   "language": "python",
   "name": "python3"
  },
  "language_info": {
   "codemirror_mode": {
    "name": "ipython",
    "version": 3
   },
   "file_extension": ".py",
   "mimetype": "text/x-python",
   "name": "python",
   "nbconvert_exporter": "python",
   "pygments_lexer": "ipython3",
   "version": "3.7.8"
  }
 },
 "nbformat": 4,
 "nbformat_minor": 4
}
