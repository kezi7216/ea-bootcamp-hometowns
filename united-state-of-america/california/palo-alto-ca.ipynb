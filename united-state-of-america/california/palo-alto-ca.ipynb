{
 "cells": [
  {
   "cell_type": "markdown",
   "metadata": {},
   "source": [
    "### Location\n",
    "Palo Alto, CA is located at 37.4419° N, 122.1430° W.\n",
    "\n",
    "### Population\n",
    "The estimated population of Palo Alto as of July 1, 2019 is 65,364 people, based on the 2010 Census. For more information visit the <a href=\"https://www.census.gov/quickfacts/fact/table/paloaltocitycalifornia,stanfordcdpcalifornia/PST045219\" target=\"_blank\">official census website</a>.\n",
    "\n",
    "### Landmark\n",
    "Stanford University is one of the most famous landmarks associated with Palo Alto. <br> Here is an image of part of the main quad:\n",
    "![here is an image of the main quad](https://news-media.stanford.edu/wp-content/uploads/2020/03/31112944/summer-photos.jpg)"
   ]
  },
  {
   "cell_type": "code",
   "execution_count": null,
   "metadata": {},
   "outputs": [],
   "source": []
  }
 ],
 "metadata": {
  "kernelspec": {
   "display_name": "Python 3",
   "language": "python",
   "name": "python3"
  },
  "language_info": {
   "codemirror_mode": {
    "name": "ipython",
    "version": 3
   },
   "file_extension": ".py",
   "mimetype": "text/x-python",
   "name": "python",
   "nbconvert_exporter": "python",
   "pygments_lexer": "ipython3",
   "version": "3.7.6"
  }
 },
 "nbformat": 4,
 "nbformat_minor": 4
}
