{
 "cells": [
  {
   "cell_type": "markdown",
   "metadata": {},
   "source": [
    "# San Jose"
   ]
  },
  {
   "cell_type": "markdown",
   "metadata": {},
   "source": [
    "### Location\n",
    "37.3382° N, 121.8863° W"
   ]
  },
  {
   "cell_type": "markdown",
   "metadata": {},
   "source": [
    "### Population\n",
    "The population of San Jose is 1.05 million, making it the third largest city in California and the tenth largest city in the US. ([Citation](https://www.sanjoseca.gov/your-government/departments/planning-building-code-enforcement/planning-division/data-and-maps/demographics/population))"
   ]
  },
  {
   "cell_type": "markdown",
   "metadata": {},
   "source": [
    "### Landmark:\n",
    "##### The Hated Quetzalcoatl Statue\n",
    "There is a large statue of Quetzalcoatl, an Aztec god, in Cesar Chavez park in the center of the city. The statue by Robert Graham is meant as an homage to the City's Mexican American roots. However, locals despise the statue because it literally looks like, well, you get it.   \n",
    "\n",
    "![Poop statue](https://www.mercurynews.com/wp-content/uploads/2016/08/20110202__quetzalcoatl31.jpg \"Quetzalcoatl Statue\")"
   ]
  },
  {
   "cell_type": "code",
   "execution_count": null,
   "metadata": {},
   "outputs": [],
   "source": []
  }
 ],
 "metadata": {
  "kernelspec": {
   "display_name": "Python 3",
   "language": "python",
   "name": "python3"
  },
  "language_info": {
   "codemirror_mode": {
    "name": "ipython",
    "version": 3
   },
   "file_extension": ".py",
   "mimetype": "text/x-python",
   "name": "python",
   "nbconvert_exporter": "python",
   "pygments_lexer": "ipython3",
   "version": "3.7.8"
  }
 },
 "nbformat": 4,
 "nbformat_minor": 4
}
