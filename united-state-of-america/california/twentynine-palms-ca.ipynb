{
 "cells": [
  {
   "cell_type": "markdown",
   "metadata": {},
   "source": [
    "# Twentynine Palms, California \n",
    "* Latitute and Longitude will be in Decimal Degrees\n",
    "* Latitude: *34.135559*\n",
    "* longitude: *-116.054169*"
   ]
  },
  {
   "cell_type": "markdown",
   "metadata": {},
   "source": [
    "# Population\n",
    "* 25,048 as of 2010 census \n",
    "* Estimated 26,073 as of 2019\n",
    "* More information can be found at <a href=\"https://www.census.gov/quickfacts/twentyninepalmscitycalifornia\" target=\"_blank\">this link<a/>"
   ]
  },
  {
   "cell_type": "markdown",
   "metadata": {},
   "source": [
    "# Landmark(s) \n",
    "* ![Joshua Tree National Park.](https://npca.s3.amazonaws.com/images/8721/afe85727-64a1-4cf4-a593-1975020d2d94-banner.jpg?1445970416)\n",
    "* Joshua Tree National Park (North Entrance in Twentynine Palms) \n",
    "* ![Marine Corps Air Ground Combat Center](https://images.squarespace-cdn.com/content/v1/5d122e3f07c0550001a497e4/1561477948694-4612SS4RSFWVTHU4NWI3/ke17ZwdGBToddI8pDm48kG87Sfbgg29A4BYEDq3OXvgUqsxRUqqbr1mOJYKfIPR7LoDQ9mXPOjoJoqy81S2I8N_N4V1vUb5AoIIIbLZhVYxCRW4BPu10St3TBAUQYVKcf4OxbJOyh_wHUnyc4kQLQ6SBshRGOku7c30Y_IRDNPta8R2IY5BHMaEj1zOWoDTZ/Marine+Corps+Air+Ground+Combat+Center+%28MCAGCC%29_Twentynine+Palms.jpg)\n",
    "* Twentynine Palms is the host of the Marine Corps Air Ground Combat Center which has been a the training grounds for many combat units in the Marine Corps as well as other branches of the military.  "
   ]
  },
  {
   "cell_type": "code",
   "execution_count": null,
   "metadata": {},
   "outputs": [],
   "source": []
  }
 ],
 "metadata": {
  "kernelspec": {
   "display_name": "Python 3",
   "language": "python",
   "name": "python3"
  },
  "language_info": {
   "codemirror_mode": {
    "name": "ipython",
    "version": 3
   },
   "file_extension": ".py",
   "mimetype": "text/x-python",
   "name": "python",
   "nbconvert_exporter": "python",
   "pygments_lexer": "ipython3",
   "version": "3.7.6"
  }
 },
 "nbformat": 4,
 "nbformat_minor": 4
}
