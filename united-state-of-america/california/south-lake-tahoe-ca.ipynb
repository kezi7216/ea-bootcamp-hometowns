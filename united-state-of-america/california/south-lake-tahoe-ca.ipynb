{
 "cells": [
  {
   "cell_type": "markdown",
   "metadata": {},
   "source": [
    "## Latitude and Longitude of South Lake Tahoe, CA\n",
    "38.9399° N, 119.9772° W"
   ]
  },
  {
   "cell_type": "markdown",
   "metadata": {},
   "source": [
    "## Population\n",
    "As of July 2019 <a href=\"https://www.census.gov/quickfacts/southlaketahoecitycalifornia\" target=\"_blank\">22,197</a>"
   ]
  },
  {
   "cell_type": "markdown",
   "metadata": {},
   "source": [
    "## Vikingsholm Castle\n",
    "![Vikingsholm Castle](https://www.wheretraveler.com/sites/default/files/styles/wt17_promoted_large/public/images/2937372667_69cb7d5f31_o.jpg?itok=Y3vqmklu&timestamp=1448379198)\n",
    "\n",
    "In the middle of Lake Tahoe is Emerald Bay where a Scandinavian home was built in the mid-1900’s, it is now known as the castle of Lake Tahoe. It was built by an eccentric millionaire that bought up the land and brought Scandinavian architecture to the United States. "
   ]
  }
 ],
 "metadata": {
  "kernelspec": {
   "display_name": "Python 3",
   "language": "python",
   "name": "python3"
  },
  "language_info": {
   "codemirror_mode": {
    "name": "ipython",
    "version": 3
   },
   "file_extension": ".py",
   "mimetype": "text/x-python",
   "name": "python",
   "nbconvert_exporter": "python",
   "pygments_lexer": "ipython3",
   "version": "3.8.5"
  }
 },
 "nbformat": 4,
 "nbformat_minor": 4
}
