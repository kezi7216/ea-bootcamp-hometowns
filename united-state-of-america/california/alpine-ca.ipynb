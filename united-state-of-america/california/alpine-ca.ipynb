{
 "cells": [
  {
   "cell_type": "markdown",
   "metadata": {},
   "source": [
    "# Alpine, California \n",
    "* Latitude and Longitude will be in Decimal Degrees\n",
    "* Latitude: 32.8350521\n",
    "* Longitude: -116.7664109"
   ]
  },
  {
   "cell_type": "markdown",
   "metadata": {},
   "source": [
    "# Population \n",
    "* $14,236$ in 2010 \n",
    "* More information can be found at <a href=\"http://www.city-data.com/city/Alpine-California.html\" target=\"_blank\">this link<a/>"
   ]
  },
  {
   "cell_type": "markdown",
   "metadata": {},
   "source": [
    "# Landmark\n",
    "* ![Viejas Casino.](https://blog.sandiego.org/wp-content/uploads/2013/03/Viejas.jpg)\n",
    "* Viejas opened its doors to the public in 1991 as a small casino. It has now expanded to an outlet center and resort providing many jobs to local residents.  "
   ]
  },
  {
   "cell_type": "code",
   "execution_count": null,
   "metadata": {},
   "outputs": [],
   "source": []
  }
 ],
 "metadata": {
  "kernelspec": {
   "display_name": "Python 3",
   "language": "python",
   "name": "python3"
  },
  "language_info": {
   "codemirror_mode": {
    "name": "ipython",
    "version": 3
   },
   "file_extension": ".py",
   "mimetype": "text/x-python",
   "name": "python",
   "nbconvert_exporter": "python",
   "pygments_lexer": "ipython3",
   "version": "3.7.6"
  }
 },
 "nbformat": 4,
 "nbformat_minor": 4
}
