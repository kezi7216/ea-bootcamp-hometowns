{
 "cells": [
  {
   "cell_type": "markdown",
   "metadata": {},
   "source": [
    "# Los Angeles, CA"
   ]
  },
  {
   "cell_type": "markdown",
   "metadata": {},
   "source": [
    "## Location\n",
    "lat: 34.05° N\n",
    "\n",
    "lon: 118.25° W"
   ]
  },
  {
   "cell_type": "markdown",
   "metadata": {},
   "source": [
    "## Population\n",
    "US Census estimate: 3,979,576\n",
    "\n",
    "https://www.census.gov/quickfacts/fact/table/losangelescitycalifornia/PST045219"
   ]
  },
  {
   "cell_type": "markdown",
   "metadata": {},
   "source": [
    "## Landmark - Griffith Observatory \n",
    "\n",
    "Griffith Observatory is a public observatory, planetarium, and exhibition space owned and operated by the City of Los Angeles Department of Recreation and Parks. It is precariously perched 1,134 feet above sea level and provides an excellent view of the sprawling city on the rare smog-free day. On an average day, there are about 10,000 visitors from all over the world, probably taking cheesy selfies with the Hollywood sign. \n",
    "\n",
    "![Griffith Observatory](https://cdn.vox-cdn.com/thumbor/_46trks0_qxRLdi8O1Zo9zbBY9M=/1400x1050/filters:format(jpeg)/cdn.vox-cdn.com/uploads/chorus_asset/file/16233836/GettyImages_1049554410.jpg)"
   ]
  }
 ],
 "metadata": {
  "kernelspec": {
   "display_name": "Python 3",
   "language": "python",
   "name": "python3"
  },
  "language_info": {
   "codemirror_mode": {
    "name": "ipython",
    "version": 3
   },
   "file_extension": ".py",
   "mimetype": "text/x-python",
   "name": "python",
   "nbconvert_exporter": "python",
   "pygments_lexer": "ipython3",
   "version": "3.8.5"
  }
 },
 "nbformat": 4,
 "nbformat_minor": 4
}
