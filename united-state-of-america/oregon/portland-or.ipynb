{
 "cells": [
  {
   "cell_type": "markdown",
   "metadata": {},
   "source": [
    "## Location <br>\n",
    "45.5051° N, 122.6750° W\n",
    "<br>\n",
    "## Population <br>\n",
    "*654,741* <br>\n",
    "[Source](https://en.wikipedia.org/wiki/Portland,_Oregon) <br>\n",
    "## Landmark\n",
    "### Mt. Tabor\n",
    "\n",
    "Mt. Tabor is a volcanic cinder cone (extinct volcanic vent).  It is now covered/surrounded by a neighborhood, historic reservoirs, city park, and dog park. The peak of Mount Tabor is 636 feet in elevation; rising about 436 feet above the surrounding land of around 200 feet in elevation.\n",
    "\n",
    "![\"Mt. Tabor\"](https://upload.wikimedia.org/wikipedia/commons/f/ff/COLOR_PHOTO_OF_MOUNT_TABOR_TAKEN_IN_THE_LATE_19TH_CENTURY_BY_FRENCH_PHOTOGRAPHER%2C_BONFILS._%D7%A6%D7%99%D7%9C%D7%95%D7%9D_%D7%A6%D7%91%D7%A2_%D7%9E%D7%A1%D7%95%D7%A3_%D7%94%D7%9E%D7%90%D7%94_%D7%9419_%D7%A9%D7%9C_%D7%94%D7%A6%D7%9C%D7%9D_%D7%94%D7%A6%D7%A8%D7%A4%D7%AA%D7%99_%D7%91%D7%95%D7%A0%D7%A4%D7%99%D7%A1_%D7%90%D7%A9%D7%A8_%D7%AA%D7%A2%D7%93_%D7%91%D7%9E%D7%A6%D7%9C%D7%9ED311-041.jpg)"
   ]
  },
  {
   "cell_type": "code",
   "execution_count": null,
   "metadata": {},
   "outputs": [],
   "source": []
  }
 ],
 "metadata": {
  "kernelspec": {
   "display_name": "Python 3",
   "language": "python",
   "name": "python3"
  },
  "language_info": {
   "codemirror_mode": {
    "name": "ipython",
    "version": 3
   },
   "file_extension": ".py",
   "mimetype": "text/x-python",
   "name": "python",
   "nbconvert_exporter": "python",
   "pygments_lexer": "ipython3",
   "version": "3.8.5"
  }
 },
 "nbformat": 4,
 "nbformat_minor": 4
}
