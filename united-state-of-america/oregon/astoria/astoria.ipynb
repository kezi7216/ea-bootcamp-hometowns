{
 "cells": [
  {
   "cell_type": "markdown",
   "id": "8bb84d9c-3fcd-4360-8f2e-d42cf0ad3784",
   "metadata": {},
   "source": [
    "# Location\n",
    "\n",
    "46.1879° N, 123.8313° W\n",
    "\n",
    "# Population\n",
    "\n",
    "10,181 [the US census](https://www.census.gov/quickfacts/fact/table/astoriacityoregon/POP060210)\n",
    "\n",
    "# Landmark \n",
    "![Astoria-Megler Bridge](https://dynamic-media-cdn.tripadvisor.com/media/photo-o/08/b1/15/47/astoria-megler-bridge.jpg?w=1200&h=-1&s=1)"
   ]
  }
 ],
 "metadata": {
  "kernelspec": {
   "display_name": "Python 3 (ipykernel)",
   "language": "python",
   "name": "python3"
  },
  "language_info": {
   "codemirror_mode": {
    "name": "ipython",
    "version": 3
   },
   "file_extension": ".py",
   "mimetype": "text/x-python",
   "name": "python",
   "nbconvert_exporter": "python",
   "pygments_lexer": "ipython3",
   "version": "3.9.7"
  }
 },
 "nbformat": 4,
 "nbformat_minor": 5
}
