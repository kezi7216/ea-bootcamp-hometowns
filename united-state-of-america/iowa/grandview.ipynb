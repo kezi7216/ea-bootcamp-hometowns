{
 "cells": [
  {
   "attachments": {},
   "cell_type": "markdown",
   "id": "168e64d8",
   "metadata": {},
   "source": [
    "# Grandview, Iowa\n",
    "\n",
    "* Latitude: 41.276° N\n",
    "* Longitude: 91.188° W"
   ]
  },
  {
   "cell_type": "markdown",
   "id": "931bb47d",
   "metadata": {},
   "source": [
    "### Population: 437 (2020) \n",
    "This figure is according the [Grandview's Wikipedia page](https://en.wikipedia.org/wiki/Grandview,_Iowa)"
   ]
  },
  {
   "cell_type": "markdown",
   "id": "4bb6114a",
   "metadata": {},
   "source": [
    "## Landmark \n",
    "The old consolidated school had its first graduating class in 1920. It now serves as apartment complex.\n",
    "\n",
    "![](https://iowahighwayends.net/ends/June15/08/GrandviewSchool.jpg \"School House\")"
   ]
  }
 ],
 "metadata": {
  "kernelspec": {
   "display_name": "Python 3 (ipykernel)",
   "language": "python",
   "name": "python3"
  },
  "language_info": {
   "codemirror_mode": {
    "name": "ipython",
    "version": 3
   },
   "file_extension": ".py",
   "mimetype": "text/x-python",
   "name": "python",
   "nbconvert_exporter": "python",
   "pygments_lexer": "ipython3",
   "version": "3.8.13"
  }
 },
 "nbformat": 4,
 "nbformat_minor": 5
}
