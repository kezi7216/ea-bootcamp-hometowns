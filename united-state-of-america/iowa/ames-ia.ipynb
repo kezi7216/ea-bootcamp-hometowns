{
 "cells": [
  {
   "cell_type": "markdown",
   "metadata": {},
   "source": [
    "# Ames, IA\n",
    "* Latitude 42.0308° N\n",
    "* Longitude 93.6319° W"
   ]
  },
  {
   "cell_type": "markdown",
   "metadata": {},
   "source": [
    "# Population\n",
    "<a href=\"https://www.census.gov/search-results.html?q=population+ames%2C+ia&page=1&stateGeo=none&searchtype=web&cssp=SERP&_charset_=UTF-8\" target=\"_blank\"> 66,258 </a>"
   ]
  },
  {
   "cell_type": "markdown",
   "metadata": {},
   "source": [
    "# Campanile\n",
    "![Campanile](https://www.fpm.iastate.edu/maps/buildings/photos/19.jpg)\n",
    "\n",
    "The campanile was constructed in 1897 as a memorial to Margaret MacDonald Stanton, Iowa State's first dean of women, who died on July 25, 1895. The tower is located on ISU's central campus, just north of the Memorial Union. The site was selected by Margaret's husband, Edgar W. Stanton, with the help of then-university president William M. Beardshear. The campanile stands 110 feet (34 m) tall on a 16 by 16 foot (5 by 5 m) base, and cost $6,510.20 to construct."
   ]
  },
  {
   "cell_type": "code",
   "execution_count": null,
   "metadata": {},
   "outputs": [],
   "source": []
  }
 ],
 "metadata": {
  "kernelspec": {
   "display_name": "Python 3",
   "language": "python",
   "name": "python3"
  },
  "language_info": {
   "codemirror_mode": {
    "name": "ipython",
    "version": 3
   },
   "file_extension": ".py",
   "mimetype": "text/x-python",
   "name": "python",
   "nbconvert_exporter": "python",
   "pygments_lexer": "ipython3",
   "version": "3.7.8"
  }
 },
 "nbformat": 4,
 "nbformat_minor": 4
}
