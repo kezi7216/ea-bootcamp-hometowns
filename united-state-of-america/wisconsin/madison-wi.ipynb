{
 "cells": [
  {
   "cell_type": "markdown",
   "id": "a4f921c6",
   "metadata": {},
   "source": [
    "## Latitude and Longitude of Madison, Wisconsin\n",
    "43.074722&deg; N, 89.384167&deg; W"
   ]
  },
  {
   "cell_type": "markdown",
   "id": "a1783a66",
   "metadata": {},
   "source": [
    "## Population in 2020\n",
    "<a href=\"https://www.census.gov/quickfacts/fact/table/madisoncitywisconsin/LND110210\" target=\"_blank\">269,840</a>"
   ]
  },
  {
   "cell_type": "markdown",
   "id": "c402f179",
   "metadata": {},
   "source": [
    "## Lake Mendota\n",
    "![Picture of Lake Mendota](https://images.wisconsinhistory.org/700016160001/1616000003-l.jpg)\n",
    "Lake Mendota is the largest of four lakes in Madison, Wisconsin. Locals enjoy Lake Mendota in all four seasons, participating in water sports such as, sailing, windsurfing, ice fishing, and snow kiting."
   ]
  }
 ],
 "metadata": {
  "kernelspec": {
   "display_name": "Python 3 (ipykernel)",
   "language": "python",
   "name": "python3"
  },
  "language_info": {
   "codemirror_mode": {
    "name": "ipython",
    "version": 3
   },
   "file_extension": ".py",
   "mimetype": "text/x-python",
   "name": "python",
   "nbconvert_exporter": "python",
   "pygments_lexer": "ipython3",
   "version": "3.8.10"
  }
 },
 "nbformat": 4,
 "nbformat_minor": 5
}
