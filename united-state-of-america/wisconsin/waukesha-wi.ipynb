{
 "cells": [
  {
   "cell_type": "markdown",
   "metadata": {},
   "source": [
    "## Waukesha, Wisconsin, USA\n",
    "### 43.005291°N, 88.239332°W\n",
    "### Population: 72,299 (2019) <a href =\"https://www.census.gov/quickfacts/fact/table/waukeshacitywisconsin/PST045219\" tager= \"_blank\">*Source: US Census Bureau*</a>\n",
    "\n",
    "#### Landmark: Silurian Spring House, Downtown Waukesha\n",
    "![Left: The Silurian Spring springhouse in downtown Waukesha. Right: Author John Schoenknecht looking at the water in Silurian Spring. Credit Chuck Quirmbach](https://mediad.publicbroadcasting.net/p/wuwm/files/styles/medium/public/202002/spring_0.jpg)\n",
    "Left: The Silurian Spring springhouse in downtown Waukesha. Right: Author John Schoenknecht looking at the water in Silurian Spring. Credit Chuck Quirmbach (WUWM)"
   ]
  },
  {
   "cell_type": "code",
   "execution_count": null,
   "metadata": {},
   "outputs": [],
   "source": []
  }
 ],
 "metadata": {
  "kernelspec": {
   "display_name": "Python 3",
   "language": "python",
   "name": "python3"
  },
  "language_info": {
   "codemirror_mode": {
    "name": "ipython",
    "version": 3
   },
   "file_extension": ".py",
   "mimetype": "text/x-python",
   "name": "python",
   "nbconvert_exporter": "python",
   "pygments_lexer": "ipython3",
   "version": "3.8.5"
  }
 },
 "nbformat": 4,
 "nbformat_minor": 4
}
