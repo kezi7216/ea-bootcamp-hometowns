{
 "cells": [
  {
   "cell_type": "markdown",
   "metadata": {},
   "source": [
    "# Rhinelander, Wisconsin\n",
    "\n",
    "* Latitude: 45.6366° N\n",
    "* Longitude: 89.4121° W"
   ]
  },
  {
   "cell_type": "markdown",
   "metadata": {},
   "source": [
    "### Population: 7,632 (2018)"
   ]
  },
  {
   "cell_type": "markdown",
   "metadata": {},
   "source": [
    "### Landmark: \n",
    "Home to the Hodag, Rhinelander is a city in and the county seat of Oneida County, Wisconsin, United States. The population was 7,798 at the 2010 census. [Wikipedia](https://en.wikipedia.org/wiki/Rhinelander,_Wisconsin)\n",
    "\n",
    "![](http://explorerhinelander.com/gohodags/wp-content/uploads/2012/03/what-is-a-hodag.png \"Hodag Info.\")"
   ]
  },
  {
   "cell_type": "code",
   "execution_count": null,
   "metadata": {},
   "outputs": [],
   "source": []
  }
 ],
 "metadata": {
  "kernelspec": {
   "display_name": "Python 3",
   "language": "python",
   "name": "python3"
  },
  "language_info": {
   "codemirror_mode": {
    "name": "ipython",
    "version": 3
   },
   "file_extension": ".py",
   "mimetype": "text/x-python",
   "name": "python",
   "nbconvert_exporter": "python",
   "pygments_lexer": "ipython3",
   "version": "3.7.6"
  }
 },
 "nbformat": 4,
 "nbformat_minor": 2
}
