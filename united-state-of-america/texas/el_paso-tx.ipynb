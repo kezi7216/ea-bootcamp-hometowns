{
 "cells": [
  {
   "cell_type": "markdown",
   "metadata": {},
   "source": [
    "# Location: El Paso, TX\n",
    "**Lat/Lon:** 31.759167, -106.488611\n",
    "\n",
    "**Source:** https://geohack.toolforge.org/geohack.php?pagename=El_Paso,_Texas&params=31_45_33_N_106_29_19_W_region:US-TX_type:city"
   ]
  },
  {
   "cell_type": "markdown",
   "metadata": {},
   "source": [
    "# Population: 649,133\n",
    "\n",
    "[Population Source Reference](https://en.wikipedia.org/wiki/El_Paso,_Texas)"
   ]
  },
  {
   "cell_type": "markdown",
   "metadata": {},
   "source": [
    "# Landmark: El Paso County Historical Society's Burges House\n",
    "![Burges House](https://www.gannett-cdn.com/-mm-/6d46f0a03148c87ce3989a311abc6d55d0153ee9/c=0-302-3264-2146/local/-/media/2017/10/10/TXNMGroup/ElPaso/636432428627889011-Burges-House-603-W-Yandell-Dr.jpg?width=660&height=373&fit=crop&format=pjpg&auto=webp \"Burges House\")\n",
    "\n",
    "**Description:** \"This is the famous home of Richard F. Burges. The Burges House also serves as a historical research center. The Classical Revival style house features four large columns in the front supporting the roof. Burges was city attorney in 1908 and wrote the city charter. He became a member of the Texas House of Representative in 1913. He was instrumental in the development of Carlsbad Caverns and the building of the Elephant Butte Dam. The home is now the headquarters for the El Paso County Historical Society.\"\n",
    "\n",
    "**Information Source:** https://visitelpaso.com/explore/things_to_do/attractions/categories/historical-and-cultural-sites/places\n",
    "\n",
    "**Image Source:** https://www.elpasotimes.com/story/opinion/2019/04/05/el-paso-county-historical-society-commemorate-65-years-celebrating-area-history-robert-diaz/3380585002/"
   ]
  }
 ],
 "metadata": {
  "kernelspec": {
   "display_name": "Python 3",
   "language": "python",
   "name": "python3"
  },
  "language_info": {
   "codemirror_mode": {
    "name": "ipython",
    "version": 3
   },
   "file_extension": ".py",
   "mimetype": "text/x-python",
   "name": "python",
   "nbconvert_exporter": "python",
   "pygments_lexer": "ipython3",
   "version": "3.7.6"
  }
 },
 "nbformat": 4,
 "nbformat_minor": 4
}
