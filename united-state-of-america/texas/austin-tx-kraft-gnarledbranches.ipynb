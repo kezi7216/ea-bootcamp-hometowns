{
 "cells": [
  {
   "cell_type": "markdown",
   "metadata": {},
   "source": [
    "## Location <br>\n",
    "Austin, TX<br>\n",
    "30.2672° N, 97.7431° W\n",
    "<br>\n",
    "## Population <br>\n",
    "*978,908* <br>\n",
    "[Source](https://en.wikipedia.org/wiki/Austin,_Texas) <br>\n",
    "## Landmark\n",
    "### Moonlight Towers\n",
    "\n",
    "A moonlight tower is essentially a VERY tall, antiquated street lamp. For many this was the first/only example of elecitricity they knew of, and were quite a feat to build and a wonder to observe. They are meant to illuminate a wide radius and can be seen from very long distances. They are roughly 160 feet tall, and were constructed in the mid-1890s-- or rather, Austin purchased 31 used towers from the city of Detroit. Today, only a handful of Austin's towers remain intact.\n",
    "\n",
    "![\"Austin Moontowers\"](https://nthp-savingplaces.s3.amazonaws.com/2017/01/17/13/30/57/190/WI17_PPF_BTN_austin0_crAustin%20History%20Center,%20Austin%20Public%20Library_W_HG.jpg)"
   ]
  },
  {
   "cell_type": "code",
   "execution_count": null,
   "metadata": {},
   "outputs": [],
   "source": []
  }
 ],
 "metadata": {
  "kernelspec": {
   "display_name": "Python 3",
   "language": "python",
   "name": "python3"
  },
  "language_info": {
   "codemirror_mode": {
    "name": "ipython",
    "version": 3
   },
   "file_extension": ".py",
   "mimetype": "text/x-python",
   "name": "python",
   "nbconvert_exporter": "python",
   "pygments_lexer": "ipython3",
   "version": "3.8.5"
  }
 },
 "nbformat": 4,
 "nbformat_minor": 4
}
