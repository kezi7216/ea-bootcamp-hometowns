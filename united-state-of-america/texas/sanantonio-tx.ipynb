{
 "cells": [
  {
   "cell_type": "markdown",
   "metadata": {},
   "source": [
    "# San Antonio, TX"
   ]
  },
  {
   "cell_type": "markdown",
   "metadata": {},
   "source": [
    "## Location\n",
    "lat: 29.425° N\n",
    "\n",
    "lon: 98.493889° W"
   ]
  },
  {
   "cell_type": "markdown",
   "metadata": {},
   "source": [
    "## Population\n",
    "US Census estimate: 1,547,253\n",
    "\n",
    "https://www.census.gov/quickfacts/sanantoniocitytexas"
   ]
  },
  {
   "cell_type": "markdown",
   "metadata": {},
   "source": [
    "## Landmark - The Alamo\n",
    "\n",
    "    The Alamo is a historic Spanish mission that served as a fortress in the Battle of the Alamo in 1836. Many first-time visitors to the Alamo are disappointed by this landmark - some Google reviews call it \"overrated,\" a \"tourist trap,\" and \"easily the worst historical site we've ever been to.\" \n",
    "\n",
    "![The Alamo](https://www.thealamo.org/images/home/hero.png)"
   ]
  }
 ],
 "metadata": {
  "kernelspec": {
   "display_name": "Python 3",
   "language": "python",
   "name": "python3"
  },
  "language_info": {
   "codemirror_mode": {
    "name": "ipython",
    "version": 3
   },
   "file_extension": ".py",
   "mimetype": "text/x-python",
   "name": "python",
   "nbconvert_exporter": "python",
   "pygments_lexer": "ipython3",
   "version": "3.8.5"
  }
 },
 "nbformat": 4,
 "nbformat_minor": 4
}
