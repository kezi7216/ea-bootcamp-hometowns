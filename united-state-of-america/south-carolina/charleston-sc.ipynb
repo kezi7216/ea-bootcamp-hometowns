{
 "cells": [
  {
   "cell_type": "markdown",
   "metadata": {},
   "source": [
    "# **Charleston, South Carolina - United States of America**"
   ]
  },
  {
   "cell_type": "markdown",
   "metadata": {},
   "source": [
    "### Coordinates: 32.7765° N 79.9311° W"
   ]
  },
  {
   "cell_type": "markdown",
   "metadata": {},
   "source": [
    "### Population: 137,566 [Source](https://www.census.gov/quickfacts/charlestoncitysouthcarolina)"
   ]
  },
  {
   "cell_type": "markdown",
   "metadata": {},
   "source": [
    "### Landmark: Charleston Battery \n",
    "\n",
    "![Homes along the Battery](https://upload.wikimedia.org/wikipedia/commons/thumb/2/2e/East_Battery_Street_Charleston_Aug2010.jpg/1024px-East_Battery_Street_Charleston_Aug2010.jpg)\n",
    "\n",
    "The Battery is a landmark defensive seawall and promenade in Charleston, South Carolina. Named for a civil-war coastal defense artillery battery at the site, it stretches along the lower shores of the Charleston peninsula, bordered by the Ashley and Cooper Rivers, which meet here to form Charleston harbor. As a tourist destination, the Battery is famous for its stately, mainly antebellum homes. [Source](https://en.wikipedia.org/wiki/The_Battery_(Charleston))"
   ]
  }
 ],
 "metadata": {
  "kernelspec": {
   "display_name": "Python 3",
   "language": "python",
   "name": "python3"
  },
  "language_info": {
   "codemirror_mode": {
    "name": "ipython",
    "version": 3
   },
   "file_extension": ".py",
   "mimetype": "text/x-python",
   "name": "python",
   "nbconvert_exporter": "python",
   "pygments_lexer": "ipython3",
   "version": "3.8.5"
  }
 },
 "nbformat": 4,
 "nbformat_minor": 4
}
