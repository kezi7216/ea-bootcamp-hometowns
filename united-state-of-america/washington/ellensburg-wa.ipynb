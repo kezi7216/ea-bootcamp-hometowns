{
 "cells": [
  {
   "cell_type": "markdown",
   "metadata": {},
   "source": [
    "# Ellensburg, WA\n",
    "\n",
    "\n",
    "## Latitude and longitude\n",
    "\n",
    "46.995, -120.549\n",
    "\n",
    "\n",
    "## Population\n",
    "\n",
    "21,111 ([2019 estimated](https://en.wikipedia.org/wiki/Ellensburg,_Washington))\n",
    "\n",
    "\n",
    "## Landmark\n",
    "\n",
    "![A brick building with a pointy roof at the corner](https://upload.wikimedia.org/wikipedia/commons/thumb/2/2f/2008-1019-01-Ellensburg01.jpg/640px-2008-1019-01-Ellensburg01.jpg)\n",
    "\n",
    "The Davidson Building, built in 1890, is located in downtown Ellensburg. The tower features a phoenix to symbolize the town's rebirth following an 1899 fire. Photo by Bobak Ha'Eri ([CC-BY-3.0](https://creativecommons.org/licenses/by/3.0/)).\n",
    " \n",
    " \n",
    "## References\n",
    "\n",
    "+ [Ellensburg, WA (Wikipedia)](https://en.wikipedia.org/wiki/Ellensburg,_Washington)\n",
    "+ [Ellensburg Historic Buildings](https://www.myellensburg.com/play/historic-buildings/)\n"
   ]
  },
  {
   "cell_type": "code",
   "execution_count": null,
   "metadata": {},
   "outputs": [],
   "source": []
  }
 ],
 "metadata": {
  "kernelspec": {
   "display_name": "Python 3",
   "language": "python",
   "name": "python3"
  },
  "language_info": {
   "codemirror_mode": {
    "name": "ipython",
    "version": 3
   },
   "file_extension": ".py",
   "mimetype": "text/x-python",
   "name": "python",
   "nbconvert_exporter": "python",
   "pygments_lexer": "ipython3",
   "version": "3.7.8"
  }
 },
 "nbformat": 4,
 "nbformat_minor": 4
}
