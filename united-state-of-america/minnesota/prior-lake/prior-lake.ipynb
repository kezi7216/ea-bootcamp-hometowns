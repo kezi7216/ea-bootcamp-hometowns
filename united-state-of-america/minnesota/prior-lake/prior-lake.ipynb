{
 "cells": [
  {
   "cell_type": "markdown",
   "id": "976423d3-cc3f-44b1-9678-860601d04a3b",
   "metadata": {},
   "source": [
    "# Location \n",
    "44.7133° N, 93.4227° W\n",
    "# Population \n",
    "26,775 according to [world Population Review](https://worldpopulationreview.com/us-cities/prior-lake-mn-population)\n",
    "# Landmark\n",
    "\n",
    "![Mystic Lake Casino](https://mysticlake.com/~/media/0e84d97c84a540af91ad67a44536a630.jpg)"
   ]
  }
 ],
 "metadata": {
  "kernelspec": {
   "display_name": "Python 3 (ipykernel)",
   "language": "python",
   "name": "python3"
  },
  "language_info": {
   "codemirror_mode": {
    "name": "ipython",
    "version": 3
   },
   "file_extension": ".py",
   "mimetype": "text/x-python",
   "name": "python",
   "nbconvert_exporter": "python",
   "pygments_lexer": "ipython3",
   "version": "3.9.7"
  }
 },
 "nbformat": 4,
 "nbformat_minor": 5
}
