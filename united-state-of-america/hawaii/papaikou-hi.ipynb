{
 "cells": [
  {
   "cell_type": "markdown",
   "metadata": {},
   "source": [
    "## Location\n",
    "Latitude 19.7954 N, Longitude 155.0928 W\n",
    "\n",
    "## Population\n",
    "1052 people\n",
    "\n",
    "<a href=\"https://worldpopulationreview.com/us-cities/papaikou-hi-population\" target=\"_blank\">source</a>\n",
    "\n",
    "## Landmark\n",
    "Onomea Bay is located along the Hamakua Coast on the Big Island of Hawaii. There are black sand beaches, waterfalls, and lush, tropical foliage in this 'off-the-beaten-path' destination.  \n",
    "\n",
    "![`Onomea Bay`](https://media-cdn.tripadvisor.com/media/photo-s/04/b5/2e/f4/onomea-tea-company.jpg)\n",
    "\n",
    "\n"
   ]
  },
  {
   "cell_type": "code",
   "execution_count": null,
   "metadata": {},
   "outputs": [],
   "source": []
  }
 ],
 "metadata": {
  "kernelspec": {
   "display_name": "Python 3",
   "language": "python",
   "name": "python3"
  },
  "language_info": {
   "codemirror_mode": {
    "name": "ipython",
    "version": 3
   },
   "file_extension": ".py",
   "mimetype": "text/x-python",
   "name": "python",
   "nbconvert_exporter": "python",
   "pygments_lexer": "ipython3",
   "version": "3.8.5"
  }
 },
 "nbformat": 4,
 "nbformat_minor": 4
}
