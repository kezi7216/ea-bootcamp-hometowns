{
 "cells": [
  {
   "cell_type": "markdown",
   "id": "3bcab1de",
   "metadata": {},
   "source": [
    "# Location\n",
    "\n",
    "38.96269261327055, -76.93530316473813\n",
    "\n",
    "# Population\n",
    "\n",
    "7,200\n",
    "According to the <a href=\"https://www.census.gov/quickfacts/fact/table/riverdaleparktownmaryland/PST045219\">U.S. Census Bureau</a>\n",
    "\n",
    "# Landmark\n",
    "\n",
    "Riversdale Mansion is located at 4811 Riverdale Road in Riverdale Park, Maryland, and is open to the public as a museum. The museum is surrounded by grounds and a well-maintained garden.\n",
    "\n",
    "The mansion itself was built in 1801 and was once the manor house of a 739-acre slave plantation.\n",
    "\n",
    "![Riversdale Mansion](https://upload.wikimedia.org/wikipedia/commons/5/52/Riversdale_Manor_3.jpg)"
   ]
  },
  {
   "cell_type": "code",
   "execution_count": null,
   "id": "a3552bf2",
   "metadata": {},
   "outputs": [],
   "source": []
  }
 ],
 "metadata": {
  "kernelspec": {
   "display_name": "Python 3 (ipykernel)",
   "language": "python",
   "name": "python3"
  },
  "language_info": {
   "codemirror_mode": {
    "name": "ipython",
    "version": 3
   },
   "file_extension": ".py",
   "mimetype": "text/x-python",
   "name": "python",
   "nbconvert_exporter": "python",
   "pygments_lexer": "ipython3",
   "version": "3.8.10"
  }
 },
 "nbformat": 4,
 "nbformat_minor": 5
}
