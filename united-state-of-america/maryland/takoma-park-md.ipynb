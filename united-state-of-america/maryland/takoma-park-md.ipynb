{
 "cells": [
  {
   "cell_type": "markdown",
   "metadata": {},
   "source": [
    "# Takoma Park, MD\n",
    "\n",
    "\n",
    "## Latitude and longitude\n",
    "\n",
    "38.980, -77.002\n",
    "\n",
    "\n",
    "## Population\n",
    "\n",
    "17,725 ([2019 estimated](https://en.wikipedia.org/wiki/Takoma_Park,_Maryland))\n",
    "\n",
    "\n",
    "## Landmark\n",
    "\n",
    "![A small white clock tower](https://upload.wikimedia.org/wikipedia/commons/thumb/3/34/Clock_tower_in_Ward_Sinclair_Plaza_-_Takoma_Park.jpg/320px-Clock_tower_in_Ward_Sinclair_Plaza_-_Takoma_Park.jpg)\n",
    "\n",
    "Takoma Park holds a farmers market every Saturday in the plaza where this small clock tower is located. Photo by Farragutful ([CC BY-SA 3.0](https://creativecommons.org/licenses/by-sa/3.0/)).\n",
    "\n",
    "\n",
    "## References\n",
    "\n",
    "+ [Takoma Park, MD (Wikipedia)](https://en.wikipedia.org/wiki/Takoma_Park,_Maryland)\n"
   ]
  },
  {
   "cell_type": "code",
   "execution_count": null,
   "metadata": {},
   "outputs": [],
   "source": []
  }
 ],
 "metadata": {
  "kernelspec": {
   "display_name": "Python 3",
   "language": "python",
   "name": "python3"
  },
  "language_info": {
   "codemirror_mode": {
    "name": "ipython",
    "version": 3
   },
   "file_extension": ".py",
   "mimetype": "text/x-python",
   "name": "python",
   "nbconvert_exporter": "python",
   "pygments_lexer": "ipython3",
   "version": "3.7.8"
  }
 },
 "nbformat": 4,
 "nbformat_minor": 4
}
