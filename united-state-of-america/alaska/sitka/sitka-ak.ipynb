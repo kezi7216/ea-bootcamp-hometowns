{
 "cells": [
  {
   "cell_type": "markdown",
   "metadata": {},
   "source": [
    "# Sitka, Alaska\n",
    "57.053 N, 135.335 W\n",
    "\n",
    "# Population (2010)\n",
    "8,881 Inhabitants, the source of this estimate can be found at <a href=\"https://www.census.gov/quickfacts/fact/table/sitkacityandboroughalaskacounty/POP010210\" target=\"_blank\">this link</a>\n",
    "\n",
    "# Sitka National Historic Park\n",
    "![107-acre park and native home to the Tlingit community of the early 1800's.](https://www.nps.gov/npgallery/GetAsset/334187BD-1DD8-B71C-07F79F9D9F9E416D/proxy/hires?)"
   ]
  }
 ],
 "metadata": {
  "kernelspec": {
   "display_name": "Python 3",
   "language": "python",
   "name": "python3"
  },
  "language_info": {
   "codemirror_mode": {
    "name": "ipython",
    "version": 3
   },
   "file_extension": ".py",
   "mimetype": "text/x-python",
   "name": "python",
   "nbconvert_exporter": "python",
   "pygments_lexer": "ipython3",
   "version": "3.7.8"
  }
 },
 "nbformat": 4,
 "nbformat_minor": 4
}
