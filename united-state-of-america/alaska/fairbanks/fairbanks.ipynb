{
 "cells": [
  {
   "cell_type": "markdown",
   "metadata": {},
   "source": [
    "##  Lat/Long\n",
    "\n",
    "64.8378° N, 147.7164° W"
   ]
  },
  {
   "cell_type": "markdown",
   "metadata": {},
   "source": [
    "## Population\n",
    "\n",
    "<a href=\"https://en.wikipedia.org/wiki/Fairbanks,_Alaska\" target=\"_blank\">31,535</a>"
   ]
  },
  {
   "cell_type": "markdown",
   "metadata": {},
   "source": [
    "## Poker Flats Research Range\n",
    "\n",
    "![PFFR](https://assets.simpleviewinc.com/simpleview/image/upload/c_limit,h_1200,q_75,w_1200/v1/clients/fairbanks/TP_15_4434_154_66fd2533-90ed-4c52-878e-fbd691e8f5b3.jpg)\n",
    "\n",
    "The Poker Flat Research Range (PFRR) is a launch facility and rocket range for sounding rockets in the U.S. state of Alaska. The world's largest land-based rocket range, it is on a 5,132-acre (20.77 km2) site about 30 miles (50 km) northeast of Fairbanks and 1.5 degrees south of the Arctic Circle."
   ]
  }
 ],
 "metadata": {
  "kernelspec": {
   "display_name": "Python 3",
   "language": "python",
   "name": "python3"
  },
  "language_info": {
   "codemirror_mode": {
    "name": "ipython",
    "version": 3
   },
   "file_extension": ".py",
   "mimetype": "text/x-python",
   "name": "python",
   "nbconvert_exporter": "python",
   "pygments_lexer": "ipython3",
   "version": "3.7.6"
  }
 },
 "nbformat": 4,
 "nbformat_minor": 2
}
