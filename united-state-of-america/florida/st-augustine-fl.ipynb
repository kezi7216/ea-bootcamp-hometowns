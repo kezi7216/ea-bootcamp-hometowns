{
 "cells": [
  {
   "cell_type": "markdown",
   "metadata": {},
   "source": [
    "# **St. Augustine, Florida - United States of America**"
   ]
  },
  {
   "cell_type": "markdown",
   "metadata": {},
   "source": [
    "### Coordinates: 29.9012° N 81.3124° W"
   ]
  },
  {
   "cell_type": "markdown",
   "metadata": {},
   "source": [
    "### Population: 15,415 [Source](https://www.census.gov/quickfacts/staugustinecityflorida)"
   ]
  },
  {
   "cell_type": "markdown",
   "metadata": {},
   "source": [
    "### Landmark: Historic District\n",
    "\n",
    "![Colonial Quarter](https://cdn.thecrazytourist.com/wp-content/uploads/2019/02/ccimage-shutterstock_1238264281.jpg)\n",
    "\n",
    "Founded in 1565 by the Spanish conquistador Pedro Menéndez de Avilés, St. Augustine is the oldest continuously occupied settlement of European origin in the contiguous United States. It is the second-oldest continuously inhabited city of European origin in United States territory after San Juan, Puerto Rico (founded in 1521). [Source](https://en.wikipedia.org/wiki/St._Augustine,_Florida) \n",
    "\n",
    "The Historic Downtown is the oldest part of the city with many buildings dating back to the 1700s — and with streets that have existed from long before that —combine to create a walkable city obviously designed with old European concepts. [Source](https://www.visitstaugustine.com/regions/historic-downtown)"
   ]
  }
 ],
 "metadata": {
  "kernelspec": {
   "display_name": "Python 3",
   "language": "python",
   "name": "python3"
  },
  "language_info": {
   "codemirror_mode": {
    "name": "ipython",
    "version": 3
   },
   "file_extension": ".py",
   "mimetype": "text/x-python",
   "name": "python",
   "nbconvert_exporter": "python",
   "pygments_lexer": "ipython3",
   "version": "3.8.5"
  }
 },
 "nbformat": 4,
 "nbformat_minor": 4
}
