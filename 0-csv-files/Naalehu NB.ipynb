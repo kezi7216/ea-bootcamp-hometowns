{
 "cells": [
  {
   "cell_type": "code",
   "execution_count": 10,
   "id": "74648df2",
   "metadata": {},
   "outputs": [
    {
     "name": "stdout",
     "output_type": "stream",
     "text": [
      "united-states-hawaii2\n"
     ]
    }
   ],
   "source": [
    "%%bash\n",
    "ls united-states-hawaii2\n"
   ]
  },
  {
   "cell_type": "markdown",
   "id": "ebab3387",
   "metadata": {},
   "source": [
    "# Location \n",
    "19.06133,-155.5827\n",
    "\n",
    "# Population \n",
    "944 according to the [the US Census](https://census.hawaii.gov/home/population-estimate/)\n",
    "\n",
    "\n",
    "# Landmark\n",
    "Add image and short text about this landmark\n",
    "![Ka Lae is the southernmost point of the US](https://media.istockphoto.com/photos/ka-lae-or-south-point-on-the-big-island-of-hawaii-overlooking-the-picture-id1091571530?k=6&m=1091571530&s=170667a&w=0&h=y9eSLTmS-ZIrdRuSWMgf0PgNO9gZCkAerN6ZUKc9l5U=)"
   ]
  },
  {
   "cell_type": "code",
   "execution_count": null,
   "id": "e438c135",
   "metadata": {},
   "outputs": [],
   "source": [
    "# When this is all create to hit git status\n",
    "# A CSV file should be added to a Hawaii directory\n",
    "# git add .\n",
    "# git status\n",
    "# git commit\n",
    "\n"
   ]
  }
 ],
 "metadata": {
  "kernelspec": {
   "display_name": "Python 3 (ipykernel)",
   "language": "python",
   "name": "python3"
  },
  "language_info": {
   "codemirror_mode": {
    "name": "ipython",
    "version": 3
   },
   "file_extension": ".py",
   "mimetype": "text/x-python",
   "name": "python",
   "nbconvert_exporter": "python",
   "pygments_lexer": "ipython3",
   "version": "3.8.13"
  },
  "varInspector": {
   "cols": {
    "lenName": 16,
    "lenType": 16,
    "lenVar": 40
   },
   "kernels_config": {
    "python": {
     "delete_cmd_postfix": "",
     "delete_cmd_prefix": "del ",
     "library": "var_list.py",
     "varRefreshCmd": "print(var_dic_list())"
    },
    "r": {
     "delete_cmd_postfix": ") ",
     "delete_cmd_prefix": "rm(",
     "library": "var_list.r",
     "varRefreshCmd": "cat(var_dic_list()) "
    }
   },
   "types_to_exclude": [
    "module",
    "function",
    "builtin_function_or_method",
    "instance",
    "_Feature"
   ],
   "window_display": true
  }
 },
 "nbformat": 4,
 "nbformat_minor": 5
}
