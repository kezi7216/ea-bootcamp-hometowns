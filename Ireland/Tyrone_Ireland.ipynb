{
 "cells": [
  {
   "cell_type": "markdown",
   "metadata": {},
   "source": [
    "# County Tyrone, Ireland\n",
    "\n",
    "### 54.600°N, -7.298°E (City Omagh)\n",
    "\n",
    "### Population: 177,986 (2011) [_Data Source_](https://en.wikipedia.org/wiki/County_Tyrone)\n",
    "\n",
    "### Landmark: Beaghmore Stone Circles\n",
    "![image](https://assets.simpleview-europe.com/northernireland/imageresizer/?image=%2Fdmsimgs%2F3E2BCF4750B2B0E080246F17094D20A34FB13CF6.jpg&action=ProductDetailImage)\n",
    "\n",
    "Discovered during peat cutting in the 1940s the site at Beaghmore consists of 7 stone circles. All of the rings are associated with cairns and a stone row runs towards these cairns.\n",
    "\n",
    "It is possible that Neolithic occupation and cultivation preceded the erection of burial cairns and ceremonial circles and alignments: some irregular lines and heaps of boulders resembling field-fences or field-clearance may predate the ritual structures. At some stage peat started to form over the site, and it may conceivably be that the cairns and rows were erected in a futile propitiatory attempt to restore fertility to the soil by attracting back the fading sun.\n",
    "\n",
    "[_Image and Text Source_](http://www.travelwkly.com/wp-content/uploads/2016/12/Science-World.jpghttps://discovernorthernireland.com/things-to-do/beaghmore-stone-circles-p675781)"
   ]
  }
 ],
 "metadata": {
  "kernelspec": {
   "display_name": "Python 3",
   "language": "python",
   "name": "python3"
  },
  "language_info": {
   "codemirror_mode": {
    "name": "ipython",
    "version": 3
   },
   "file_extension": ".py",
   "mimetype": "text/x-python",
   "name": "python",
   "nbconvert_exporter": "python",
   "pygments_lexer": "ipython3",
   "version": "3.7.8"
  }
 },
 "nbformat": 4,
 "nbformat_minor": 4
}
