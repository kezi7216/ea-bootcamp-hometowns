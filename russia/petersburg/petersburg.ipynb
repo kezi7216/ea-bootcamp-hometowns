{
 "cells": [
  {
   "cell_type": "markdown",
   "id": "dc06f799",
   "metadata": {},
   "source": [
    "## Location\n",
    "59.9311° N, 30.3609° E\n",
    "## Population\n",
    "5,384,342 [source](https://en.wikipedia.org/wiki/Demographics_of_Saint_Petersburg)\n",
    "## Landmark\n",
    "St. Isaac cathedral is large architectural landmark that currently functions as a museum with occasional church services\n",
    "![landmark](https://cms.finnair.com/resource/blob/986716/a4beb0396ffd400274745afef11b1366/st-petersburg-main-winter-data.jpg?impolicy=crop&width=2000&height=2000&x=498&y=0&imwidth=768)"
   ]
  },
  {
   "cell_type": "code",
   "execution_count": null,
   "id": "4b260a8e",
   "metadata": {},
   "outputs": [],
   "source": []
  }
 ],
 "metadata": {
  "kernelspec": {
   "display_name": "Python 3 (ipykernel)",
   "language": "python",
   "name": "python3"
  },
  "language_info": {
   "codemirror_mode": {
    "name": "ipython",
    "version": 3
   },
   "file_extension": ".py",
   "mimetype": "text/x-python",
   "name": "python",
   "nbconvert_exporter": "python",
   "pygments_lexer": "ipython3",
   "version": "3.8.10"
  }
 },
 "nbformat": 4,
 "nbformat_minor": 5
}
