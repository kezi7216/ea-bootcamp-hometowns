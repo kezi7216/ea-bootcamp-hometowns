{
 "cells": [
  {
   "cell_type": "markdown",
   "id": "5c6a3512",
   "metadata": {},
   "source": [
    "# Location\n",
    "\n",
    "55.751244N, 37.618423E"
   ]
  },
  {
   "cell_type": "markdown",
   "id": "cad9bb46",
   "metadata": {},
   "source": [
    "# Population\n",
    "\n",
    "12,640,818 according to the [World Population Review](https://worldpopulationreview.com/world-cities/moscow-population)\n",
    "\n"
   ]
  },
  {
   "cell_type": "markdown",
   "id": "8b9b6482",
   "metadata": {},
   "source": [
    "# Landmark\n",
    "\n",
    "Lomonosov Moscow State University (MGU) was established in 1755 and has more than 40,000 students. It is considered one of the oldest universities in Russia. The main university building is a part of \"Stalin's Seven Sisters\", a group of Moscow skyscrapers built in the Empire style of architecture.\n",
    "\n",
    "![Lomonosov Moscow State University](https://phototass1.cdnvideo.ru/width/1020_b9261fa1/tass/m2/en/uploads/i/20190619/1223730.jpg)"
   ]
  }
 ],
 "metadata": {
  "kernelspec": {
   "display_name": "Python 3 (ipykernel)",
   "language": "python",
   "name": "python3"
  },
  "language_info": {
   "codemirror_mode": {
    "name": "ipython",
    "version": 3
   },
   "file_extension": ".py",
   "mimetype": "text/x-python",
   "name": "python",
   "nbconvert_exporter": "python",
   "pygments_lexer": "ipython3",
   "version": "3.8.13"
  }
 },
 "nbformat": 4,
 "nbformat_minor": 5
}
