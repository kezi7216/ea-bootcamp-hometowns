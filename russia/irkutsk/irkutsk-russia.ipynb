{
 "cells": [
  {
   "cell_type": "markdown",
   "id": "ff3c4b47",
   "metadata": {},
   "source": [
    "# Location\n",
    "\n",
    "52.286974N, 104.305018E"
   ]
  },
  {
   "cell_type": "markdown",
   "id": "1a507dc9",
   "metadata": {},
   "source": [
    "# Population\n",
    "\n",
    "643,796 according to the [World Population Review](https://worldpopulationreview.com/world-cities/irkutsk-population)"
   ]
  },
  {
   "cell_type": "markdown",
   "id": "97c06b1e",
   "metadata": {},
   "source": [
    "# Landmark\n",
    "\n",
    "Irkutsk is located on the Angara river near Lake Baikal. Situated in south-east Siberia, the 3.15-million-ha Lake Baikal is the oldest (25 million years) and deepest (1,642 m) lake in the world. It contains 20% of the world's total unfrozen freshwater reserve.\n",
    "![Lake Baikal](https://www.10wallpaper.com/wallpaper/1366x768/1510/Russian_Lake_Baikal_Landscape_wallpaper_10_1366x768.jpg)"
   ]
  }
 ],
 "metadata": {
  "kernelspec": {
   "display_name": "Python 3 (ipykernel)",
   "language": "python",
   "name": "python3"
  },
  "language_info": {
   "codemirror_mode": {
    "name": "ipython",
    "version": 3
   },
   "file_extension": ".py",
   "mimetype": "text/x-python",
   "name": "python",
   "nbconvert_exporter": "python",
   "pygments_lexer": "ipython3",
   "version": "3.8.13"
  }
 },
 "nbformat": 4,
 "nbformat_minor": 5
}
