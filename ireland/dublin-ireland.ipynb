{
 "cells": [
  {
   "cell_type": "markdown",
   "metadata": {},
   "source": [
    "# Dublin"
   ]
  },
  {
   "cell_type": "markdown",
   "metadata": {},
   "source": [
    "### Location \n",
    "53.3498° N, 6.2603° W"
   ]
  },
  {
   "cell_type": "markdown",
   "metadata": {},
   "source": [
    "### Population\n",
    "The population of the Dublin metropolitan area is 1.9 million. This is approximately 45% of the population of the Republic of Ireland. ([Citation](https://www.dublinchamber.ie/business-agenda/economic-profile-of-dublin))"
   ]
  },
  {
   "attachments": {},
   "cell_type": "markdown",
   "metadata": {},
   "source": [
    "### Landmark:\n",
    "##### Croke Park\n",
    "Croke Park is the national stadium of Ireland. It is home to the championship matches of Ireland's national sports: gaelic football and hurling. It is one of the largest stadiums in Europe. Not only is it an important cultural venue for gaelic sports, it is important historical location as well. It was the site of the Bloody Sunday Massacre in 1920, in which British soldiers opened fire on spectators watching gaelic football. ![image.png](https://media-cdn.tripadvisor.com/media/photo-s/01/9d/7c/d7/aerial-view-of-stadium.jpg)"
   ]
  },
  {
   "cell_type": "code",
   "execution_count": null,
   "metadata": {},
   "outputs": [],
   "source": []
  }
 ],
 "metadata": {
  "kernelspec": {
   "display_name": "Python 3",
   "language": "python",
   "name": "python3"
  },
  "language_info": {
   "codemirror_mode": {
    "name": "ipython",
    "version": 3
   },
   "file_extension": ".py",
   "mimetype": "text/x-python",
   "name": "python",
   "nbconvert_exporter": "python",
   "pygments_lexer": "ipython3",
   "version": "3.7.8"
  }
 },
 "nbformat": 4,
 "nbformat_minor": 4
}
