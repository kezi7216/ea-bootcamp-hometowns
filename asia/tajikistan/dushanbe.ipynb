{
 "cells": [
  {
   "cell_type": "markdown",
   "metadata": {},
   "source": [
    "# Lat/Long\n",
    "\n",
    "38.5598° N, 68.7870° E"
   ]
  },
  {
   "cell_type": "markdown",
   "metadata": {},
   "source": [
    "# Population\n",
    "\n",
    "[863,400](https://en.wikipedia.org/wiki/Dushanbe)"
   ]
  },
  {
   "cell_type": "markdown",
   "metadata": {},
   "source": [
    "# Local Landmark: Dushanbe Friendship Center\n",
    "\n",
    "![EnglishCenter](https://static.wixstatic.com/media/4a0702_0cc23869bb4e454b9befd9c2080ea725~mv2.png/v1/fill/w_761,h_528,al_c,lg_1/Screen%20Shot%202020-05-07%20at%2017_52_20.png)\n",
    "\n",
    "The Dushanbe Friendship Center is an English language center and cyber cafe gifted to the city of Dushanbe by the city of Boulder, Colorado. In return, Dushanbe gifted Boulder a traditional teahouse, now known as the Boulder Dushanbe Teahouse. The Dushanbe Friendship Center stands in stark contrast to the soviet block buildings around it, its architecure a familiar Colorado style, including solar panels. High school and college students come from around Dushanbe for English instruction, discussion groups, and special events. "
   ]
  }
 ],
 "metadata": {
  "kernelspec": {
   "display_name": "Python 3 (ipykernel)",
   "language": "python",
   "name": "python3"
  },
  "language_info": {
   "codemirror_mode": {
    "name": "ipython",
    "version": 3
   },
   "file_extension": ".py",
   "mimetype": "text/x-python",
   "name": "python",
   "nbconvert_exporter": "python",
   "pygments_lexer": "ipython3",
   "version": "3.8.10"
  },
  "toc": {
   "base_numbering": 1,
   "nav_menu": {},
   "number_sections": true,
   "sideBar": true,
   "skip_h1_title": false,
   "title_cell": "Table of Contents",
   "title_sidebar": "Contents",
   "toc_cell": false,
   "toc_position": {},
   "toc_section_display": true,
   "toc_window_display": false
  }
 },
 "nbformat": 4,
 "nbformat_minor": 4
}
