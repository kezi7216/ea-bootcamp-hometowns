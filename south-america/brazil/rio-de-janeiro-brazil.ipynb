{
 "cells": [
  {
   "cell_type": "markdown",
   "id": "0564b480",
   "metadata": {},
   "source": [
    "## Location\n",
    "22.9068° S, 43.1729° W\n",
    "## Population\n",
    "Municipality = 6 million, Urban area = 13.4 million\n",
    "## Landmark\n",
    "![Botafogo and Red Beach area](images/rio-de-janeiro.webp)"
   ]
  },
  {
   "cell_type": "code",
   "execution_count": null,
   "id": "1c544b75",
   "metadata": {},
   "outputs": [],
   "source": []
  }
 ],
 "metadata": {
  "kernelspec": {
   "display_name": "Python 3 (ipykernel)",
   "language": "python",
   "name": "python3"
  },
  "language_info": {
   "codemirror_mode": {
    "name": "ipython",
    "version": 3
   },
   "file_extension": ".py",
   "mimetype": "text/x-python",
   "name": "python",
   "nbconvert_exporter": "python",
   "pygments_lexer": "ipython3",
   "version": "3.8.10"
  }
 },
 "nbformat": 4,
 "nbformat_minor": 5
}
