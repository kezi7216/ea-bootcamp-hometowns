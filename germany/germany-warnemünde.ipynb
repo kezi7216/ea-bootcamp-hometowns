{
 "cells": [
  {
   "cell_type": "markdown",
   "id": "42a329e7",
   "metadata": {},
   "source": [
    "## Warnemünde, Germany Location:\n",
    "54.1703° N, 12.0784° E\n",
    "## Population:\n",
    "8,441 people\n",
    "\n",
    "Warnemünde, Germany population can be found at <a href=\"https://www.aznations.com/population/de/cities/warnemunde\" target=\"_blank\">this link</a>.\n",
    "## Popular Land Mark: Warnemünde Lighthouse\n",
    "This lighthouse is located in the city center of Warnemünde near the beach and attracts many tourists. Each year a large lighthouse show with laser light and music is celebrated on New Year's Day. The event is called \"Lighthouse in Flames\", and attracts around 10,000 people.\n",
    "![Warnemünde Lighthouse](https://www.rostock.de/files/bilder/kultur/turmleuchten/turmleuchten-2015-04-joachim-kloock.jpg)"
   ]
  },
  {
   "cell_type": "code",
   "execution_count": null,
   "id": "a5ec8e4f",
   "metadata": {},
   "outputs": [],
   "source": []
  }
 ],
 "metadata": {
  "kernelspec": {
   "display_name": "Python 3",
   "language": "python",
   "name": "python3"
  },
  "language_info": {
   "codemirror_mode": {
    "name": "ipython",
    "version": 3
   },
   "file_extension": ".py",
   "mimetype": "text/x-python",
   "name": "python",
   "nbconvert_exporter": "python",
   "pygments_lexer": "ipython3",
   "version": "3.9.5"
  }
 },
 "nbformat": 4,
 "nbformat_minor": 5
}
