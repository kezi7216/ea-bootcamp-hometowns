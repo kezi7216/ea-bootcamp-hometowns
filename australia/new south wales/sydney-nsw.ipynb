{
 "cells": [
  {
   "cell_type": "markdown",
   "metadata": {},
   "source": [
    "## Latitute /Longitude of Sydney, New South Wales, Australia:\n",
    "\n",
    "33.8688° S, 151.2093° E"
   ]
  },
  {
   "cell_type": "markdown",
   "metadata": {},
   "source": [
    "## Population\n",
    "\n",
    "<a href=\"https://itt.abs.gov.au/itt/r.jsp?RegionSummary&region=1GSYD&dataset=ABS_REGIONAL_ASGS2016&geoconcept=ASGS_2016&measure=MEASURE&datasetASGS=ABS_REGIONAL_ASGS2016&datasetLGA=ABS_REGIONAL_LGA2019&regionLGA=LGA_2019&regionASGS=ASGS_2016\" target=\"_blank\"> 5,230,330</a>"
   ]
  },
  {
   "cell_type": "markdown",
   "metadata": {},
   "source": [
    "## Queen Victoria Building\n",
    "![Queen Victoria Building](https://assets.atdw-online.com.au/images/b0626037ee88dfda3a8af01c5ec1f390.jpeg)\n",
    "\n",
    "The Queen Victoria Building in Sydney, New South Wales is a Heritage listed iconic building in the centre of the city that was constructed in the 1890s.\n"
   ]
  }
 ],
 "metadata": {
  "kernelspec": {
   "display_name": "Python 3",
   "language": "python",
   "name": "python3"
  },
  "language_info": {
   "codemirror_mode": {
    "name": "ipython",
    "version": 3
   },
   "file_extension": ".py",
   "mimetype": "text/x-python",
   "name": "python",
   "nbconvert_exporter": "python",
   "pygments_lexer": "ipython3",
   "version": "3.8.5"
  }
 },
 "nbformat": 4,
 "nbformat_minor": 4
}
