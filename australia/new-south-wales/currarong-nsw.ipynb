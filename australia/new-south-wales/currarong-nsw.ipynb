{
 "cells": [
  {
   "cell_type": "markdown",
   "metadata": {},
   "source": [
    "# Currarong in NSW, Australia:\n",
    "### Latitude and Longitude:\n",
    "\n",
    "35.0167° S, 150.8167° E "
   ]
  },
  {
   "cell_type": "markdown",
   "metadata": {},
   "source": [
    "### Population: \n",
    "452 <a href=\"https://quickstats.censusdata.abs.gov.au/census_services/getproduct/census/2016/quickstat/SSC11176\" target=\"_blank\">source (2016)</a>."
   ]
  },
  {
   "cell_type": "markdown",
   "metadata": {},
   "source": [
    "### Currarong Rock Pool\n",
    "![Aerial shot Currarong.](http://currarongrealestate.com.au/wp-content/themes/cre-theme/img/currarong-2015.jpg)\n",
    "![Currarong rock pool.](https://www.weekendnotes.com/im/001/06/wreck-walk-currarong11.jpg)\n",
    "\n",
    "Currarong is a small coastal fishing and tourist village in the Shoalhaven area of New South Wales, ~ 3 hours drive south of Sydney within the Jervis Bay Marine Park.\n",
    "\n",
    "Even though it is surrounded by 14 beautiful white sand beaches, Currarong is famous for its rock pool. The rock pool is formed within rifted Permian glacial deposits. Its a perfect place for a relaxing swim, you can almost do laps at high tide as the main pool measures 20-30m long and 3-4m wide. "
   ]
  },
  {
   "cell_type": "code",
   "execution_count": null,
   "metadata": {},
   "outputs": [],
   "source": []
  }
 ],
 "metadata": {
  "kernelspec": {
   "display_name": "Python 3",
   "language": "python",
   "name": "python3"
  },
  "language_info": {
   "codemirror_mode": {
    "name": "ipython",
    "version": 3
   },
   "file_extension": ".py",
   "mimetype": "text/x-python",
   "name": "python",
   "nbconvert_exporter": "python",
   "pygments_lexer": "ipython3",
   "version": "3.8.5"
  }
 },
 "nbformat": 4,
 "nbformat_minor": 4
}
