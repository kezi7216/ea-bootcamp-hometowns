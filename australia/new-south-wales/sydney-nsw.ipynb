{
 "cells": [
  {
   "cell_type": "markdown",
   "metadata": {},
   "source": [
    "# Sydney, NSW, Australia\n",
    "### Latitude and Longitude:\n",
    "\n",
    "33.8688° S, 151.2093° E"
   ]
  },
  {
   "cell_type": "markdown",
   "metadata": {},
   "source": [
    "### Population: \n",
    "5,312,163 <a href=\"https://www.abs.gov.au/statistics/people/population/regional-population/latest-release#new-south-wales\" target=\"_blank\">source (2019)</a>."
   ]
  },
  {
   "cell_type": "markdown",
   "metadata": {},
   "source": [
    "### Sydney Opera House\n",
    "\n",
    "![Sydney Opera House.](https://www.celebritycruises-hk.com/wp-content/uploads/2018/06/CEL_Australia_Sydney_59.jpg)\n",
    "\n",
    "The land on which the Sydney Opera House stands was known to its traditional custodians, the Gadigal people of the Eora Nation, as Tubowgule, meaning \"where the knowledge waters meet.\"\n",
    "\n",
    "The Sydney Opera House is a multi-venue performing arts centre at Sydney Harbour in Sydney, New South Wales, Australia. Designed by Danish architect Jørn Utzon, winner of SOH international design competition (1957). \n",
    "\n",
    "It is one of the 20th century's most famous and distinctive buildings. On 28 June 2007, the Sydney Opera House became a UNESCO World Heritage Site.\n",
    "\n",
    "One of the most popular visitor attractions in Australia, its visited by more than eight million people annually. The building comprises multiple performance venues, which together host well over 1,500 performances annually, attended by more than 1.2 million people. Performances are presented by numerous performing artists, including three resident companies: Opera Australia, the Sydney Theatre Company and the Sydney Symphony Orchestra."
   ]
  },
  {
   "cell_type": "code",
   "execution_count": null,
   "metadata": {},
   "outputs": [],
   "source": []
  }
 ],
 "metadata": {
  "kernelspec": {
   "display_name": "Python 3",
   "language": "python",
   "name": "python3"
  },
  "language_info": {
   "codemirror_mode": {
    "name": "ipython",
    "version": 3
   },
   "file_extension": ".py",
   "mimetype": "text/x-python",
   "name": "python",
   "nbconvert_exporter": "python",
   "pygments_lexer": "ipython3",
   "version": "3.8.5"
  }
 },
 "nbformat": 4,
 "nbformat_minor": 4
}
